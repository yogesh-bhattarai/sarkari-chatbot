{
 "cells": [
  {
   "cell_type": "code",
   "metadata": {
    "colab": {
     "base_uri": "https://localhost:8080/"
    },
    "id": "lYmsMnJRCnkN",
    "outputId": "055d1a89-9b05-4948-a888-866ca59ef51f",
    "ExecuteTime": {
     "end_time": "2024-11-22T07:48:33.155637Z",
     "start_time": "2024-11-22T07:46:13.669975Z"
    }
   },
   "source": [
    "!pip -qqq install pip\n",
    "!pip -qqq install langchain-groq==0.1.3\n",
    "!pip -qqq install langchain==0.1.17\n",
    "!pip -qqq install llama-parse==0.1.3\n",
    "!pip -qqq install qdrant-client==1.9.1 \n",
    "!pip -qqq install \"unstructured[md]\"\n",
    "!pip -qqq install fastembed==0.2.7\n",
    "!pip -qqq install flashrank==0.2.4 "
   ],
   "outputs": [
    {
     "name": "stderr",
     "output_type": "stream",
     "text": [
      "ERROR: pip's dependency resolver does not currently take into account all the packages that are installed. This behaviour is the source of the following dependency conflicts.\n",
      "langchain-huggingface 0.0.3 requires huggingface-hub>=0.23.0, but you have huggingface-hub 0.20.3 which is incompatible.\n",
      "langchain-huggingface 0.0.3 requires tokenizers>=0.19.1, but you have tokenizers 0.15.2 which is incompatible.\n",
      "transformers 4.46.2 requires huggingface-hub<1.0,>=0.23.2, but you have huggingface-hub 0.20.3 which is incompatible.\n",
      "transformers 4.46.2 requires tokenizers<0.21,>=0.20, but you have tokenizers 0.15.2 which is incompatible.\n",
      "ERROR: Could not build wheels for llama-cpp-python, which is required to install pyproject.toml-based projects\n"
     ]
    }
   ],
   "execution_count": 1
  },
  {
   "cell_type": "code",
   "metadata": {
    "id": "Z1AjKN0GEIXA",
    "ExecuteTime": {
     "end_time": "2024-11-22T07:48:54.713652Z",
     "start_time": "2024-11-22T07:48:38.505318Z"
    }
   },
   "source": [
    "import os\n",
    "import textwrap\n",
    "import asyncio\n",
    "from pathlib import Path\n",
    "\n",
    "#from google.colab import userdata\n",
    "from IPython.display import Markdown\n",
    "from langchain.chains import RetrievalQA\n",
    "from langchain.prompts import PromptTemplate\n",
    "from langchain.retrievers import ContextualCompressionRetriever\n",
    "from langchain.retrievers.document_compressors import FlashrankRerank\n",
    "from langchain.text_splitter import RecursiveCharacterTextSplitter\n",
    "from langchain.vectorstores import Qdrant\n",
    "from langchain_community.document_loaders import UnstructuredMarkdownLoader\n",
    "from langchain_community.embeddings.fastembed import FastEmbedEmbeddings\n",
    "from langchain_core.prompts import ChatPromptTemplate\n",
    "from langchain_groq import ChatGroq\n",
    "from llama_parse import LlamaParse\n",
    "\n",
    "os.environ[\"GROQ_API_KEY\"] =(\"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\")\n",
    "\n",
    "\n",
    "def print_response(response):\n",
    "    response_txt = response[\"result\"]\n",
    "    for chunk in response_txt.split(\"\\n\"):\n",
    "        if not chunk:\n",
    "            print()\n",
    "            continue\n",
    "        print(\"\\n\".join(textwrap.wrap(chunk, 100, break_long_words=False)))"
   ],
   "outputs": [],
   "execution_count": 2
  },
  {
   "cell_type": "code",
   "metadata": {
    "ExecuteTime": {
     "end_time": "2024-11-22T07:49:08.501099Z",
     "start_time": "2024-11-22T07:49:08.488699Z"
    }
   },
   "source": [
    "async def load_document(file_path):\n",
    "    llama_parse_documents = await parser.aload_data(file_path)\n",
    "    return llama_parse_documents\n",
    "file_path = \"./data/sarkari chatbot.pdf\""
   ],
   "outputs": [],
   "execution_count": 3
  },
  {
   "cell_type": "code",
   "metadata": {
    "colab": {
     "base_uri": "https://localhost:8080/"
    },
    "id": "oMA5Se7MFaZW",
    "outputId": "17252921-ae3f-41ff-a96b-e6aa8076fb2e",
    "ExecuteTime": {
     "end_time": "2024-11-22T08:34:09.920889Z",
     "start_time": "2024-11-22T08:34:01.862606Z"
    }
   },
   "source": [
    "import os\n",
    "from llama_parse import LlamaParse\n",
    "from IPython.display import Markdown\n",
    "import nest_asyncio\n",
    "import asyncio\n",
    "\n",
    "# Allow nested asyncio loops (for Jupyter and similar environments)\n",
    "nest_asyncio.apply()\n",
    "\n",
    "# Set the API key\n",
    "os.environ[\"LLAMA_PARSE\"] = \"llx-8k3jeCf570YjQQLz5qaMXinq8ZJgVOugf5C4397sAnn6UJxd\"\n",
    "\n",
    "# Instruction for parsing\n",
    "instruction = \"\"\"This PDF is about rules for getting citizenship in Nepal.\n",
    "It gives detailed information and cases for citizenship. \n",
    "Try to be very precise while answering the questions, give answers in very short.\"\"\"\n",
    "\n",
    "# Initialize the parser\n",
    "parser = LlamaParse(\n",
    "    api_key=\"llx-8k3jeCf570YjQQLz5qaMXinq8ZJgVOugf5C4397sAnn6UJxd\",\n",
    "    result_type=\"markdown\",\n",
    "    parsing_instruction=instruction,\n",
    "    max_timeout=5000,\n",
    ")\n",
    "\n",
    "# Asynchronous function for parsing\n",
    "async def parse_document(file_path):\n",
    "    print(\"Parsing document...\")\n",
    "    llama_parse_documents = await parser.aload_data(file_path)\n",
    "    print(\"Parsed documents successfully!\")\n",
    "    return llama_parse_documents\n",
    "\n",
    "# Main code execution\n",
    "file_path = \"./data/sarkari chatbot.pdf\"  # Replace with the actual path to your file\n",
    "\n",
    "# Use asyncio to run the parse_document function\n",
    "parsed_documents = asyncio.run(parse_document(file_path))\n",
    "\n",
    "# Access the first parsed document\n",
    "if parsed_documents:\n",
    "    parsed_doc = parsed_documents[0]  # Get the first parsed document\n",
    "    print(\"First document text preview:\")\n",
    "    print(parsed_doc.text[:4096])  # Preview the first 4096 characters\n",
    "    Markdown(parsed_doc.text[:4096])  # Render in Jupyter Notebook if needed\n",
    "else:\n",
    "    print(\"No documents were parsed.\")\n"
   ],
   "outputs": [
    {
     "name": "stdout",
     "output_type": "stream",
     "text": [
      "Parsing document...\n",
      "Started parsing the file under job_id 43d1c7b1-7218-4a1c-a1bf-1fc2dcb967a7\n",
      "Parsed documents successfully!\n",
      "First document text preview:\n",
      "# Nepal Citizenship Act, 2063\n",
      "\n",
      "Date of authentication and publication: 2063.8.10\n",
      "\n",
      "# Act to amend\n",
      "\n",
      "1. Act to amend certain Nepal Acts, 2064 2064.5.9\n",
      "2. Act to amend some Nepal Acts, 2072 2072.11.13\n",
      "\n",
      "2063 Act No. 25\n",
      "\n",
      "# An Act to amend and unify Nepal's laws related to citizenship\n",
      "\n",
      "Foreword: As a result of the historical people's movement, the sovereignty of Nepal is vested in the Nepali people and the source of state power is the Nepali people. Realizing the situation in which Nepalese citizens are facing difficulties in the past due to their inability to obtain citizenship certificates, the House of Representatives made a resolution to solve the citizenship-related problems within the state of Nepal as soon as possible, 2063. Based on the political agreement reached on 22nd Kartik, it is desirable to timely amend and unify the existing legal system to arrange the acquisition, termination and other related matters of Nepalese citizenship.\n",
      "\n",
      "The House of Representatives made this Act in the first year after the Declaration of the House of Representatives, 2063 was issued.\n",
      "\n",
      "# 1. Abbreviation and Commencement:\n",
      "\n",
      "1. (1) The name of this Act is “Nepal Citizenship Act, 2063”.\n",
      "2. (2) This Act shall come into force immediately.\n",
      "\n",
      "# 2. Definition:\n",
      "\n",
      "In this Act, unless the subject or context requires otherwise:\n",
      "\n",
      "1. (a) \"Minor\" means a person who has not completed sixteen years of age.\n",
      "2. (b) \"Person\" means a natural person.\n",
      "3. (c) \"Prescribed\" or \"as prescribed\" means prescribed or prescribed in the rules made under this Act.\n",
      "\n",
      "# 3. Acquisition of Nepalese citizenship by descent:\n",
      "\n",
      "1. (1) If a person's father or mother is a citizen of Nepal at the time of his birth, such a person shall be a citizen of Nepal by descent.\n",
      "2. (2) Notwithstanding anything written in sub-section (1), in the case of children born to a Nepali citizen woman who marries a foreign citizen, it shall be in accordance with sub-section (2) of section 5.\n",
      "3. (3) Every minor who does not have a paternal and maternal address found within the borders of Nepal shall be considered a citizen of Nepal as a descendant until his father or mother is found.\n",
      "\n",
      "# 4. Acquisition of Nepalese citizenship by birth:\n",
      "\n",
      "1. (1) A person who was born within the borders of Nepal until the end of Chaitra year 2046 and has been permanently residing in Nepal shall be a citizen of Nepal by birth.\n",
      "---\n",
      "(2) According to sub-section (1), a person who wishes to obtain a certificate of citizenship shall submit an application before the election of the Constituent Assembly and the provision of the certificate of citizenship shall be as prescribed.\n",
      "\n",
      "(3) A person who is unable to submit an application within the time period specified in sub-section (2) due to special reasons may submit an application as prescribed within two years from the date of commencement of this Act.\n",
      "\n",
      "# 5. Acquiring recognized Nepali citizenship:\n",
      "\n",
      "(1) If a foreign woman who is married to a Nepali citizen wants to obtain Nepali citizenship, she must submit an application to the designated authority in the prescribed format. When making such an application, you will also have to submit proof of your marital relationship with a Nepalese citizen and the fact that you have taken action to renounce your foreign citizenship.\n",
      "\n",
      "(2) In the case of children born to a Nepali citizen woman married to a foreign citizen, if he was born in Nepal and resided in Nepal permanently, and based on the citizenship of his father, he has not acquired the citizenship of a foreign country, then he can be granted recognized citizenship as prescribed.\n",
      "\n",
      "(3) In accordance with sub-section (2), a person who wishes to obtain recognized citizenship shall submit an application to the designated authority by attaching the following documents:\n",
      "\n",
      "- (a) Copy of mother's certificate of Nepalese citizenship,\n",
      "- (b) Recommendation of the village or municipality related to the opening of the case of birth and permanent residence in Nepal,\n",
      "- (c) Non-citizenship of any foreign country on the basis of father's citizenship.\n",
      "\n",
      "(4) Among the foreign nationals who have fulfilled the foll\n"
     ]
    }
   ],
   "execution_count": 20
  },
  {
   "cell_type": "code",
   "metadata": {
    "ExecuteTime": {
     "end_time": "2024-11-22T08:30:28.385330Z",
     "start_time": "2024-11-22T08:30:28.314492Z"
    }
   },
   "source": "",
   "outputs": [],
   "execution_count": null
  },
  {
   "cell_type": "code",
   "metadata": {
    "id": "Xwk4BS_rGMUb",
    "ExecuteTime": {
     "end_time": "2024-11-22T08:30:31.137303Z",
     "start_time": "2024-11-22T08:30:31.121165Z"
    }
   },
   "source": "",
   "outputs": [],
   "execution_count": null
  },
  {
   "cell_type": "code",
   "metadata": {
    "colab": {
     "base_uri": "https://localhost:8080/",
     "height": 1000
    },
    "id": "99IJLh2PGNFQ",
    "outputId": "5567eb09-9e49-4e93-8c38-ece22dedd532",
    "ExecuteTime": {
     "end_time": "2024-11-22T07:49:40.421143Z",
     "start_time": "2024-11-22T07:49:40.407805Z"
    }
   },
   "source": "",
   "outputs": [
    {
     "data": {
      "text/plain": [
       "<IPython.core.display.Markdown object>"
      ],
      "text/markdown": "# Nepal Citizenship Act, 2063\n\nDate of authentication and publication: 2063.8.10\n\n# Act to amend\n\n1. Act to amend certain Nepal Acts, 2064 2064.5.9\n2. Act to amend some Nepal Acts, 2072 2072.11.13\n\n2063 Act No. 25\n\n# An Act to amend and unify Nepal's laws related to citizenship\n\nForeword: As a result of the historical people's movement, the sovereignty of Nepal is vested in the Nepali people and the source of state power is the Nepali people. Realizing the situation in which Nepalese citizens are facing difficulties in the past due to their inability to obtain citizenship certificates, the House of Representatives made a resolution to solve the citizenship-related problems within the state of Nepal as soon as possible, 2063. Based on the political agreement reached on 22nd Kartik, it is desirable to timely amend and unify the existing legal system to arrange the acquisition, termination and other related matters of Nepalese citizenship.\n\nThe House of Representatives made this Act in the first year after the Declaration of the House of Representatives, 2063 was issued.\n\n# 1. Abbreviation and Commencement:\n\n1. (1) The name of this Act is “Nepal Citizenship Act, 2063”.\n2. (2) This Act shall come into force immediately.\n\n# 2. Definition:\n\nIn this Act, unless the subject or context requires otherwise:\n\n1. (a) \"Minor\" means a person who has not completed sixteen years of age.\n2. (b) \"Person\" means a natural person.\n3. (c) \"Prescribed\" or \"as prescribed\" means prescribed or prescribed in the rules made under this Act.\n\n# 3. Acquisition of Nepalese citizenship by descent:\n\n1. (1) If a person's father or mother is a citizen of Nepal at the time of his birth, such a person shall be a citizen of Nepal by descent.\n2. (2) Notwithstanding anything written in sub-section (1), in the case of children born to a Nepali citizen woman who marries a foreign citizen, it shall be in accordance with sub-section (2) of section 5.\n3. (3) Every minor who does not have a paternal and maternal address found within the borders of Nepal shall be considered a citizen of Nepal as a descendant until his father or mother is found.\n\n# 4. Acquisition of Nepalese citizenship by birth:\n\n1. (1) A person who was born within the borders of Nepal until the end of Chaitra year 2046 and has been permanently residing in Nepal shall be a citizen of Nepal by birth.\n---\n(2) According to sub-section (1), a person who wishes to obtain a certificate of citizenship shall submit an application before the election of the Constituent Assembly and the provision of the certificate of citizenship shall be as prescribed.\n\n(3) A person who is unable to submit an application within the time period specified in sub-section (2) due to special reasons may submit an application as prescribed within two years from the date of commencement of this Act.\n\n# 5. Acquiring recognized Nepali citizenship:\n\n(1) If a foreign woman who is married to a Nepali citizen wants to obtain Nepali citizenship, she must submit an application to the designated authority in the prescribed format. When making such an application, you will also have to submit proof of your marital relationship with a Nepalese citizen and the fact that you have taken action to renounce your foreign citizenship.\n\n(2) In the case of children born to a Nepali citizen woman married to a foreign citizen, if he was born in Nepal and resided in Nepal permanently, and based on the citizenship of his father, he has not acquired the citizenship of a foreign country, then he can be granted recognized citizenship as prescribed.\n\n(3) In accordance with sub-section (2), a person who wishes to obtain recognized citizenship shall submit an application to the designated authority by attaching the following documents:\n\n- (a) Copy of mother's certificate of Nepalese citizenship,\n- (b) Recommendation of the village or municipality related to the opening of the case of birth and permanent residence in Nepal,\n- (c) Non-citizenship of any foreign country on the basis of father's citizenship.\n\n(4) Among the foreign nationals who have fulfilled the foll"
     },
     "execution_count": 7,
     "metadata": {},
     "output_type": "execute_result"
    }
   ],
   "execution_count": 7
  },
  {
   "cell_type": "code",
   "metadata": {
    "id": "pbDrRg7cGQEU",
    "ExecuteTime": {
     "end_time": "2024-11-22T07:49:48.452245Z",
     "start_time": "2024-11-22T07:49:48.445161Z"
    }
   },
   "source": [
    "document_path = Path(\"data/parsed_document.md\")\n",
    "with document_path.open(\"a\") as f:\n",
    "    f.write(parsed_doc.text)"
   ],
   "outputs": [],
   "execution_count": 8
  },
  {
   "cell_type": "code",
   "metadata": {
    "ExecuteTime": {
     "end_time": "2024-11-22T07:49:50.424306Z",
     "start_time": "2024-11-22T07:49:50.414385Z"
    }
   },
   "source": [
    "from langchain_community.document_loaders import UnstructuredMarkdownLoader\n",
    "from langchain.schema import Document  # Correct import for Document\n"
   ],
   "outputs": [],
   "execution_count": 9
  },
  {
   "cell_type": "code",
   "metadata": {
    "ExecuteTime": {
     "end_time": "2024-11-22T07:49:51.710191Z",
     "start_time": "2024-11-22T07:49:51.569313Z"
    }
   },
   "source": [
    "\n",
    "# Define a function to safely read the file\n",
    "def safe_read_file(file_path, encoding=\"utf-8\", fallback_encoding=\"windows-1252\"):\n",
    "    try:\n",
    "        with open(file_path, \"r\", encoding=encoding) as file:\n",
    "            return file.read()\n",
    "    except UnicodeDecodeError:\n",
    "        # Retry with fallback encoding\n",
    "        with open(file_path, \"r\", encoding=fallback_encoding) as file:\n",
    "            return file.read()\n",
    "\n",
    "# Load the file with encoding handled\n",
    "file_path = \"data/parsed_document.md\"\n",
    "file_content = safe_read_file(file_path)\n",
    "\n",
    "# Create a custom loader to process the content\n",
    "class CustomMarkdownLoader(UnstructuredMarkdownLoader):\n",
    "    def _get_elements(self):\n",
    "        # Directly use the preloaded content\n",
    "        return [Document(page_content=file_content)]\n",
    "\n",
    "# Use the custom loader\n",
    "loader = CustomMarkdownLoader(file_path)\n",
    "loaded_documents = loader.load()\n",
    "\n",
    "# Check loaded content\n",
    "for doc in loaded_documents:\n",
    "    print(f\"Content: {doc.page_content}\\nMetadata: {doc.metadata}\")\n"
   ],
   "outputs": [
    {
     "name": "stdout",
     "output_type": "stream",
     "text": [
      "Content: page_content='# Nepal Citizenship Act, 2063\\n\\nDate of authentication and publication: 2063.8.10\\n\\n# Act to amend\\n\\n1. Act to amend certain Nepal Acts, 2064 2064.5.9\\n2. Act to amend some Nepal Acts, 2072 2072.11.13\\n\\n2063 Act No. 25\\n\\n# An Act to amend and unify Nepal\\'s laws related to citizenship\\n\\nForeword: As a result of the historical people\\'s movement, the sovereignty of Nepal is vested in the Nepali people and the source of state power is the Nepali people. Realizing the situation in which Nepalese citizens are facing difficulties in the past due to their inability to obtain citizenship certificates, the House of Representatives made a resolution to solve the citizenship-related problems within the state of Nepal as soon as possible, 2063. Based on the political agreement reached on 22nd Kartik, it is desirable to timely amend and unify the existing legal system to arrange the acquisition, termination and other related matters of Nepalese citizenship.\\n\\nThe House of Representatives made this Act in the first year after the Declaration of the House of Representatives, 2063 was issued.\\n\\n# 1. Abbreviation and Commencement:\\n\\n1. (1) The name of this Act is “Nepal Citizenship Act, 2063”.\\n2. (2) This Act shall come into force immediately.\\n\\n# 2. Definition:\\n\\nIn this Act, unless the subject or context requires otherwise:\\n\\n1. (a) \"Minor\" means a person who has not completed sixteen years of age.\\n2. (b) \"Person\" means a natural person.\\n3. (c) \"Prescribed\" or \"as prescribed\" means prescribed or prescribed in the rules made under this Act.\\n\\n# 3. Acquisition of Nepalese citizenship by descent:\\n\\n1. (1) If a person\\'s father or mother is a citizen of Nepal at the time of his birth, such a person shall be a citizen of Nepal by descent.\\n2. (2) Notwithstanding anything written in sub-section (1), in the case of children born to a Nepali citizen woman who marries a foreign citizen, it shall be in accordance with sub-section (2) of section 5.\\n3. (3) Every minor who does not have a paternal and maternal address found within the borders of Nepal shall be considered a citizen of Nepal as a descendant until his father or mother is found.\\n\\n# 4. Acquisition of Nepalese citizenship by birth:\\n\\n1. (1) A person who was born within the borders of Nepal until the end of Chaitra year 2046 and has been permanently residing in Nepal shall be a citizen of Nepal by birth.\\n---\\n(2) According to sub-section (1), a person who wishes to obtain a certificate of citizenship shall submit an application before the election of the Constituent Assembly and the provision of the certificate of citizenship shall be as prescribed.\\n\\n(3) A person who is unable to submit an application within the time period specified in sub-section (2) due to special reasons may submit an application as prescribed within two years from the date of commencement of this Act.\\n\\n# 5. Acquiring recognized Nepali citizenship:\\n\\n(1) If a foreign woman who is married to a Nepali citizen wants to obtain Nepali citizenship, she must submit an application to the designated authority in the prescribed format. When making such an application, you will also have to submit proof of your marital relationship with a Nepalese citizen and the fact that you have taken action to renounce your foreign citizenship.\\n\\n(2) In the case of children born to a Nepali citizen woman married to a foreign citizen, if he was born in Nepal and resided in Nepal permanently, and based on the citizenship of his father, he has not acquired the citizenship of a foreign country, then he can be granted recognized citizenship as prescribed.\\n\\n(3) In accordance with sub-section (2), a person who wishes to obtain recognized citizenship shall submit an application to the designated authority by attaching the following documents:\\n\\n- (a) Copy of mother\\'s certificate of Nepalese citizenship,\\n- (b) Recommendation of the village or municipality related to the opening of the case of birth and permanent residence in Nepal,\\n- (c) Non-citizenship of any foreign country on the basis of father\\'s citizenship.\\n\\n(4) Among the foreign nationals who have fulfilled the following conditions and conditions, those who are deemed by the Government of Nepal to have made or can make a special contribution to science, philosophy, art, literature, world peace, human welfare or the industrial, economic or social progress of Nepal. The recognized Nepali citizenship can be granted as specified:\\n\\n- (a) able to speak and write Nepali or any other language prevalent in Nepal,\\n- (b) residing in Nepal for any business,\\n- (c) renounced or declared to renounce the citizenship of another country,\\n- (d) resided in Nepal for at least fifteen years,\\n- (e) Being a citizen of a country where there is a legal system or practice of granting naturalized citizenship to Nepali citizens.\\n---\\n# (f) of good conduct,\\n\\n# (G) Mentally healthy.\\n\\n# (5) Notwithstanding anything written in sub-section (4), among the children of a person who has obtained recognized Nepali citizenship, the child born before he acquired that citizenship may receive recognized Nepali citizenship as prescribed.\\n\\n# (6) According to this section, a person who has been recognized as a Nepali citizen will be given a certificate of Nepali citizenship in the prescribed format by taking an oath as per the schedule and from the date of receiving such a certificate, such person will be a recognized citizen of Nepal.\\n\\n# 6. Honorary citizenship of Nepal can be granted: Regardless of what is written in section 5, the government of Nepal can grant honorary citizenship of Nepal to a person of international fame.\\n\\n# 7. Citizenship at the time of annexation of territory: If any territory is acquired within Nepal by annexation, the person within that territory will be considered a citizen of Nepal from the date specified in the notification as prescribed by the Government of Nepal by publishing a notice in the Nepal Gazette under this Act.\\n\\n# 8. To apply for obtaining a certificate of citizenship:\\n\\n# (1) According to section 3, a person who has completed sixteen years of age and wishes to obtain a certificate of Nepali citizenship as a descendant must submit an application to the designated authority with copies of the following documents attached:\\n\\n- (a) Certificate of Nepalese citizenship of father or mother or relatives within three generations of their descent,\\n\\n# However, this provision will not be applicable in case of Nepali citizen women who are married to foreign nationals.\\n\\n- (B) Recommendation made by the village or municipality to reveal the place of birth and relationship.\\n\\n# Amended by Act to amend certain Nepal Acts, 2072.\\n\\n# (2) According to section 4, a person who has completed sixteen years of age and wishes to obtain a certificate of Nepali citizenship based on birth must submit an application to the designated authority with copies of the following documents attached:\\n\\n- (a) A recommendation made by the concerned village or municipality to disclose the fact that he was born in Nepal and has been permanently residing in Nepal,\\n\\n# Amended by Act to amend certain Nepal Acts, 2072.\\n---\\n(b) Land owner registration proof of his or his family\\'s name or certificate of Mohiani rights or proof of household ownership or proof that his or his father\\'s or mother\\'s name is included in the voter\\'s list prepared by the Election Commission.\\n\\n(3) After receiving the application according to sub-section (1) or (2), the designated officer will investigate based on the evidence received and give him a certificate of Nepali citizenship.\\n\\n(4) In the event that a person is unable to submit the proofs as per sub-section (1) or (2) with the application, the designated officer can issue a certificate of Nepali citizenship based on the identification of at least three persons residing in the same ward who know the applicant and who have obtained certificates of Nepali citizenship.\\n\\n(5) In accordance with sub-section (4), the fact that the applicant was born in Nepal and has a permanent residence must be clearly mentioned during the on-site survey.\\n\\n(6) During the investigation according to sub-section (3) or (4), if any applicant is found not eligible to get a certificate of Nepali citizenship, he shall be informed about the matter within the prescribed period after making a decision on the matter.\\n\\n# 9. Right to issue certificate of citizenship:\\n\\nThe designated authority will have the right to issue a certificate of Nepalese citizenship based on descent, birth or recognition.\\n\\n# 10. Non-retention of Nepali citizenship:\\n\\n(1) After a citizen of Nepal voluntarily acquires the citizenship of a foreign country, his Nepali citizenship shall not be retained.\\n\\n(2) After a Nepalese citizen gives notice to renounce Nepalese citizenship as prescribed, the designated officer shall register such notice and from the date of such registration, his Nepalese citizenship shall not continue.\\n\\n(3) If a person is removed from Nepali citizenship in accordance with section 14, the Nepali citizenship of such person shall not continue from the date of such removal.\\n\\n(4) If a person has the citizenship of Nepal and a foreign country at the same time, such a person should choose the citizenship of one of the countries within two years of attaining the age of sixteen. In the case of not choosing such citizenship, his Nepali citizenship will not be maintained after the expiry of that period.\\n\\n(5) If a question arises as to whether a citizen of Nepal has acquired the citizenship of a foreign country or not, the designated authority shall make a decision according to the prevailing law.\\n\\n# 11. Renewal of Nepalese citizenship:\\n\\nIf a Nepali citizen, after acquiring the citizenship of a foreign country, returns to Nepal and gives the certificate of renouncing the citizenship of the foreign country to the designated authority, his Nepali citizenship will be restored from the date of registration of such certificate.\\n---\\n# 12 Cancellation of citizenship certificate:\\n\\nIf it is proved that a Nepali citizen has obtained a certificate of Nepali citizenship by giving false information, the designated authority will cancel such citizenship certificate.\\n\\n# 13. Do not take dual citizenship certificate:\\n\\nNo one should take more than one citizenship certificate. But on the basis of migration, if a person wishes, it will not be a hindrance to issue another citizenship certificate from the concerned office.\\n\\n# 14. Removal from Nepali citizenship:\\n\\n1. If it is proved that a foreigner has obtained a certificate of Nepali citizenship by giving false information or a statement that he is a Nepali citizen, the Government of Nepal will cancel his Nepali citizenship certificate and order to remove him from Nepali citizenship.\\n2. According to this clause, an appeal may be filed in the concerned High Court within thirty-five days against the order issued by the Government of Nepal to remove a person from the citizenship of Nepal.\\n\\nAmended by Act to amend certain Nepal Acts, 2072.\\n\\nAct to amend some Nepal Acts, 2064.\\n\\n# 15. Keeping records of citizenship certificates:\\n\\nThe arrangements related to keeping records of Nepali citizenship certificates will be as prescribed.\\n\\n# 16. No loss of rights, duties and responsibilities:\\n\\nIf someone\\'s Nepali citizenship is terminated due to any reason, his rights, duties and obligations in relation to any act done by him while he was a citizen of Nepal shall not be considered to be lost due to the termination of citizenship.\\n\\n# 17. Correction of details:\\n\\n1. If a person wishes to correct the details in his/her Nepali citizenship certificate, if the surname or age mentioned in the certificate of educational qualification has changed, or if there is a minor error in the citizenship certificate, he/she should submit an application to the designated authority with the necessary evidence.\\n\\nExplanation: For the purposes of this sub-section, \"minor error\" means any non-material difference in the particulars mentioned in the certificate of citizenship, such as: words like \"Kumari\", \"Devi\", \"Bahadur\", \"Prasad\" etc. have been superseded or omitted or there has been a difference in size, shape or other minor errors. will indicate an error.\\n\\nAfter receiving the application according to sub-section (1), the concerned officer may issue another certificate of citizenship by obtaining the previously obtained citizenship certificate and correcting such details, including the witness Surgmin according to the evidence and requirements.\\nIf a married or divorced woman submits an application to amend the surname, nationality or other details, the designated officer may issue another certificate of citizenship after understanding the necessary issues by taking out the previously obtained citizenship certificate and amending the surname, nationality or other details.\\n---\\n# 18. Reconsideration:\\n\\n(1) Except as otherwise written in this Act, a person who is aggrieved by an order issued by an officer in accordance with this Act may apply to the Government of Nepal within thirty-five days from the date of such order to reconsider such order.\\n\\n(2) After receiving the application as per sub-section (1), after taking the report from the ordering officer and considering the report, the Government of Nepal may issue its decision or order and that decision or order shall be final.\\n\\n# 19. Publication of list:\\n\\nAccording to section 14, the list of persons removed from Nepali citizenship will be published in the Nepal Gazette every year.\\n\\n# 20. Delegation of authority:\\n\\n(1) The Government of Nepal may delegate the authority granted to it under this Act to any official of the Government of Nepal. However, according to section 14, the right to remove from Nepali citizens will not be delegated.\\n\\n(2) According to this Act, the officer assigned to distribute the certificate of citizenship may delegate the authority granted to him to any authorized employee.\\n\\n# 21. Punishment:\\n\\n(1) If a foreigner claims to be a Nepali citizen and obtains Nepali citizenship by giving false information, he will be punished with imprisonment for one to five years or a fine of fifty thousand to one lakh rupees or both. In case of punishment according to this sub-section for obtaining citizenship by giving false information, the citizenship thus obtained shall be automatically revoked.\\n\\n(2) A person who identifies or recommends a foreigner to obtain citizenship on the basis of false information shall be punished with imprisonment for a term of six months to three years or a fine of twenty five thousand to fifty thousand rupees or both.\\n\\n(3) If someone creates a false or forged certificate of Nepali citizenship or makes it into circulation, the person who commits such an act will be punished with imprisonment for one to five years or a fine of twenty thousand to one lakh rupees or both.\\n\\n(4) If someone voluntarily adds or corrects the information in the certificate of complete citizenship, the person who commits such an act will be punished with imprisonment for up to three months or a fine of up to ten thousand rupees or both.\\n\\n(5) If a certificate of citizenship is obtained by giving false information in accordance with section 12, or if the information corrected in accordance with section 17 is proved to be false, the person who gives such false information or causes the violation of this Act or the rules made under this Act to commit any other offense shall be fined up to fifteen thousand rupees.\\n\\n(6) If the officer issuing the certificate of Nepalese citizenship knowingly or maliciously issues the certificate of citizenship in a manner contrary to this Act or the rules made under this Act, or corrects the details of the certificate of citizenship, such officer or employee shall be subject to departmental action in accordance with the prevailing law.\\n---\\n# 22. Can appoint a citizenship team:\\n\\n(1) The Government of Nepal can appoint a citizenship certificate distribution team to distribute citizenship certificates if it deems necessary.\\n\\n(2) The team assigned according to sub-section (1) will distribute the certificate of citizenship subject to the instructions given by the Government of Nepal.\\n\\n# 23. Power to make rules:\\n\\nThe Government of Nepal can make necessary rules to implement the objectives of this Act.\\n\\n# 24. Repeal and protection:\\n\\n(1) Nepal Citizenship Act, 2020 has been repealed.\\n\\n(2) Acts which have been repealed in accordance with sub-section (1) shall be deemed to have been carried out under this Act.\\n\\n# Nepal Citizenship (First Amendment) Ordinance, 2078\\n\\nOpinion published in the Gazette\\n\\n2078/02/09\\n\\nSamvat 2078 Ordinance No. 11\\n\\nOrdinance amending the Nepal Citizenship Act, 2063\\n\\n# Preamble:\\n\\nSince it is desirable to immediately amend the Nepal Citizenship Act, 2063 and there is no intervention of the Federal Parliament, this Ordinance has been promulgated on the recommendation of the Council of Ministers under Article 114 of the Constitution of Nepal.\\n\\n# 25. Title and Commencement:\\n\\n(1) This Ordinance shall be named “Nepal Citizenship (First Amendment) Ordinance, 2078”.\\n\\n(2) This Ordinance shall come into force forthwith.\\n\\n# 26. Amendment to Section 3 of the Nepal Citizenship Act, 2063:\\n\\nIn Section 3 of the Nepal Citizenship Act, 2063 (hereinafter referred to as the “Original Act”),-\\n\\n(1) In sub-section (3), instead of the words \"within the borders of Nepal\", the words \"within Nepal\" have been kept, instead of the words \"paternity and motherhood\" in the sub-section, the words \"paternity and motherhood\" have been kept.\\n\\n(2) Sub-section (3) of the following sub-sections (4), (5) and (6) have been added:-\\n\\n(4) Samvat 2072, the child of a citizen who was born before Ashoj 3, if both his father and mother are citizens of Nepal, he will get Nepalese citizenship on the basis of descent after reaching the age of sixteen.\\n---\\n(5) A person who was born in Nepal from a mother who is a citizen of Nepal and settled in Nepal and whose father cannot be identified will get Nepalese citizenship on the basis of descendants.\\n\\n(6) According to sub-section (5), if the father of a person who has received citizenship is a foreigner, such person\\'s citizenship on the basis of descent will not be retained and if the child declares that he did not receive the citizenship of the foreign country on the basis of his father\\'s citizenship, the child\\'s citizenship will be converted into a recognized citizenship.\\n\\n# 27. Amendment to Section 8 of the original Act:\\n\\nSection 8 of the original Act,-\\n\\n(1) After clause (a) of sub-section (1), the following clause (a1) shall be inserted:-\\n\\n\"(A1) Self-declaration of birth of a person born in Nepal from a mother who is a citizen of Nepal and settled in Nepal and the identity of the father has not been ascertained. At the time of filing the petition, the petitioner must attach a self-declaration of death along with the evidence that the mother of such a person has died or moved to another address.\"\\n\\n(2) After sub-section (1) the following sub-section (1A) shall be inserted:-\\n\\n\"(1a) Notwithstanding anything written in clause (a) of sub-section (1), except for sub-section (4) of section 3, when applying for a certificate of citizenship, copies of the certificate of citizenship of both father and mother shall be attached.\"\\n\\n# 28. Amendment in Section 21 of the original Act:\\n\\nSub-section (3) of Section 21 of the original Act, sub-sections (3A) and (3B) of the due date have been added:-\\n\\n\"(3a) Under sub-section (6) of section 3, a person who makes a false self-declaration shall be imprisoned for six months to one year or fined up to fifty rupees or one lakh rupees or fined. In the case of obtaining citizenship under false self-declaration, the citizenship will be automatically revoked.\\n\\n(3b) Sub-section (1) Clause (A1) of Section 8, in case of false self-declaration, the person who makes false self-declaration shall be imprisoned for one year or three years or fined up to one lakh rupees or three lakh rupees or more. In case of false self-declaration, the citizenship will be automatically revoked if it is obtained in a timely manner under this subsection.\"# Nepal Citizenship Act, 2063\\n\\nDate of authentication and publication: 2063.8.10\\n\\n# Act to amend\\n\\n1. Act to amend certain Nepal Acts, 2064 2064.5.9\\n2. Act to amend some Nepal Acts, 2072 2072.11.13\\n\\n2063 Act No. 25\\n\\n# An Act to amend and unify Nepal\\'s laws related to citizenship\\n\\nForeword: As a result of the historical people\\'s movement, the sovereignty of Nepal is vested in the Nepali people and the source of state power is the Nepali people. Realizing the situation in which Nepalese citizens are facing difficulties in the past due to their inability to obtain citizenship certificates, the House of Representatives made a resolution to solve the citizenship-related problems within the state of Nepal as soon as possible, 2063. Based on the political agreement reached on 22nd Kartik, it is desirable to timely amend and unify the existing legal system to arrange the acquisition, termination and other related matters of Nepalese citizenship.\\n\\nThe House of Representatives made this Act in the first year after the Declaration of the House of Representatives, 2063 was issued.\\n\\n# 1. Abbreviation and Commencement:\\n\\n1. (1) The name of this Act is “Nepal Citizenship Act, 2063”.\\n2. (2) This Act shall come into force immediately.\\n\\n# 2. Definition:\\n\\nIn this Act, unless the subject or context requires otherwise:\\n\\n1. (a) \"Minor\" means a person who has not completed sixteen years of age.\\n2. (b) \"Person\" means a natural person.\\n3. (c) \"Prescribed\" or \"as prescribed\" means prescribed or prescribed in the rules made under this Act.\\n\\n# 3. Acquisition of Nepalese citizenship by descent:\\n\\n1. (1) If a person\\'s father or mother is a citizen of Nepal at the time of his birth, such a person shall be a citizen of Nepal by descent.\\n2. (2) Notwithstanding anything written in sub-section (1), in the case of children born to a Nepali citizen woman who marries a foreign citizen, it shall be in accordance with sub-section (2) of section 5.\\n3. (3) Every minor who does not have a paternal and maternal address found within the borders of Nepal shall be considered a citizen of Nepal as a descendant until his father or mother is found.\\n\\n# 4. Acquisition of Nepalese citizenship by birth:\\n\\n1. (1) A person who was born within the borders of Nepal until the end of Chaitra year 2046 and has been permanently residing in Nepal shall be a citizen of Nepal by birth.\\n---\\n(2) According to sub-section (1), a person who wishes to obtain a certificate of citizenship shall submit an application before the election of the Constituent Assembly and the provision of the certificate of citizenship shall be as prescribed.\\n\\n(3) A person who is unable to submit an application within the time period specified in sub-section (2) due to special reasons may submit an application as prescribed within two years from the date of commencement of this Act.\\n\\n# 5. Acquiring recognized Nepali citizenship:\\n\\n(1) If a foreign woman who is married to a Nepali citizen wants to obtain Nepali citizenship, she must submit an application to the designated authority in the prescribed format. When making such an application, you will also have to submit proof of your marital relationship with a Nepalese citizen and the fact that you have taken action to renounce your foreign citizenship.\\n\\n(2) In the case of children born to a Nepali citizen woman married to a foreign citizen, if he was born in Nepal and resided in Nepal permanently, and based on the citizenship of his father, he has not acquired the citizenship of a foreign country, then he can be granted recognized citizenship as prescribed.\\n\\n(3) In accordance with sub-section (2), a person who wishes to obtain recognized citizenship shall submit an application to the designated authority by attaching the following documents:\\n\\n- (a) Copy of mother\\'s certificate of Nepalese citizenship,\\n- (b) Recommendation of the village or municipality related to the opening of the case of birth and permanent residence in Nepal,\\n- (c) Non-citizenship of any foreign country on the basis of father\\'s citizenship.\\n\\n(4) Among the foreign nationals who have fulfilled the following conditions and conditions, those who are deemed by the Government of Nepal to have made or can make a special contribution to science, philosophy, art, literature, world peace, human welfare or the industrial, economic or social progress of Nepal. The recognized Nepali citizenship can be granted as specified:\\n\\n- (a) able to speak and write Nepali or any other language prevalent in Nepal,\\n- (b) residing in Nepal for any business,\\n- (c) renounced or declared to renounce the citizenship of another country,\\n- (d) resided in Nepal for at least fifteen years,\\n- (e) Being a citizen of a country where there is a legal system or practice of granting naturalized citizenship to Nepali citizens.\\n---\\n# (f) of good conduct,\\n\\n# (G) Mentally healthy.\\n\\n# (5) Notwithstanding anything written in sub-section (4), among the children of a person who has obtained recognized Nepali citizenship, the child born before he acquired that citizenship may receive recognized Nepali citizenship as prescribed.\\n\\n# (6) According to this section, a person who has been recognized as a Nepali citizen will be given a certificate of Nepali citizenship in the prescribed format by taking an oath as per the schedule and from the date of receiving such a certificate, such person will be a recognized citizen of Nepal.\\n\\n# 6. Honorary citizenship of Nepal can be granted: Regardless of what is written in section 5, the government of Nepal can grant honorary citizenship of Nepal to a person of international fame.\\n\\n# 7. Citizenship at the time of annexation of territory: If any territory is acquired within Nepal by annexation, the person within that territory will be considered a citizen of Nepal from the date specified in the notification as prescribed by the Government of Nepal by publishing a notice in the Nepal Gazette under this Act.\\n\\n# 8. To apply for obtaining a certificate of citizenship:\\n\\n# (1) According to section 3, a person who has completed sixteen years of age and wishes to obtain a certificate of Nepali citizenship as a descendant must submit an application to the designated authority with copies of the following documents attached:\\n\\n- (a) Certificate of Nepalese citizenship of father or mother or relatives within three generations of their descent,\\n\\n# However, this provision will not be applicable in case of Nepali citizen women who are married to foreign nationals.\\n\\n- (B) Recommendation made by the village or municipality to reveal the place of birth and relationship.\\n\\n# Amended by Act to amend certain Nepal Acts, 2072.\\n\\n# (2) According to section 4, a person who has completed sixteen years of age and wishes to obtain a certificate of Nepali citizenship based on birth must submit an application to the designated authority with copies of the following documents attached:\\n\\n- (a) A recommendation made by the concerned village or municipality to disclose the fact that he was born in Nepal and has been permanently residing in Nepal,\\n\\n# Amended by Act to amend certain Nepal Acts, 2072.\\n---\\n(b) Land owner registration proof of his or his family\\'s name or certificate of Mohiani rights or proof of household ownership or proof that his or his father\\'s or mother\\'s name is included in the voter\\'s list prepared by the Election Commission.\\n\\n(3) After receiving the application according to sub-section (1) or (2), the designated officer will investigate based on the evidence received and give him a certificate of Nepali citizenship.\\n\\n(4) In the event that a person is unable to submit the proofs as per sub-section (1) or (2) with the application, the designated officer can issue a certificate of Nepali citizenship based on the identification of at least three persons residing in the same ward who know the applicant and who have obtained certificates of Nepali citizenship.\\n\\n(5) In accordance with sub-section (4), the fact that the applicant was born in Nepal and has a permanent residence must be clearly mentioned during the on-site survey.\\n\\n(6) During the investigation according to sub-section (3) or (4), if any applicant is found not eligible to get a certificate of Nepali citizenship, he shall be informed about the matter within the prescribed period after making a decision on the matter.\\n\\n# 9. Right to issue certificate of citizenship:\\n\\nThe designated authority will have the right to issue a certificate of Nepalese citizenship based on descent, birth or recognition.\\n\\n# 10. Non-retention of Nepali citizenship:\\n\\n(1) After a citizen of Nepal voluntarily acquires the citizenship of a foreign country, his Nepali citizenship shall not be retained.\\n\\n(2) After a Nepalese citizen gives notice to renounce Nepalese citizenship as prescribed, the designated officer shall register such notice and from the date of such registration, his Nepalese citizenship shall not continue.\\n\\n(3) If a person is removed from Nepali citizenship in accordance with section 14, the Nepali citizenship of such person shall not continue from the date of such removal.\\n\\n(4) If a person has the citizenship of Nepal and a foreign country at the same time, such a person should choose the citizenship of one of the countries within two years of attaining the age of sixteen. In the case of not choosing such citizenship, his Nepali citizenship will not be maintained after the expiry of that period.\\n\\n(5) If a question arises as to whether a citizen of Nepal has acquired the citizenship of a foreign country or not, the designated authority shall make a decision according to the prevailing law.\\n\\n# 11. Renewal of Nepalese citizenship:\\n\\nIf a Nepali citizen, after acquiring the citizenship of a foreign country, returns to Nepal and gives the certificate of renouncing the citizenship of the foreign country to the designated authority, his Nepali citizenship will be restored from the date of registration of such certificate.\\n---\\n# 12 Cancellation of citizenship certificate:\\n\\nIf it is proved that a Nepali citizen has obtained a certificate of Nepali citizenship by giving false information, the designated authority will cancel such citizenship certificate.\\n\\n# 13. Do not take dual citizenship certificate:\\n\\nNo one should take more than one citizenship certificate. But on the basis of migration, if a person wishes, it will not be a hindrance to issue another citizenship certificate from the concerned office.\\n\\n# 14. Removal from Nepali citizenship:\\n\\n1. If it is proved that a foreigner has obtained a certificate of Nepali citizenship by giving false information or a statement that he is a Nepali citizen, the Government of Nepal will cancel his Nepali citizenship certificate and order to remove him from Nepali citizenship.\\n2. According to this clause, an appeal may be filed in the concerned High Court within thirty-five days against the order issued by the Government of Nepal to remove a person from the citizenship of Nepal.\\n\\nAmended by Act to amend certain Nepal Acts, 2072.\\n\\nAct to amend some Nepal Acts, 2064.\\n\\n# 15. Keeping records of citizenship certificates:\\n\\nThe arrangements related to keeping records of Nepali citizenship certificates will be as prescribed.\\n\\n# 16. No loss of rights, duties and responsibilities:\\n\\nIf someone\\'s Nepali citizenship is terminated due to any reason, his rights, duties and obligations in relation to any act done by him while he was a citizen of Nepal shall not be considered to be lost due to the termination of citizenship.\\n\\n# 17. Correction of details:\\n\\n1. If a person wishes to correct the details in his/her Nepali citizenship certificate, if the surname or age mentioned in the certificate of educational qualification has changed, or if there is a minor error in the citizenship certificate, he/she should submit an application to the designated authority with the necessary evidence.\\n\\nExplanation: For the purposes of this sub-section, \"minor error\" means any non-material difference in the particulars mentioned in the certificate of citizenship, such as: words like \"Kumari\", \"Devi\", \"Bahadur\", \"Prasad\" etc. have been superseded or omitted or there has been a difference in size, shape or other minor errors. will indicate an error.\\n\\nAfter receiving the application according to sub-section (1), the concerned officer may issue another certificate of citizenship by obtaining the previously obtained citizenship certificate and correcting such details, including the witness Surgmin according to the evidence and requirements.\\nIf a married or divorced woman submits an application to amend the surname, nationality or other details, the designated officer may issue another certificate of citizenship after understanding the necessary issues by taking out the previously obtained citizenship certificate and amending the surname, nationality or other details.\\n---\\n# 18. Reconsideration:\\n\\n(1) Except as otherwise written in this Act, a person who is aggrieved by an order issued by an officer in accordance with this Act may apply to the Government of Nepal within thirty-five days from the date of such order to reconsider such order.\\n\\n(2) After receiving the application as per sub-section (1), after taking the report from the ordering officer and considering the report, the Government of Nepal may issue its decision or order and that decision or order shall be final.\\n\\n# 19. Publication of list:\\n\\nAccording to section 14, the list of persons removed from Nepali citizenship will be published in the Nepal Gazette every year.\\n\\n# 20. Delegation of authority:\\n\\n(1) The Government of Nepal may delegate the authority granted to it under this Act to any official of the Government of Nepal. However, according to section 14, the right to remove from Nepali citizens will not be delegated.\\n\\n(2) According to this Act, the officer assigned to distribute the certificate of citizenship may delegate the authority granted to him to any authorized employee.\\n\\n# 21. Punishment:\\n\\n(1) If a foreigner claims to be a Nepali citizen and obtains Nepali citizenship by giving false information, he will be punished with imprisonment for one to five years or a fine of fifty thousand to one lakh rupees or both. In case of punishment according to this sub-section for obtaining citizenship by giving false information, the citizenship thus obtained shall be automatically revoked.\\n\\n(2) A person who identifies or recommends a foreigner to obtain citizenship on the basis of false information shall be punished with imprisonment for a term of six months to three years or a fine of twenty five thousand to fifty thousand rupees or both.\\n\\n(3) If someone creates a false or forged certificate of Nepali citizenship or makes it into circulation, the person who commits such an act will be punished with imprisonment for one to five years or a fine of twenty thousand to one lakh rupees or both.\\n\\n(4) If someone voluntarily adds or corrects the information in the certificate of complete citizenship, the person who commits such an act will be punished with imprisonment for up to three months or a fine of up to ten thousand rupees or both.\\n\\n(5) If a certificate of citizenship is obtained by giving false information in accordance with section 12, or if the information corrected in accordance with section 17 is proved to be false, the person who gives such false information or causes the violation of this Act or the rules made under this Act to commit any other offense shall be fined up to fifteen thousand rupees.\\n\\n(6) If the officer issuing the certificate of Nepalese citizenship knowingly or maliciously issues the certificate of citizenship in a manner contrary to this Act or the rules made under this Act, or corrects the details of the certificate of citizenship, such officer or employee shall be subject to departmental action in accordance with the prevailing law.\\n---\\n# 22. Can appoint a citizenship team:\\n\\n(1) The Government of Nepal can appoint a citizenship certificate distribution team to distribute citizenship certificates if it deems necessary.\\n\\n(2) The team assigned according to sub-section (1) will distribute the certificate of citizenship subject to the instructions given by the Government of Nepal.\\n\\n# 23. Power to make rules:\\n\\nThe Government of Nepal can make necessary rules to implement the objectives of this Act.\\n\\n# 24. Repeal and protection:\\n\\n(1) Nepal Citizenship Act, 2020 has been repealed.\\n\\n(2) Acts which have been repealed in accordance with sub-section (1) shall be deemed to have been carried out under this Act.\\n\\n# Nepal Citizenship (First Amendment) Ordinance, 2078\\n\\nOpinion published in the Gazette\\n\\n2078/02/09\\n\\nSamvat 2078 Ordinance No. 11\\n\\nOrdinance amending the Nepal Citizenship Act, 2063\\n\\n# Preamble:\\n\\nSince it is desirable to immediately amend the Nepal Citizenship Act, 2063 and there is no intervention of the Federal Parliament, this Ordinance has been promulgated on the recommendation of the Council of Ministers under Article 114 of the Constitution of Nepal.\\n\\n# 25. Title and Commencement:\\n\\n(1) This Ordinance shall be named “Nepal Citizenship (First Amendment) Ordinance, 2078”.\\n\\n(2) This Ordinance shall come into force forthwith.\\n\\n# 26. Amendment to Section 3 of the Nepal Citizenship Act, 2063:\\n\\nIn Section 3 of the Nepal Citizenship Act, 2063 (hereinafter referred to as the “Original Act”),-\\n\\n(1) In sub-section (3), instead of the words \"within the borders of Nepal\", the words \"within Nepal\" have been kept, instead of the words \"paternity and motherhood\" in the sub-section, the words \"paternity and motherhood\" have been kept.\\n\\n(2) Sub-section (3) of the following sub-sections (4), (5) and (6) have been added:-\\n\\n(4) Samvat 2072, the child of a citizen who was born before Ashoj 3, if both his father and mother are citizens of Nepal, he will get Nepalese citizenship on the basis of descent after reaching the age of sixteen.\\n---\\n(5) A person who was born in Nepal from a mother who is a citizen of Nepal and settled in Nepal and whose father cannot be identified will get Nepalese citizenship on the basis of descendants.\\n\\n(6) According to sub-section (5), if the father of a person who has received citizenship is a foreigner, such person\\'s citizenship on the basis of descent will not be retained and if the child declares that he did not receive the citizenship of the foreign country on the basis of his father\\'s citizenship, the child\\'s citizenship will be converted into a recognized citizenship.\\n\\n# 27. Amendment to Section 8 of the original Act:\\n\\nSection 8 of the original Act,-\\n\\n(1) After clause (a) of sub-section (1), the following clause (a1) shall be inserted:-\\n\\n\"(A1) Self-declaration of birth of a person born in Nepal from a mother who is a citizen of Nepal and settled in Nepal and the identity of the father has not been ascertained. At the time of filing the petition, the petitioner must attach a self-declaration of death along with the evidence that the mother of such a person has died or moved to another address.\"\\n\\n(2) After sub-section (1) the following sub-section (1A) shall be inserted:-\\n\\n\"(1a) Notwithstanding anything written in clause (a) of sub-section (1), except for sub-section (4) of section 3, when applying for a certificate of citizenship, copies of the certificate of citizenship of both father and mother shall be attached.\"\\n\\n# 28. Amendment in Section 21 of the original Act:\\n\\nSub-section (3) of Section 21 of the original Act, sub-sections (3A) and (3B) of the due date have been added:-\\n\\n\"(3a) Under sub-section (6) of section 3, a person who makes a false self-declaration shall be imprisoned for six months to one year or fined up to fifty rupees or one lakh rupees or fined. In the case of obtaining citizenship under false self-declaration, the citizenship will be automatically revoked.\\n\\n(3b) Sub-section (1) Clause (A1) of Section 8, in case of false self-declaration, the person who makes false self-declaration shall be imprisoned for one year or three years or fined up to one lakh rupees or three lakh rupees or more. In case of false self-declaration, the citizenship will be automatically revoked if it is obtained in a timely manner under this subsection.\"# Nepal Citizenship Act, 2063\\n\\nDate of authentication and publication: 2063.8.10\\n\\n# Act to amend\\n\\n1. Act to amend certain Nepal Acts, 2064 2064.5.9\\n2. Act to amend some Nepal Acts, 2072 2072.11.13\\n\\n2063 Act No. 25\\n\\n# An Act to amend and unify Nepal\\'s laws related to citizenship\\n\\nForeword: As a result of the historical people\\'s movement, the sovereignty of Nepal is vested in the Nepali people and the source of state power is the Nepali people. Realizing the situation in which Nepalese citizens are facing difficulties in the past due to their inability to obtain citizenship certificates, the House of Representatives made a resolution to solve the citizenship-related problems within the state of Nepal as soon as possible, 2063. Based on the political agreement reached on 22nd Kartik, it is desirable to timely amend and unify the existing legal system to arrange the acquisition, termination and other related matters of Nepalese citizenship.\\n\\nThe House of Representatives made this Act in the first year after the Declaration of the House of Representatives, 2063 was issued.\\n\\n# 1. Abbreviation and Commencement:\\n\\n1. (1) The name of this Act is “Nepal Citizenship Act, 2063”.\\n2. (2) This Act shall come into force immediately.\\n\\n# 2. Definition:\\n\\nIn this Act, unless the subject or context requires otherwise:\\n\\n1. (a) \"Minor\" means a person who has not completed sixteen years of age.\\n2. (b) \"Person\" means a natural person.\\n3. (c) \"Prescribed\" or \"as prescribed\" means prescribed or prescribed in the rules made under this Act.\\n\\n# 3. Acquisition of Nepalese citizenship by descent:\\n\\n1. (1) If a person\\'s father or mother is a citizen of Nepal at the time of his birth, such a person shall be a citizen of Nepal by descent.\\n2. (2) Notwithstanding anything written in sub-section (1), in the case of children born to a Nepali citizen woman who marries a foreign citizen, it shall be in accordance with sub-section (2) of section 5.\\n3. (3) Every minor who does not have a paternal and maternal address found within the borders of Nepal shall be considered a citizen of Nepal as a descendant until his father or mother is found.\\n\\n# 4. Acquisition of Nepalese citizenship by birth:\\n\\n1. (1) A person who was born within the borders of Nepal until the end of Chaitra year 2046 and has been permanently residing in Nepal shall be a citizen of Nepal by birth.\\n---\\n(2) According to sub-section (1), a person who wishes to obtain a certificate of citizenship shall submit an application before the election of the Constituent Assembly and the provision of the certificate of citizenship shall be as prescribed.\\n\\n(3) A person who is unable to submit an application within the time period specified in sub-section (2) due to special reasons may submit an application as prescribed within two years from the date of commencement of this Act.\\n\\n# 5. Acquiring recognized Nepali citizenship:\\n\\n(1) If a foreign woman who is married to a Nepali citizen wants to obtain Nepali citizenship, she must submit an application to the designated authority in the prescribed format. When making such an application, you will also have to submit proof of your marital relationship with a Nepalese citizen and the fact that you have taken action to renounce your foreign citizenship.\\n\\n(2) In the case of children born to a Nepali citizen woman married to a foreign citizen, if he was born in Nepal and resided in Nepal permanently, and based on the citizenship of his father, he has not acquired the citizenship of a foreign country, then he can be granted recognized citizenship as prescribed.\\n\\n(3) In accordance with sub-section (2), a person who wishes to obtain recognized citizenship shall submit an application to the designated authority by attaching the following documents:\\n\\n- (a) Copy of mother\\'s certificate of Nepalese citizenship,\\n- (b) Recommendation of the village or municipality related to the opening of the case of birth and permanent residence in Nepal,\\n- (c) Non-citizenship of any foreign country on the basis of father\\'s citizenship.\\n\\n(4) Among the foreign nationals who have fulfilled the following conditions and conditions, those who are deemed by the Government of Nepal to have made or can make a special contribution to science, philosophy, art, literature, world peace, human welfare or the industrial, economic or social progress of Nepal. The recognized Nepali citizenship can be granted as specified:\\n\\n- (a) able to speak and write Nepali or any other language prevalent in Nepal,\\n- (b) residing in Nepal for any business,\\n- (c) renounced or declared to renounce the citizenship of another country,\\n- (d) resided in Nepal for at least fifteen years,\\n- (e) Being a citizen of a country where there is a legal system or practice of granting naturalized citizenship to Nepali citizens.\\n---\\n# (f) of good conduct,\\n\\n# (G) Mentally healthy.\\n\\n# (5) Notwithstanding anything written in sub-section (4), among the children of a person who has obtained recognized Nepali citizenship, the child born before he acquired that citizenship may receive recognized Nepali citizenship as prescribed.\\n\\n# (6) According to this section, a person who has been recognized as a Nepali citizen will be given a certificate of Nepali citizenship in the prescribed format by taking an oath as per the schedule and from the date of receiving such a certificate, such person will be a recognized citizen of Nepal.\\n\\n# 6. Honorary citizenship of Nepal can be granted: Regardless of what is written in section 5, the government of Nepal can grant honorary citizenship of Nepal to a person of international fame.\\n\\n# 7. Citizenship at the time of annexation of territory: If any territory is acquired within Nepal by annexation, the person within that territory will be considered a citizen of Nepal from the date specified in the notification as prescribed by the Government of Nepal by publishing a notice in the Nepal Gazette under this Act.\\n\\n# 8. To apply for obtaining a certificate of citizenship:\\n\\n# (1) According to section 3, a person who has completed sixteen years of age and wishes to obtain a certificate of Nepali citizenship as a descendant must submit an application to the designated authority with copies of the following documents attached:\\n\\n- (a) Certificate of Nepalese citizenship of father or mother or relatives within three generations of their descent,\\n\\n# However, this provision will not be applicable in case of Nepali citizen women who are married to foreign nationals.\\n\\n- (B) Recommendation made by the village or municipality to reveal the place of birth and relationship.\\n\\n# Amended by Act to amend certain Nepal Acts, 2072.\\n\\n# (2) According to section 4, a person who has completed sixteen years of age and wishes to obtain a certificate of Nepali citizenship based on birth must submit an application to the designated authority with copies of the following documents attached:\\n\\n- (a) A recommendation made by the concerned village or municipality to disclose the fact that he was born in Nepal and has been permanently residing in Nepal,\\n\\n# Amended by Act to amend certain Nepal Acts, 2072.\\n---\\n(b) Land owner registration proof of his or his family\\'s name or certificate of Mohiani rights or proof of household ownership or proof that his or his father\\'s or mother\\'s name is included in the voter\\'s list prepared by the Election Commission.\\n\\n(3) After receiving the application according to sub-section (1) or (2), the designated officer will investigate based on the evidence received and give him a certificate of Nepali citizenship.\\n\\n(4) In the event that a person is unable to submit the proofs as per sub-section (1) or (2) with the application, the designated officer can issue a certificate of Nepali citizenship based on the identification of at least three persons residing in the same ward who know the applicant and who have obtained certificates of Nepali citizenship.\\n\\n(5) In accordance with sub-section (4), the fact that the applicant was born in Nepal and has a permanent residence must be clearly mentioned during the on-site survey.\\n\\n(6) During the investigation according to sub-section (3) or (4), if any applicant is found not eligible to get a certificate of Nepali citizenship, he shall be informed about the matter within the prescribed period after making a decision on the matter.\\n\\n# 9. Right to issue certificate of citizenship:\\n\\nThe designated authority will have the right to issue a certificate of Nepalese citizenship based on descent, birth or recognition.\\n\\n# 10. Non-retention of Nepali citizenship:\\n\\n(1) After a citizen of Nepal voluntarily acquires the citizenship of a foreign country, his Nepali citizenship shall not be retained.\\n\\n(2) After a Nepalese citizen gives notice to renounce Nepalese citizenship as prescribed, the designated officer shall register such notice and from the date of such registration, his Nepalese citizenship shall not continue.\\n\\n(3) If a person is removed from Nepali citizenship in accordance with section 14, the Nepali citizenship of such person shall not continue from the date of such removal.\\n\\n(4) If a person has the citizenship of Nepal and a foreign country at the same time, such a person should choose the citizenship of one of the countries within two years of attaining the age of sixteen. In the case of not choosing such citizenship, his Nepali citizenship will not be maintained after the expiry of that period.\\n\\n(5) If a question arises as to whether a citizen of Nepal has acquired the citizenship of a foreign country or not, the designated authority shall make a decision according to the prevailing law.\\n\\n# 11. Renewal of Nepalese citizenship:\\n\\nIf a Nepali citizen, after acquiring the citizenship of a foreign country, returns to Nepal and gives the certificate of renouncing the citizenship of the foreign country to the designated authority, his Nepali citizenship will be restored from the date of registration of such certificate.\\n---\\n# 12 Cancellation of citizenship certificate:\\n\\nIf it is proved that a Nepali citizen has obtained a certificate of Nepali citizenship by giving false information, the designated authority will cancel such citizenship certificate.\\n\\n# 13. Do not take dual citizenship certificate:\\n\\nNo one should take more than one citizenship certificate. But on the basis of migration, if a person wishes, it will not be a hindrance to issue another citizenship certificate from the concerned office.\\n\\n# 14. Removal from Nepali citizenship:\\n\\n1. If it is proved that a foreigner has obtained a certificate of Nepali citizenship by giving false information or a statement that he is a Nepali citizen, the Government of Nepal will cancel his Nepali citizenship certificate and order to remove him from Nepali citizenship.\\n2. According to this clause, an appeal may be filed in the concerned High Court within thirty-five days against the order issued by the Government of Nepal to remove a person from the citizenship of Nepal.\\n\\nAmended by Act to amend certain Nepal Acts, 2072.\\n\\nAct to amend some Nepal Acts, 2064.\\n\\n# 15. Keeping records of citizenship certificates:\\n\\nThe arrangements related to keeping records of Nepali citizenship certificates will be as prescribed.\\n\\n# 16. No loss of rights, duties and responsibilities:\\n\\nIf someone\\'s Nepali citizenship is terminated due to any reason, his rights, duties and obligations in relation to any act done by him while he was a citizen of Nepal shall not be considered to be lost due to the termination of citizenship.\\n\\n# 17. Correction of details:\\n\\n1. If a person wishes to correct the details in his/her Nepali citizenship certificate, if the surname or age mentioned in the certificate of educational qualification has changed, or if there is a minor error in the citizenship certificate, he/she should submit an application to the designated authority with the necessary evidence.\\n\\nExplanation: For the purposes of this sub-section, \"minor error\" means any non-material difference in the particulars mentioned in the certificate of citizenship, such as: words like \"Kumari\", \"Devi\", \"Bahadur\", \"Prasad\" etc. have been superseded or omitted or there has been a difference in size, shape or other minor errors. will indicate an error.\\n\\nAfter receiving the application according to sub-section (1), the concerned officer may issue another certificate of citizenship by obtaining the previously obtained citizenship certificate and correcting such details, including the witness Surgmin according to the evidence and requirements.\\nIf a married or divorced woman submits an application to amend the surname, nationality or other details, the designated officer may issue another certificate of citizenship after understanding the necessary issues by taking out the previously obtained citizenship certificate and amending the surname, nationality or other details.\\n---\\n# 18. Reconsideration:\\n\\n(1) Except as otherwise written in this Act, a person who is aggrieved by an order issued by an officer in accordance with this Act may apply to the Government of Nepal within thirty-five days from the date of such order to reconsider such order.\\n\\n(2) After receiving the application as per sub-section (1), after taking the report from the ordering officer and considering the report, the Government of Nepal may issue its decision or order and that decision or order shall be final.\\n\\n# 19. Publication of list:\\n\\nAccording to section 14, the list of persons removed from Nepali citizenship will be published in the Nepal Gazette every year.\\n\\n# 20. Delegation of authority:\\n\\n(1) The Government of Nepal may delegate the authority granted to it under this Act to any official of the Government of Nepal. However, according to section 14, the right to remove from Nepali citizens will not be delegated.\\n\\n(2) According to this Act, the officer assigned to distribute the certificate of citizenship may delegate the authority granted to him to any authorized employee.\\n\\n# 21. Punishment:\\n\\n(1) If a foreigner claims to be a Nepali citizen and obtains Nepali citizenship by giving false information, he will be punished with imprisonment for one to five years or a fine of fifty thousand to one lakh rupees or both. In case of punishment according to this sub-section for obtaining citizenship by giving false information, the citizenship thus obtained shall be automatically revoked.\\n\\n(2) A person who identifies or recommends a foreigner to obtain citizenship on the basis of false information shall be punished with imprisonment for a term of six months to three years or a fine of twenty five thousand to fifty thousand rupees or both.\\n\\n(3) If someone creates a false or forged certificate of Nepali citizenship or makes it into circulation, the person who commits such an act will be punished with imprisonment for one to five years or a fine of twenty thousand to one lakh rupees or both.\\n\\n(4) If someone voluntarily adds or corrects the information in the certificate of complete citizenship, the person who commits such an act will be punished with imprisonment for up to three months or a fine of up to ten thousand rupees or both.\\n\\n(5) If a certificate of citizenship is obtained by giving false information in accordance with section 12, or if the information corrected in accordance with section 17 is proved to be false, the person who gives such false information or causes the violation of this Act or the rules made under this Act to commit any other offense shall be fined up to fifteen thousand rupees.\\n\\n(6) If the officer issuing the certificate of Nepalese citizenship knowingly or maliciously issues the certificate of citizenship in a manner contrary to this Act or the rules made under this Act, or corrects the details of the certificate of citizenship, such officer or employee shall be subject to departmental action in accordance with the prevailing law.\\n---\\n# 22. Can appoint a citizenship team:\\n\\n(1) The Government of Nepal can appoint a citizenship certificate distribution team to distribute citizenship certificates if it deems necessary.\\n\\n(2) The team assigned according to sub-section (1) will distribute the certificate of citizenship subject to the instructions given by the Government of Nepal.\\n\\n# 23. Power to make rules:\\n\\nThe Government of Nepal can make necessary rules to implement the objectives of this Act.\\n\\n# 24. Repeal and protection:\\n\\n(1) Nepal Citizenship Act, 2020 has been repealed.\\n\\n(2) Acts which have been repealed in accordance with sub-section (1) shall be deemed to have been carried out under this Act.\\n\\n# Nepal Citizenship (First Amendment) Ordinance, 2078\\n\\nOpinion published in the Gazette\\n\\n2078/02/09\\n\\nSamvat 2078 Ordinance No. 11\\n\\nOrdinance amending the Nepal Citizenship Act, 2063\\n\\n# Preamble:\\n\\nSince it is desirable to immediately amend the Nepal Citizenship Act, 2063 and there is no intervention of the Federal Parliament, this Ordinance has been promulgated on the recommendation of the Council of Ministers under Article 114 of the Constitution of Nepal.\\n\\n# 25. Title and Commencement:\\n\\n(1) This Ordinance shall be named “Nepal Citizenship (First Amendment) Ordinance, 2078”.\\n\\n(2) This Ordinance shall come into force forthwith.\\n\\n# 26. Amendment to Section 3 of the Nepal Citizenship Act, 2063:\\n\\nIn Section 3 of the Nepal Citizenship Act, 2063 (hereinafter referred to as the “Original Act”),-\\n\\n(1) In sub-section (3), instead of the words \"within the borders of Nepal\", the words \"within Nepal\" have been kept, instead of the words \"paternity and motherhood\" in the sub-section, the words \"paternity and motherhood\" have been kept.\\n\\n(2) Sub-section (3) of the following sub-sections (4), (5) and (6) have been added:-\\n\\n(4) Samvat 2072, the child of a citizen who was born before Ashoj 3, if both his father and mother are citizens of Nepal, he will get Nepalese citizenship on the basis of descent after reaching the age of sixteen.\\n---\\n(5) A person who was born in Nepal from a mother who is a citizen of Nepal and settled in Nepal and whose father cannot be identified will get Nepalese citizenship on the basis of descendants.\\n\\n(6) According to sub-section (5), if the father of a person who has received citizenship is a foreigner, such person\\'s citizenship on the basis of descent will not be retained and if the child declares that he did not receive the citizenship of the foreign country on the basis of his father\\'s citizenship, the child\\'s citizenship will be converted into a recognized citizenship.\\n\\n# 27. Amendment to Section 8 of the original Act:\\n\\nSection 8 of the original Act,-\\n\\n(1) After clause (a) of sub-section (1), the following clause (a1) shall be inserted:-\\n\\n\"(A1) Self-declaration of birth of a person born in Nepal from a mother who is a citizen of Nepal and settled in Nepal and the identity of the father has not been ascertained. At the time of filing the petition, the petitioner must attach a self-declaration of death along with the evidence that the mother of such a person has died or moved to another address.\"\\n\\n(2) After sub-section (1) the following sub-section (1A) shall be inserted:-\\n\\n\"(1a) Notwithstanding anything written in clause (a) of sub-section (1), except for sub-section (4) of section 3, when applying for a certificate of citizenship, copies of the certificate of citizenship of both father and mother shall be attached.\"\\n\\n# 28. Amendment in Section 21 of the original Act:\\n\\nSub-section (3) of Section 21 of the original Act, sub-sections (3A) and (3B) of the due date have been added:-\\n\\n\"(3a) Under sub-section (6) of section 3, a person who makes a false self-declaration shall be imprisoned for six months to one year or fined up to fifty rupees or one lakh rupees or fined. In the case of obtaining citizenship under false self-declaration, the citizenship will be automatically revoked.\\n\\n(3b) Sub-section (1) Clause (A1) of Section 8, in case of false self-declaration, the person who makes false self-declaration shall be imprisoned for one year or three years or fined up to one lakh rupees or three lakh rupees or more. In case of false self-declaration, the citizenship will be automatically revoked if it is obtained in a timely manner under this subsection.\"# Nepal Citizenship Act, 2063\\n\\nDate of authentication and publication: 2063.8.10\\n\\n# Act to amend\\n\\n1. Act to amend certain Nepal Acts, 2064 2064.5.9\\n2. Act to amend some Nepal Acts, 2072 2072.11.13\\n\\n2063 Act No. 25\\n\\n# An Act to amend and unify Nepal\\'s laws related to citizenship\\n\\nForeword: As a result of the historical people\\'s movement, the sovereignty of Nepal is vested in the Nepali people and the source of state power is the Nepali people. Realizing the situation in which Nepalese citizens are facing difficulties in the past due to their inability to obtain citizenship certificates, the House of Representatives made a resolution to solve the citizenship-related problems within the state of Nepal as soon as possible, 2063. Based on the political agreement reached on 22nd Kartik, it is desirable to timely amend and unify the existing legal system to arrange the acquisition, termination and other related matters of Nepalese citizenship.\\n\\nThe House of Representatives made this Act in the first year after the Declaration of the House of Representatives, 2063 was issued.\\n\\n# 1. Abbreviation and Commencement:\\n\\n1. (1) The name of this Act is “Nepal Citizenship Act, 2063”.\\n2. (2) This Act shall come into force immediately.\\n\\n# 2. Definition:\\n\\nIn this Act, unless the subject or context requires otherwise:\\n\\n1. (a) \"Minor\" means a person who has not completed sixteen years of age.\\n2. (b) \"Person\" means a natural person.\\n3. (c) \"Prescribed\" or \"as prescribed\" means prescribed or prescribed in the rules made under this Act.\\n\\n# 3. Acquisition of Nepalese citizenship by descent:\\n\\n1. (1) If a person\\'s father or mother is a citizen of Nepal at the time of his birth, such a person shall be a citizen of Nepal by descent.\\n2. (2) Notwithstanding anything written in sub-section (1), in the case of children born to a Nepali citizen woman who marries a foreign citizen, it shall be in accordance with sub-section (2) of section 5.\\n3. (3) Every minor who does not have a paternal and maternal address found within the borders of Nepal shall be considered a citizen of Nepal as a descendant until his father or mother is found.\\n\\n# 4. Acquisition of Nepalese citizenship by birth:\\n\\n1. (1) A person who was born within the borders of Nepal until the end of Chaitra year 2046 and has been permanently residing in Nepal shall be a citizen of Nepal by birth.\\n---\\n(2) According to sub-section (1), a person who wishes to obtain a certificate of citizenship shall submit an application before the election of the Constituent Assembly and the provision of the certificate of citizenship shall be as prescribed.\\n\\n(3) A person who is unable to submit an application within the time period specified in sub-section (2) due to special reasons may submit an application as prescribed within two years from the date of commencement of this Act.\\n\\n# 5. Acquiring recognized Nepali citizenship:\\n\\n(1) If a foreign woman who is married to a Nepali citizen wants to obtain Nepali citizenship, she must submit an application to the designated authority in the prescribed format. When making such an application, you will also have to submit proof of your marital relationship with a Nepalese citizen and the fact that you have taken action to renounce your foreign citizenship.\\n\\n(2) In the case of children born to a Nepali citizen woman married to a foreign citizen, if he was born in Nepal and resided in Nepal permanently, and based on the citizenship of his father, he has not acquired the citizenship of a foreign country, then he can be granted recognized citizenship as prescribed.\\n\\n(3) In accordance with sub-section (2), a person who wishes to obtain recognized citizenship shall submit an application to the designated authority by attaching the following documents:\\n\\n- (a) Copy of mother\\'s certificate of Nepalese citizenship,\\n- (b) Recommendation of the village or municipality related to the opening of the case of birth and permanent residence in Nepal,\\n- (c) Non-citizenship of any foreign country on the basis of father\\'s citizenship.\\n\\n(4) Among the foreign nationals who have fulfilled the following conditions and conditions, those who are deemed by the Government of Nepal to have made or can make a special contribution to science, philosophy, art, literature, world peace, human welfare or the industrial, economic or social progress of Nepal. The recognized Nepali citizenship can be granted as specified:\\n\\n- (a) able to speak and write Nepali or any other language prevalent in Nepal,\\n- (b) residing in Nepal for any business,\\n- (c) renounced or declared to renounce the citizenship of another country,\\n- (d) resided in Nepal for at least fifteen years,\\n- (e) Being a citizen of a country where there is a legal system or practice of granting naturalized citizenship to Nepali citizens.\\n---\\n# (f) of good conduct,\\n\\n# (G) Mentally healthy.\\n\\n# (5) Notwithstanding anything written in sub-section (4), among the children of a person who has obtained recognized Nepali citizenship, the child born before he acquired that citizenship may receive recognized Nepali citizenship as prescribed.\\n\\n# (6) According to this section, a person who has been recognized as a Nepali citizen will be given a certificate of Nepali citizenship in the prescribed format by taking an oath as per the schedule and from the date of receiving such a certificate, such person will be a recognized citizen of Nepal.\\n\\n# 6. Honorary citizenship of Nepal can be granted: Regardless of what is written in section 5, the government of Nepal can grant honorary citizenship of Nepal to a person of international fame.\\n\\n# 7. Citizenship at the time of annexation of territory: If any territory is acquired within Nepal by annexation, the person within that territory will be considered a citizen of Nepal from the date specified in the notification as prescribed by the Government of Nepal by publishing a notice in the Nepal Gazette under this Act.\\n\\n# 8. To apply for obtaining a certificate of citizenship:\\n\\n# (1) According to section 3, a person who has completed sixteen years of age and wishes to obtain a certificate of Nepali citizenship as a descendant must submit an application to the designated authority with copies of the following documents attached:\\n\\n- (a) Certificate of Nepalese citizenship of father or mother or relatives within three generations of their descent,\\n\\n# However, this provision will not be applicable in case of Nepali citizen women who are married to foreign nationals.\\n\\n- (B) Recommendation made by the village or municipality to reveal the place of birth and relationship.\\n\\n# Amended by Act to amend certain Nepal Acts, 2072.\\n\\n# (2) According to section 4, a person who has completed sixteen years of age and wishes to obtain a certificate of Nepali citizenship based on birth must submit an application to the designated authority with copies of the following documents attached:\\n\\n- (a) A recommendation made by the concerned village or municipality to disclose the fact that he was born in Nepal and has been permanently residing in Nepal,\\n\\n# Amended by Act to amend certain Nepal Acts, 2072.\\n---\\n(b) Land owner registration proof of his or his family\\'s name or certificate of Mohiani rights or proof of household ownership or proof that his or his father\\'s or mother\\'s name is included in the voter\\'s list prepared by the Election Commission.\\n\\n(3) After receiving the application according to sub-section (1) or (2), the designated officer will investigate based on the evidence received and give him a certificate of Nepali citizenship.\\n\\n(4) In the event that a person is unable to submit the proofs as per sub-section (1) or (2) with the application, the designated officer can issue a certificate of Nepali citizenship based on the identification of at least three persons residing in the same ward who know the applicant and who have obtained certificates of Nepali citizenship.\\n\\n(5) In accordance with sub-section (4), the fact that the applicant was born in Nepal and has a permanent residence must be clearly mentioned during the on-site survey.\\n\\n(6) During the investigation according to sub-section (3) or (4), if any applicant is found not eligible to get a certificate of Nepali citizenship, he shall be informed about the matter within the prescribed period after making a decision on the matter.\\n\\n# 9. Right to issue certificate of citizenship:\\n\\nThe designated authority will have the right to issue a certificate of Nepalese citizenship based on descent, birth or recognition.\\n\\n# 10. Non-retention of Nepali citizenship:\\n\\n(1) After a citizen of Nepal voluntarily acquires the citizenship of a foreign country, his Nepali citizenship shall not be retained.\\n\\n(2) After a Nepalese citizen gives notice to renounce Nepalese citizenship as prescribed, the designated officer shall register such notice and from the date of such registration, his Nepalese citizenship shall not continue.\\n\\n(3) If a person is removed from Nepali citizenship in accordance with section 14, the Nepali citizenship of such person shall not continue from the date of such removal.\\n\\n(4) If a person has the citizenship of Nepal and a foreign country at the same time, such a person should choose the citizenship of one of the countries within two years of attaining the age of sixteen. In the case of not choosing such citizenship, his Nepali citizenship will not be maintained after the expiry of that period.\\n\\n(5) If a question arises as to whether a citizen of Nepal has acquired the citizenship of a foreign country or not, the designated authority shall make a decision according to the prevailing law.\\n\\n# 11. Renewal of Nepalese citizenship:\\n\\nIf a Nepali citizen, after acquiring the citizenship of a foreign country, returns to Nepal and gives the certificate of renouncing the citizenship of the foreign country to the designated authority, his Nepali citizenship will be restored from the date of registration of such certificate.\\n---\\n# 12 Cancellation of citizenship certificate:\\n\\nIf it is proved that a Nepali citizen has obtained a certificate of Nepali citizenship by giving false information, the designated authority will cancel such citizenship certificate.\\n\\n# 13. Do not take dual citizenship certificate:\\n\\nNo one should take more than one citizenship certificate. But on the basis of migration, if a person wishes, it will not be a hindrance to issue another citizenship certificate from the concerned office.\\n\\n# 14. Removal from Nepali citizenship:\\n\\n1. If it is proved that a foreigner has obtained a certificate of Nepali citizenship by giving false information or a statement that he is a Nepali citizen, the Government of Nepal will cancel his Nepali citizenship certificate and order to remove him from Nepali citizenship.\\n2. According to this clause, an appeal may be filed in the concerned High Court within thirty-five days against the order issued by the Government of Nepal to remove a person from the citizenship of Nepal.\\n\\nAmended by Act to amend certain Nepal Acts, 2072.\\n\\nAct to amend some Nepal Acts, 2064.\\n\\n# 15. Keeping records of citizenship certificates:\\n\\nThe arrangements related to keeping records of Nepali citizenship certificates will be as prescribed.\\n\\n# 16. No loss of rights, duties and responsibilities:\\n\\nIf someone\\'s Nepali citizenship is terminated due to any reason, his rights, duties and obligations in relation to any act done by him while he was a citizen of Nepal shall not be considered to be lost due to the termination of citizenship.\\n\\n# 17. Correction of details:\\n\\n1. If a person wishes to correct the details in his/her Nepali citizenship certificate, if the surname or age mentioned in the certificate of educational qualification has changed, or if there is a minor error in the citizenship certificate, he/she should submit an application to the designated authority with the necessary evidence.\\n\\nExplanation: For the purposes of this sub-section, \"minor error\" means any non-material difference in the particulars mentioned in the certificate of citizenship, such as: words like \"Kumari\", \"Devi\", \"Bahadur\", \"Prasad\" etc. have been superseded or omitted or there has been a difference in size, shape or other minor errors. will indicate an error.\\n\\nAfter receiving the application according to sub-section (1), the concerned officer may issue another certificate of citizenship by obtaining the previously obtained citizenship certificate and correcting such details, including the witness Surgmin according to the evidence and requirements.\\nIf a married or divorced woman submits an application to amend the surname, nationality or other details, the designated officer may issue another certificate of citizenship after understanding the necessary issues by taking out the previously obtained citizenship certificate and amending the surname, nationality or other details.\\n---\\n# 18. Reconsideration:\\n\\n(1) Except as otherwise written in this Act, a person who is aggrieved by an order issued by an officer in accordance with this Act may apply to the Government of Nepal within thirty-five days from the date of such order to reconsider such order.\\n\\n(2) After receiving the application as per sub-section (1), after taking the report from the ordering officer and considering the report, the Government of Nepal may issue its decision or order and that decision or order shall be final.\\n\\n# 19. Publication of list:\\n\\nAccording to section 14, the list of persons removed from Nepali citizenship will be published in the Nepal Gazette every year.\\n\\n# 20. Delegation of authority:\\n\\n(1) The Government of Nepal may delegate the authority granted to it under this Act to any official of the Government of Nepal. However, according to section 14, the right to remove from Nepali citizens will not be delegated.\\n\\n(2) According to this Act, the officer assigned to distribute the certificate of citizenship may delegate the authority granted to him to any authorized employee.\\n\\n# 21. Punishment:\\n\\n(1) If a foreigner claims to be a Nepali citizen and obtains Nepali citizenship by giving false information, he will be punished with imprisonment for one to five years or a fine of fifty thousand to one lakh rupees or both. In case of punishment according to this sub-section for obtaining citizenship by giving false information, the citizenship thus obtained shall be automatically revoked.\\n\\n(2) A person who identifies or recommends a foreigner to obtain citizenship on the basis of false information shall be punished with imprisonment for a term of six months to three years or a fine of twenty five thousand to fifty thousand rupees or both.\\n\\n(3) If someone creates a false or forged certificate of Nepali citizenship or makes it into circulation, the person who commits such an act will be punished with imprisonment for one to five years or a fine of twenty thousand to one lakh rupees or both.\\n\\n(4) If someone voluntarily adds or corrects the information in the certificate of complete citizenship, the person who commits such an act will be punished with imprisonment for up to three months or a fine of up to ten thousand rupees or both.\\n\\n(5) If a certificate of citizenship is obtained by giving false information in accordance with section 12, or if the information corrected in accordance with section 17 is proved to be false, the person who gives such false information or causes the violation of this Act or the rules made under this Act to commit any other offense shall be fined up to fifteen thousand rupees.\\n\\n(6) If the officer issuing the certificate of Nepalese citizenship knowingly or maliciously issues the certificate of citizenship in a manner contrary to this Act or the rules made under this Act, or corrects the details of the certificate of citizenship, such officer or employee shall be subject to departmental action in accordance with the prevailing law.\\n---\\n# 22. Can appoint a citizenship team:\\n\\n(1) The Government of Nepal can appoint a citizenship certificate distribution team to distribute citizenship certificates if it deems necessary.\\n\\n(2) The team assigned according to sub-section (1) will distribute the certificate of citizenship subject to the instructions given by the Government of Nepal.\\n\\n# 23. Power to make rules:\\n\\nThe Government of Nepal can make necessary rules to implement the objectives of this Act.\\n\\n# 24. Repeal and protection:\\n\\n(1) Nepal Citizenship Act, 2020 has been repealed.\\n\\n(2) Acts which have been repealed in accordance with sub-section (1) shall be deemed to have been carried out under this Act.\\n\\n# Nepal Citizenship (First Amendment) Ordinance, 2078\\n\\nOpinion published in the Gazette\\n\\n2078/02/09\\n\\nSamvat 2078 Ordinance No. 11\\n\\nOrdinance amending the Nepal Citizenship Act, 2063\\n\\n# Preamble:\\n\\nSince it is desirable to immediately amend the Nepal Citizenship Act, 2063 and there is no intervention of the Federal Parliament, this Ordinance has been promulgated on the recommendation of the Council of Ministers under Article 114 of the Constitution of Nepal.\\n\\n# 25. Title and Commencement:\\n\\n(1) This Ordinance shall be named “Nepal Citizenship (First Amendment) Ordinance, 2078”.\\n\\n(2) This Ordinance shall come into force forthwith.\\n\\n# 26. Amendment to Section 3 of the Nepal Citizenship Act, 2063:\\n\\nIn Section 3 of the Nepal Citizenship Act, 2063 (hereinafter referred to as the “Original Act”),-\\n\\n(1) In sub-section (3), instead of the words \"within the borders of Nepal\", the words \"within Nepal\" have been kept, instead of the words \"paternity and motherhood\" in the sub-section, the words \"paternity and motherhood\" have been kept.\\n\\n(2) Sub-section (3) of the following sub-sections (4), (5) and (6) have been added:-\\n\\n(4) Samvat 2072, the child of a citizen who was born before Ashoj 3, if both his father and mother are citizens of Nepal, he will get Nepalese citizenship on the basis of descent after reaching the age of sixteen.\\n---\\n(5) A person who was born in Nepal from a mother who is a citizen of Nepal and settled in Nepal and whose father cannot be identified will get Nepalese citizenship on the basis of descendants.\\n\\n(6) According to sub-section (5), if the father of a person who has received citizenship is a foreigner, such person\\'s citizenship on the basis of descent will not be retained and if the child declares that he did not receive the citizenship of the foreign country on the basis of his father\\'s citizenship, the child\\'s citizenship will be converted into a recognized citizenship.\\n\\n# 27. Amendment to Section 8 of the original Act:\\n\\nSection 8 of the original Act,-\\n\\n(1) After clause (a) of sub-section (1), the following clause (a1) shall be inserted:-\\n\\n\"(A1) Self-declaration of birth of a person born in Nepal from a mother who is a citizen of Nepal and settled in Nepal and the identity of the father has not been ascertained. At the time of filing the petition, the petitioner must attach a self-declaration of death along with the evidence that the mother of such a person has died or moved to another address.\"\\n\\n(2) After sub-section (1) the following sub-section (1A) shall be inserted:-\\n\\n\"(1a) Notwithstanding anything written in clause (a) of sub-section (1), except for sub-section (4) of section 3, when applying for a certificate of citizenship, copies of the certificate of citizenship of both father and mother shall be attached.\"\\n\\n# 28. Amendment in Section 21 of the original Act:\\n\\nSub-section (3) of Section 21 of the original Act, sub-sections (3A) and (3B) of the due date have been added:-\\n\\n\"(3a) Under sub-section (6) of section 3, a person who makes a false self-declaration shall be imprisoned for six months to one year or fined up to fifty rupees or one lakh rupees or fined. In the case of obtaining citizenship under false self-declaration, the citizenship will be automatically revoked.\\n\\n(3b) Sub-section (1) Clause (A1) of Section 8, in case of false self-declaration, the person who makes false self-declaration shall be imprisoned for one year or three years or fined up to one lakh rupees or three lakh rupees or more. In case of false self-declaration, the citizenship will be automatically revoked if it is obtained in a timely manner under this subsection.\"# Nepal Citizenship Act, 2063\\n\\nDate of authentication and publication: 2063.8.10\\n\\n# Act to amend\\n\\n1. Act to amend certain Nepal Acts, 2064 2064.5.9\\n2. Act to amend some Nepal Acts, 2072 2072.11.13\\n\\n2063 Act No. 25\\n\\n# An Act to amend and unify Nepal\\'s laws related to citizenship\\n\\nForeword: As a result of the historical people\\'s movement, the sovereignty of Nepal is vested in the Nepali people and the source of state power is the Nepali people. Realizing the situation in which Nepalese citizens are facing difficulties in the past due to their inability to obtain citizenship certificates, the House of Representatives made a resolution to solve the citizenship-related problems within the state of Nepal as soon as possible, 2063. Based on the political agreement reached on 22nd Kartik, it is desirable to timely amend and unify the existing legal system to arrange the acquisition, termination and other related matters of Nepalese citizenship.\\n\\nThe House of Representatives made this Act in the first year after the Declaration of the House of Representatives, 2063 was issued.\\n\\n# 1. Abbreviation and Commencement:\\n\\n1. (1) The name of this Act is “Nepal Citizenship Act, 2063”.\\n2. (2) This Act shall come into force immediately.\\n\\n# 2. Definition:\\n\\nIn this Act, unless the subject or context requires otherwise:\\n\\n1. (a) \"Minor\" means a person who has not completed sixteen years of age.\\n2. (b) \"Person\" means a natural person.\\n3. (c) \"Prescribed\" or \"as prescribed\" means prescribed or prescribed in the rules made under this Act.\\n\\n# 3. Acquisition of Nepalese citizenship by descent:\\n\\n1. (1) If a person\\'s father or mother is a citizen of Nepal at the time of his birth, such a person shall be a citizen of Nepal by descent.\\n2. (2) Notwithstanding anything written in sub-section (1), in the case of children born to a Nepali citizen woman who marries a foreign citizen, it shall be in accordance with sub-section (2) of section 5.\\n3. (3) Every minor who does not have a paternal and maternal address found within the borders of Nepal shall be considered a citizen of Nepal as a descendant until his father or mother is found.\\n\\n# 4. Acquisition of Nepalese citizenship by birth:\\n\\n1. (1) A person who was born within the borders of Nepal until the end of Chaitra year 2046 and has been permanently residing in Nepal shall be a citizen of Nepal by birth.\\n---\\n(2) According to sub-section (1), a person who wishes to obtain a certificate of citizenship shall submit an application before the election of the Constituent Assembly and the provision of the certificate of citizenship shall be as prescribed.\\n\\n(3) A person who is unable to submit an application within the time period specified in sub-section (2) due to special reasons may submit an application as prescribed within two years from the date of commencement of this Act.\\n\\n# 5. Acquiring recognized Nepali citizenship:\\n\\n(1) If a foreign woman who is married to a Nepali citizen wants to obtain Nepali citizenship, she must submit an application to the designated authority in the prescribed format. When making such an application, you will also have to submit proof of your marital relationship with a Nepalese citizen and the fact that you have taken action to renounce your foreign citizenship.\\n\\n(2) In the case of children born to a Nepali citizen woman married to a foreign citizen, if he was born in Nepal and resided in Nepal permanently, and based on the citizenship of his father, he has not acquired the citizenship of a foreign country, then he can be granted recognized citizenship as prescribed.\\n\\n(3) In accordance with sub-section (2), a person who wishes to obtain recognized citizenship shall submit an application to the designated authority by attaching the following documents:\\n\\n- (a) Copy of mother\\'s certificate of Nepalese citizenship,\\n- (b) Recommendation of the village or municipality related to the opening of the case of birth and permanent residence in Nepal,\\n- (c) Non-citizenship of any foreign country on the basis of father\\'s citizenship.\\n\\n(4) Among the foreign nationals who have fulfilled the following conditions and conditions, those who are deemed by the Government of Nepal to have made or can make a special contribution to science, philosophy, art, literature, world peace, human welfare or the industrial, economic or social progress of Nepal. The recognized Nepali citizenship can be granted as specified:\\n\\n- (a) able to speak and write Nepali or any other language prevalent in Nepal,\\n- (b) residing in Nepal for any business,\\n- (c) renounced or declared to renounce the citizenship of another country,\\n- (d) resided in Nepal for at least fifteen years,\\n- (e) Being a citizen of a country where there is a legal system or practice of granting naturalized citizenship to Nepali citizens.\\n---\\n# (f) of good conduct,\\n\\n# (G) Mentally healthy.\\n\\n# (5) Notwithstanding anything written in sub-section (4), among the children of a person who has obtained recognized Nepali citizenship, the child born before he acquired that citizenship may receive recognized Nepali citizenship as prescribed.\\n\\n# (6) According to this section, a person who has been recognized as a Nepali citizen will be given a certificate of Nepali citizenship in the prescribed format by taking an oath as per the schedule and from the date of receiving such a certificate, such person will be a recognized citizen of Nepal.\\n\\n# 6. Honorary citizenship of Nepal can be granted: Regardless of what is written in section 5, the government of Nepal can grant honorary citizenship of Nepal to a person of international fame.\\n\\n# 7. Citizenship at the time of annexation of territory: If any territory is acquired within Nepal by annexation, the person within that territory will be considered a citizen of Nepal from the date specified in the notification as prescribed by the Government of Nepal by publishing a notice in the Nepal Gazette under this Act.\\n\\n# 8. To apply for obtaining a certificate of citizenship:\\n\\n# (1) According to section 3, a person who has completed sixteen years of age and wishes to obtain a certificate of Nepali citizenship as a descendant must submit an application to the designated authority with copies of the following documents attached:\\n\\n- (a) Certificate of Nepalese citizenship of father or mother or relatives within three generations of their descent,\\n\\n# However, this provision will not be applicable in case of Nepali citizen women who are married to foreign nationals.\\n\\n- (B) Recommendation made by the village or municipality to reveal the place of birth and relationship.\\n\\n# Amended by Act to amend certain Nepal Acts, 2072.\\n\\n# (2) According to section 4, a person who has completed sixteen years of age and wishes to obtain a certificate of Nepali citizenship based on birth must submit an application to the designated authority with copies of the following documents attached:\\n\\n- (a) A recommendation made by the concerned village or municipality to disclose the fact that he was born in Nepal and has been permanently residing in Nepal,\\n\\n# Amended by Act to amend certain Nepal Acts, 2072.\\n---\\n(b) Land owner registration proof of his or his family\\'s name or certificate of Mohiani rights or proof of household ownership or proof that his or his father\\'s or mother\\'s name is included in the voter\\'s list prepared by the Election Commission.\\n\\n(3) After receiving the application according to sub-section (1) or (2), the designated officer will investigate based on the evidence received and give him a certificate of Nepali citizenship.\\n\\n(4) In the event that a person is unable to submit the proofs as per sub-section (1) or (2) with the application, the designated officer can issue a certificate of Nepali citizenship based on the identification of at least three persons residing in the same ward who know the applicant and who have obtained certificates of Nepali citizenship.\\n\\n(5) In accordance with sub-section (4), the fact that the applicant was born in Nepal and has a permanent residence must be clearly mentioned during the on-site survey.\\n\\n(6) During the investigation according to sub-section (3) or (4), if any applicant is found not eligible to get a certificate of Nepali citizenship, he shall be informed about the matter within the prescribed period after making a decision on the matter.\\n\\n# 9. Right to issue certificate of citizenship:\\n\\nThe designated authority will have the right to issue a certificate of Nepalese citizenship based on descent, birth or recognition.\\n\\n# 10. Non-retention of Nepali citizenship:\\n\\n(1) After a citizen of Nepal voluntarily acquires the citizenship of a foreign country, his Nepali citizenship shall not be retained.\\n\\n(2) After a Nepalese citizen gives notice to renounce Nepalese citizenship as prescribed, the designated officer shall register such notice and from the date of such registration, his Nepalese citizenship shall not continue.\\n\\n(3) If a person is removed from Nepali citizenship in accordance with section 14, the Nepali citizenship of such person shall not continue from the date of such removal.\\n\\n(4) If a person has the citizenship of Nepal and a foreign country at the same time, such a person should choose the citizenship of one of the countries within two years of attaining the age of sixteen. In the case of not choosing such citizenship, his Nepali citizenship will not be maintained after the expiry of that period.\\n\\n(5) If a question arises as to whether a citizen of Nepal has acquired the citizenship of a foreign country or not, the designated authority shall make a decision according to the prevailing law.\\n\\n# 11. Renewal of Nepalese citizenship:\\n\\nIf a Nepali citizen, after acquiring the citizenship of a foreign country, returns to Nepal and gives the certificate of renouncing the citizenship of the foreign country to the designated authority, his Nepali citizenship will be restored from the date of registration of such certificate.\\n---\\n# 12 Cancellation of citizenship certificate:\\n\\nIf it is proved that a Nepali citizen has obtained a certificate of Nepali citizenship by giving false information, the designated authority will cancel such citizenship certificate.\\n\\n# 13. Do not take dual citizenship certificate:\\n\\nNo one should take more than one citizenship certificate. But on the basis of migration, if a person wishes, it will not be a hindrance to issue another citizenship certificate from the concerned office.\\n\\n# 14. Removal from Nepali citizenship:\\n\\n1. If it is proved that a foreigner has obtained a certificate of Nepali citizenship by giving false information or a statement that he is a Nepali citizen, the Government of Nepal will cancel his Nepali citizenship certificate and order to remove him from Nepali citizenship.\\n2. According to this clause, an appeal may be filed in the concerned High Court within thirty-five days against the order issued by the Government of Nepal to remove a person from the citizenship of Nepal.\\n\\nAmended by Act to amend certain Nepal Acts, 2072.\\n\\nAct to amend some Nepal Acts, 2064.\\n\\n# 15. Keeping records of citizenship certificates:\\n\\nThe arrangements related to keeping records of Nepali citizenship certificates will be as prescribed.\\n\\n# 16. No loss of rights, duties and responsibilities:\\n\\nIf someone\\'s Nepali citizenship is terminated due to any reason, his rights, duties and obligations in relation to any act done by him while he was a citizen of Nepal shall not be considered to be lost due to the termination of citizenship.\\n\\n# 17. Correction of details:\\n\\n1. If a person wishes to correct the details in his/her Nepali citizenship certificate, if the surname or age mentioned in the certificate of educational qualification has changed, or if there is a minor error in the citizenship certificate, he/she should submit an application to the designated authority with the necessary evidence.\\n\\nExplanation: For the purposes of this sub-section, \"minor error\" means any non-material difference in the particulars mentioned in the certificate of citizenship, such as: words like \"Kumari\", \"Devi\", \"Bahadur\", \"Prasad\" etc. have been superseded or omitted or there has been a difference in size, shape or other minor errors. will indicate an error.\\n\\nAfter receiving the application according to sub-section (1), the concerned officer may issue another certificate of citizenship by obtaining the previously obtained citizenship certificate and correcting such details, including the witness Surgmin according to the evidence and requirements.\\nIf a married or divorced woman submits an application to amend the surname, nationality or other details, the designated officer may issue another certificate of citizenship after understanding the necessary issues by taking out the previously obtained citizenship certificate and amending the surname, nationality or other details.\\n---\\n# 18. Reconsideration:\\n\\n(1) Except as otherwise written in this Act, a person who is aggrieved by an order issued by an officer in accordance with this Act may apply to the Government of Nepal within thirty-five days from the date of such order to reconsider such order.\\n\\n(2) After receiving the application as per sub-section (1), after taking the report from the ordering officer and considering the report, the Government of Nepal may issue its decision or order and that decision or order shall be final.\\n\\n# 19. Publication of list:\\n\\nAccording to section 14, the list of persons removed from Nepali citizenship will be published in the Nepal Gazette every year.\\n\\n# 20. Delegation of authority:\\n\\n(1) The Government of Nepal may delegate the authority granted to it under this Act to any official of the Government of Nepal. However, according to section 14, the right to remove from Nepali citizens will not be delegated.\\n\\n(2) According to this Act, the officer assigned to distribute the certificate of citizenship may delegate the authority granted to him to any authorized employee.\\n\\n# 21. Punishment:\\n\\n(1) If a foreigner claims to be a Nepali citizen and obtains Nepali citizenship by giving false information, he will be punished with imprisonment for one to five years or a fine of fifty thousand to one lakh rupees or both. In case of punishment according to this sub-section for obtaining citizenship by giving false information, the citizenship thus obtained shall be automatically revoked.\\n\\n(2) A person who identifies or recommends a foreigner to obtain citizenship on the basis of false information shall be punished with imprisonment for a term of six months to three years or a fine of twenty five thousand to fifty thousand rupees or both.\\n\\n(3) If someone creates a false or forged certificate of Nepali citizenship or makes it into circulation, the person who commits such an act will be punished with imprisonment for one to five years or a fine of twenty thousand to one lakh rupees or both.\\n\\n(4) If someone voluntarily adds or corrects the information in the certificate of complete citizenship, the person who commits such an act will be punished with imprisonment for up to three months or a fine of up to ten thousand rupees or both.\\n\\n(5) If a certificate of citizenship is obtained by giving false information in accordance with section 12, or if the information corrected in accordance with section 17 is proved to be false, the person who gives such false information or causes the violation of this Act or the rules made under this Act to commit any other offense shall be fined up to fifteen thousand rupees.\\n\\n(6) If the officer issuing the certificate of Nepalese citizenship knowingly or maliciously issues the certificate of citizenship in a manner contrary to this Act or the rules made under this Act, or corrects the details of the certificate of citizenship, such officer or employee shall be subject to departmental action in accordance with the prevailing law.\\n---\\n# 22. Can appoint a citizenship team:\\n\\n(1) The Government of Nepal can appoint a citizenship certificate distribution team to distribute citizenship certificates if it deems necessary.\\n\\n(2) The team assigned according to sub-section (1) will distribute the certificate of citizenship subject to the instructions given by the Government of Nepal.\\n\\n# 23. Power to make rules:\\n\\nThe Government of Nepal can make necessary rules to implement the objectives of this Act.\\n\\n# 24. Repeal and protection:\\n\\n(1) Nepal Citizenship Act, 2020 has been repealed.\\n\\n(2) Acts which have been repealed in accordance with sub-section (1) shall be deemed to have been carried out under this Act.\\n\\n# Nepal Citizenship (First Amendment) Ordinance, 2078\\n\\nOpinion published in the Gazette\\n\\n2078/02/09\\n\\nSamvat 2078 Ordinance No. 11\\n\\nOrdinance amending the Nepal Citizenship Act, 2063\\n\\n# Preamble:\\n\\nSince it is desirable to immediately amend the Nepal Citizenship Act, 2063 and there is no intervention of the Federal Parliament, this Ordinance has been promulgated on the recommendation of the Council of Ministers under Article 114 of the Constitution of Nepal.\\n\\n# 25. Title and Commencement:\\n\\n(1) This Ordinance shall be named “Nepal Citizenship (First Amendment) Ordinance, 2078”.\\n\\n(2) This Ordinance shall come into force forthwith.\\n\\n# 26. Amendment to Section 3 of the Nepal Citizenship Act, 2063:\\n\\nIn Section 3 of the Nepal Citizenship Act, 2063 (hereinafter referred to as the “Original Act”),-\\n\\n(1) In sub-section (3), instead of the words \"within the borders of Nepal\", the words \"within Nepal\" have been kept, instead of the words \"paternity and motherhood\" in the sub-section, the words \"paternity and motherhood\" have been kept.\\n\\n(2) Sub-section (3) of the following sub-sections (4), (5) and (6) have been added:-\\n\\n(4) Samvat 2072, the child of a citizen who was born before Ashoj 3, if both his father and mother are citizens of Nepal, he will get Nepalese citizenship on the basis of descent after reaching the age of sixteen.\\n---\\n(5) A person who was born in Nepal from a mother who is a citizen of Nepal and settled in Nepal and whose father cannot be identified will get Nepalese citizenship on the basis of descendants.\\n\\n(6) According to sub-section (5), if the father of a person who has received citizenship is a foreigner, such person\\'s citizenship on the basis of descent will not be retained and if the child declares that he did not receive the citizenship of the foreign country on the basis of his father\\'s citizenship, the child\\'s citizenship will be converted into a recognized citizenship.\\n\\n# 27. Amendment to Section 8 of the original Act:\\n\\nSection 8 of the original Act,-\\n\\n(1) After clause (a) of sub-section (1), the following clause (a1) shall be inserted:-\\n\\n\"(A1) Self-declaration of birth of a person born in Nepal from a mother who is a citizen of Nepal and settled in Nepal and the identity of the father has not been ascertained. At the time of filing the petition, the petitioner must attach a self-declaration of death along with the evidence that the mother of such a person has died or moved to another address.\"\\n\\n(2) After sub-section (1) the following sub-section (1A) shall be inserted:-\\n\\n\"(1a) Notwithstanding anything written in clause (a) of sub-section (1), except for sub-section (4) of section 3, when applying for a certificate of citizenship, copies of the certificate of citizenship of both father and mother shall be attached.\"\\n\\n# 28. Amendment in Section 21 of the original Act:\\n\\nSub-section (3) of Section 21 of the original Act, sub-sections (3A) and (3B) of the due date have been added:-\\n\\n\"(3a) Under sub-section (6) of section 3, a person who makes a false self-declaration shall be imprisoned for six months to one year or fined up to fifty rupees or one lakh rupees or fined. In the case of obtaining citizenship under false self-declaration, the citizenship will be automatically revoked.\\n\\n(3b) Sub-section (1) Clause (A1) of Section 8, in case of false self-declaration, the person who makes false self-declaration shall be imprisoned for one year or three years or fined up to one lakh rupees or three lakh rupees or more. In case of false self-declaration, the citizenship will be automatically revoked if it is obtained in a timely manner under this subsection.\"'\n",
      "Metadata: {'source': 'data/parsed_document.md'}\n"
     ]
    }
   ],
   "execution_count": 10
  },
  {
   "cell_type": "code",
   "metadata": {
    "colab": {
     "base_uri": "https://localhost:8080/"
    },
    "id": "9qm2SE6LGXBN",
    "outputId": "7308ad77-23c4-45d1-b15f-50b56cdcf83b",
    "ExecuteTime": {
     "end_time": "2024-11-22T07:49:53.267964Z",
     "start_time": "2024-11-22T07:49:53.213070Z"
    }
   },
   "source": [
    "text_splitter = RecursiveCharacterTextSplitter(chunk_size=2048, chunk_overlap=128)\n",
    "docs = text_splitter.split_documents(loaded_documents)\n",
    "len(docs)"
   ],
   "outputs": [
    {
     "data": {
      "text/plain": [
       "54"
      ]
     },
     "execution_count": 11,
     "metadata": {},
     "output_type": "execute_result"
    }
   ],
   "execution_count": 11
  },
  {
   "cell_type": "code",
   "metadata": {
    "colab": {
     "base_uri": "https://localhost:8080/",
     "height": 333,
     "referenced_widgets": [
      "f3063b3bfc7f4498a19e06d93adc7618",
      "732dc4b21a8e4002b1951ba47beb60aa",
      "7b0f8c13ae4246b7990690540a94311a",
      "095e8720fc124ddf972305a3410a4e1a",
      "1e18e6bdf4554c03a10e461a41f7b529",
      "24f45f7670694297b3b9d72ed398ee1a",
      "93e85fec634c48bbb7ea527b4964f69e",
      "9d7dc9afe03e426e9cc35093dec01523",
      "e80c0655a5c549b28c3fa50eff1e240f",
      "48e933a1ff904ba1b19bdfe218a5d0f5",
      "35242b0a0f32463e810abec29231d1cc",
      "74734975e103481fa0032e2663bd419a",
      "f8996b0d2bbe4c559c39e30ae3ac2bf0",
      "21cc7c37a4184cd096211d310491a84a",
      "4952ad557e1544f2984527548be2e4d2",
      "3f3d2bdc1f7243da8deaff86dddb4c68",
      "853ce32a8e6745299a49d47b7020d0e5",
      "ed260797bf364d2da1e309657387fc03",
      "811cbba2872b46889148b7b433ceb79b",
      "59c31813ad6b46b29fa64044049cb908",
      "d4d6b5f824ce4047a195aef2b88b3cb9",
      "77c779dee36e4641956954baecf17610",
      "7b82a8144cae462ea2f7f43dba9b0708",
      "d92071debeb349ffbab5c64dcf344d69",
      "77e84ac71df1427e9eb14891f0aa51d4",
      "852cc73746d947bfa8f0fe0580040122",
      "d777bf95d3014372bbee9a4059ad213e",
      "379a3fee168b4fd4b82c3169a48533c4",
      "4303f0e715cd4f359e62310f38003599",
      "d0ace2f93b3c4e48a104167343441180",
      "b56bc227b62240eebbc1fd5feebdcd9a",
      "1373d297e6d248bd995e0f84f2cf49bc",
      "0ed00727060b4ae4ac37baede59dc6ad",
      "e356d430628f46b98072fd71df518154",
      "d45ff23447c24c9c98c77658e13dac88",
      "6739182ed33e452ebb0ae33f20dc25ba",
      "1fc0a2e7568d4380aa40cc21c80bf266",
      "ccdc6c493e1e4ecf879795df123d9316",
      "e0cbfcd9b5ca4654a6253bb984b48baf",
      "98374c497cbf49c88c23af7da7f6e3bf",
      "eb80f19a13d141d2a99c5c899edfe299",
      "8581e6046fda47be8d67f5b880464ecb",
      "72e5ef869bca4c3a850360913c363c8e",
      "1587de08b60944eebc9471a191d04ef3",
      "9482ad564a4e481c810e9ea7a88f4f68",
      "06268a39222f4bab9c14d237ac431494",
      "998c5bbf48d34e03ad5245d7809b3f43",
      "f85cdc1b2a1940ea9af7409e49efc3b6",
      "4dfab088d3eb421da9cd630e247f5635",
      "9f3ff548312b4f02903c46ec245fbf12",
      "bb4bf3818c6747a781dfe8cf18182dab",
      "be96f2098a334d13a5bd7f1e036a7517",
      "51baf8b425d742c5b14ca4acefb3d850",
      "1b1ebc3badac428ca835ee90ebda9f22",
      "e96c29c59be64418903388ba0e643238",
      "76c95f9df2ed47aea133efc4bbe4da65",
      "19edf21a57194fc79a5cd1a89c4df6f8",
      "ee70f7d9f33b4020be285ebdf8f61862",
      "ee988f87cce44dea9b37488b76bd790e",
      "327835ad9738446487d7e06265364b7f",
      "2437939167e642079881dd9b590b8769",
      "d9bf2742578c4cf1a042afddaef65c92",
      "c38b1f2464ee483bb2077b9c35ef979e",
      "eb13d2c7b3bb4a9b9d95c726ff891537",
      "9f30dab191654ddeb1e7f0b5867c5563",
      "52fe8c1f17df4481a92496dedab47277"
     ]
    },
    "id": "cXnUPtjgG5ja",
    "outputId": "d7c11ba3-7225-484a-9b4e-cd72770c1b75",
    "ExecuteTime": {
     "end_time": "2024-11-22T07:54:13.849187Z",
     "start_time": "2024-11-22T07:54:12.091181Z"
    }
   },
   "source": [
    "embeddings = FastEmbedEmbeddings(model_name=\"BAAI/bge-base-en-v1.5\")\n",
    "qdrant = Qdrant.from_documents(\n",
    "    docs,\n",
    "    embeddings,\n",
    "    location=\":memory:\",\n",
    "    path=\"./db\",\n",
    "    collection_name=\"document_embeddings\",\n",
    ")"
   ],
   "outputs": [
    {
     "name": "stderr",
     "output_type": "stream",
     "text": [
      "Fetching 5 files: 100%|██████████| 5/5 [00:00<00:00, 4934.48it/s]\n"
     ]
    },
    {
     "ename": "RuntimeException",
     "evalue": "[ONNXRuntimeError] : 6 : RUNTIME_EXCEPTION : Non-zero status code returned while running SkipLayerNormalization node. Name:'SkipLayerNorm_AddBias_0' Status Message: D:\\a\\_work\\1\\s\\include\\onnxruntime\\core/framework/op_kernel_context.h:42 onnxruntime::OpKernelContext::Input Missing Input: encoder.layer.0.attention.output.LayerNorm.weight\n",
     "output_type": "error",
     "traceback": [
      "\u001B[1;31m---------------------------------------------------------------------------\u001B[0m",
      "\u001B[1;31mRuntimeException\u001B[0m                          Traceback (most recent call last)",
      "Cell \u001B[1;32mIn[17], line 2\u001B[0m\n\u001B[0;32m      1\u001B[0m embeddings \u001B[38;5;241m=\u001B[39m FastEmbedEmbeddings(model_name\u001B[38;5;241m=\u001B[39m\u001B[38;5;124m\"\u001B[39m\u001B[38;5;124mBAAI/bge-base-en-v1.5\u001B[39m\u001B[38;5;124m\"\u001B[39m)\n\u001B[1;32m----> 2\u001B[0m qdrant \u001B[38;5;241m=\u001B[39m \u001B[43mQdrant\u001B[49m\u001B[38;5;241;43m.\u001B[39;49m\u001B[43mfrom_documents\u001B[49m\u001B[43m(\u001B[49m\n\u001B[0;32m      3\u001B[0m \u001B[43m    \u001B[49m\u001B[43mdocs\u001B[49m\u001B[43m,\u001B[49m\n\u001B[0;32m      4\u001B[0m \u001B[43m    \u001B[49m\u001B[43membeddings\u001B[49m\u001B[43m,\u001B[49m\n\u001B[0;32m      5\u001B[0m \u001B[43m    \u001B[49m\u001B[43mlocation\u001B[49m\u001B[38;5;241;43m=\u001B[39;49m\u001B[38;5;124;43m\"\u001B[39;49m\u001B[38;5;124;43m:memory:\u001B[39;49m\u001B[38;5;124;43m\"\u001B[39;49m\u001B[43m,\u001B[49m\n\u001B[0;32m      6\u001B[0m \u001B[43m    \u001B[49m\u001B[43mpath\u001B[49m\u001B[38;5;241;43m=\u001B[39;49m\u001B[38;5;124;43m\"\u001B[39;49m\u001B[38;5;124;43m./db\u001B[39;49m\u001B[38;5;124;43m\"\u001B[39;49m\u001B[43m,\u001B[49m\n\u001B[0;32m      7\u001B[0m \u001B[43m    \u001B[49m\u001B[43mcollection_name\u001B[49m\u001B[38;5;241;43m=\u001B[39;49m\u001B[38;5;124;43m\"\u001B[39;49m\u001B[38;5;124;43mdocument_embeddings\u001B[39;49m\u001B[38;5;124;43m\"\u001B[39;49m\u001B[43m,\u001B[49m\n\u001B[0;32m      8\u001B[0m \u001B[43m)\u001B[49m\n",
      "File \u001B[1;32m~\\Desktop\\final_chatbot\\venv\\Lib\\site-packages\\langchain_core\\vectorstores.py:550\u001B[0m, in \u001B[0;36mVectorStore.from_documents\u001B[1;34m(cls, documents, embedding, **kwargs)\u001B[0m\n\u001B[0;32m    548\u001B[0m texts \u001B[38;5;241m=\u001B[39m [d\u001B[38;5;241m.\u001B[39mpage_content \u001B[38;5;28;01mfor\u001B[39;00m d \u001B[38;5;129;01min\u001B[39;00m documents]\n\u001B[0;32m    549\u001B[0m metadatas \u001B[38;5;241m=\u001B[39m [d\u001B[38;5;241m.\u001B[39mmetadata \u001B[38;5;28;01mfor\u001B[39;00m d \u001B[38;5;129;01min\u001B[39;00m documents]\n\u001B[1;32m--> 550\u001B[0m \u001B[38;5;28;01mreturn\u001B[39;00m \u001B[38;5;28;43mcls\u001B[39;49m\u001B[38;5;241;43m.\u001B[39;49m\u001B[43mfrom_texts\u001B[49m\u001B[43m(\u001B[49m\u001B[43mtexts\u001B[49m\u001B[43m,\u001B[49m\u001B[43m \u001B[49m\u001B[43membedding\u001B[49m\u001B[43m,\u001B[49m\u001B[43m \u001B[49m\u001B[43mmetadatas\u001B[49m\u001B[38;5;241;43m=\u001B[39;49m\u001B[43mmetadatas\u001B[49m\u001B[43m,\u001B[49m\u001B[43m \u001B[49m\u001B[38;5;241;43m*\u001B[39;49m\u001B[38;5;241;43m*\u001B[39;49m\u001B[43mkwargs\u001B[49m\u001B[43m)\u001B[49m\n",
      "File \u001B[1;32m~\\Desktop\\final_chatbot\\venv\\Lib\\site-packages\\langchain_community\\vectorstores\\qdrant.py:1335\u001B[0m, in \u001B[0;36mQdrant.from_texts\u001B[1;34m(cls, texts, embedding, metadatas, ids, location, url, port, grpc_port, prefer_grpc, https, api_key, prefix, timeout, host, path, collection_name, distance_func, content_payload_key, metadata_payload_key, vector_name, batch_size, shard_number, replication_factor, write_consistency_factor, on_disk_payload, hnsw_config, optimizers_config, wal_config, quantization_config, init_from, on_disk, force_recreate, **kwargs)\u001B[0m\n\u001B[0;32m   1195\u001B[0m \u001B[38;5;129m@classmethod\u001B[39m\n\u001B[0;32m   1196\u001B[0m \u001B[38;5;28;01mdef\u001B[39;00m \u001B[38;5;21mfrom_texts\u001B[39m(\n\u001B[0;32m   1197\u001B[0m     \u001B[38;5;28mcls\u001B[39m: Type[Qdrant],\n\u001B[1;32m   (...)\u001B[0m\n\u001B[0;32m   1230\u001B[0m     \u001B[38;5;241m*\u001B[39m\u001B[38;5;241m*\u001B[39mkwargs: Any,\n\u001B[0;32m   1231\u001B[0m ) \u001B[38;5;241m-\u001B[39m\u001B[38;5;241m>\u001B[39m Qdrant:\n\u001B[0;32m   1232\u001B[0m \u001B[38;5;250m    \u001B[39m\u001B[38;5;124;03m\"\"\"Construct Qdrant wrapper from a list of texts.\u001B[39;00m\n\u001B[0;32m   1233\u001B[0m \n\u001B[0;32m   1234\u001B[0m \u001B[38;5;124;03m    Args:\u001B[39;00m\n\u001B[1;32m   (...)\u001B[0m\n\u001B[0;32m   1333\u001B[0m \u001B[38;5;124;03m            qdrant = Qdrant.from_texts(texts, embeddings, \"localhost\")\u001B[39;00m\n\u001B[0;32m   1334\u001B[0m \u001B[38;5;124;03m    \"\"\"\u001B[39;00m\n\u001B[1;32m-> 1335\u001B[0m     qdrant \u001B[38;5;241m=\u001B[39m \u001B[38;5;28;43mcls\u001B[39;49m\u001B[38;5;241;43m.\u001B[39;49m\u001B[43mconstruct_instance\u001B[49m\u001B[43m(\u001B[49m\n\u001B[0;32m   1336\u001B[0m \u001B[43m        \u001B[49m\u001B[43mtexts\u001B[49m\u001B[43m,\u001B[49m\n\u001B[0;32m   1337\u001B[0m \u001B[43m        \u001B[49m\u001B[43membedding\u001B[49m\u001B[43m,\u001B[49m\n\u001B[0;32m   1338\u001B[0m \u001B[43m        \u001B[49m\u001B[43mlocation\u001B[49m\u001B[43m,\u001B[49m\n\u001B[0;32m   1339\u001B[0m \u001B[43m        \u001B[49m\u001B[43murl\u001B[49m\u001B[43m,\u001B[49m\n\u001B[0;32m   1340\u001B[0m \u001B[43m        \u001B[49m\u001B[43mport\u001B[49m\u001B[43m,\u001B[49m\n\u001B[0;32m   1341\u001B[0m \u001B[43m        \u001B[49m\u001B[43mgrpc_port\u001B[49m\u001B[43m,\u001B[49m\n\u001B[0;32m   1342\u001B[0m \u001B[43m        \u001B[49m\u001B[43mprefer_grpc\u001B[49m\u001B[43m,\u001B[49m\n\u001B[0;32m   1343\u001B[0m \u001B[43m        \u001B[49m\u001B[43mhttps\u001B[49m\u001B[43m,\u001B[49m\n\u001B[0;32m   1344\u001B[0m \u001B[43m        \u001B[49m\u001B[43mapi_key\u001B[49m\u001B[43m,\u001B[49m\n\u001B[0;32m   1345\u001B[0m \u001B[43m        \u001B[49m\u001B[43mprefix\u001B[49m\u001B[43m,\u001B[49m\n\u001B[0;32m   1346\u001B[0m \u001B[43m        \u001B[49m\u001B[43mtimeout\u001B[49m\u001B[43m,\u001B[49m\n\u001B[0;32m   1347\u001B[0m \u001B[43m        \u001B[49m\u001B[43mhost\u001B[49m\u001B[43m,\u001B[49m\n\u001B[0;32m   1348\u001B[0m \u001B[43m        \u001B[49m\u001B[43mpath\u001B[49m\u001B[43m,\u001B[49m\n\u001B[0;32m   1349\u001B[0m \u001B[43m        \u001B[49m\u001B[43mcollection_name\u001B[49m\u001B[43m,\u001B[49m\n\u001B[0;32m   1350\u001B[0m \u001B[43m        \u001B[49m\u001B[43mdistance_func\u001B[49m\u001B[43m,\u001B[49m\n\u001B[0;32m   1351\u001B[0m \u001B[43m        \u001B[49m\u001B[43mcontent_payload_key\u001B[49m\u001B[43m,\u001B[49m\n\u001B[0;32m   1352\u001B[0m \u001B[43m        \u001B[49m\u001B[43mmetadata_payload_key\u001B[49m\u001B[43m,\u001B[49m\n\u001B[0;32m   1353\u001B[0m \u001B[43m        \u001B[49m\u001B[43mvector_name\u001B[49m\u001B[43m,\u001B[49m\n\u001B[0;32m   1354\u001B[0m \u001B[43m        \u001B[49m\u001B[43mshard_number\u001B[49m\u001B[43m,\u001B[49m\n\u001B[0;32m   1355\u001B[0m \u001B[43m        \u001B[49m\u001B[43mreplication_factor\u001B[49m\u001B[43m,\u001B[49m\n\u001B[0;32m   1356\u001B[0m \u001B[43m        \u001B[49m\u001B[43mwrite_consistency_factor\u001B[49m\u001B[43m,\u001B[49m\n\u001B[0;32m   1357\u001B[0m \u001B[43m        \u001B[49m\u001B[43mon_disk_payload\u001B[49m\u001B[43m,\u001B[49m\n\u001B[0;32m   1358\u001B[0m \u001B[43m        \u001B[49m\u001B[43mhnsw_config\u001B[49m\u001B[43m,\u001B[49m\n\u001B[0;32m   1359\u001B[0m \u001B[43m        \u001B[49m\u001B[43moptimizers_config\u001B[49m\u001B[43m,\u001B[49m\n\u001B[0;32m   1360\u001B[0m \u001B[43m        \u001B[49m\u001B[43mwal_config\u001B[49m\u001B[43m,\u001B[49m\n\u001B[0;32m   1361\u001B[0m \u001B[43m        \u001B[49m\u001B[43mquantization_config\u001B[49m\u001B[43m,\u001B[49m\n\u001B[0;32m   1362\u001B[0m \u001B[43m        \u001B[49m\u001B[43minit_from\u001B[49m\u001B[43m,\u001B[49m\n\u001B[0;32m   1363\u001B[0m \u001B[43m        \u001B[49m\u001B[43mon_disk\u001B[49m\u001B[43m,\u001B[49m\n\u001B[0;32m   1364\u001B[0m \u001B[43m        \u001B[49m\u001B[43mforce_recreate\u001B[49m\u001B[43m,\u001B[49m\n\u001B[0;32m   1365\u001B[0m \u001B[43m        \u001B[49m\u001B[38;5;241;43m*\u001B[39;49m\u001B[38;5;241;43m*\u001B[39;49m\u001B[43mkwargs\u001B[49m\u001B[43m,\u001B[49m\n\u001B[0;32m   1366\u001B[0m \u001B[43m    \u001B[49m\u001B[43m)\u001B[49m\n\u001B[0;32m   1367\u001B[0m     qdrant\u001B[38;5;241m.\u001B[39madd_texts(texts, metadatas, ids, batch_size)\n\u001B[0;32m   1368\u001B[0m     \u001B[38;5;28;01mreturn\u001B[39;00m qdrant\n",
      "File \u001B[1;32m~\\Desktop\\final_chatbot\\venv\\Lib\\site-packages\\langchain_community\\vectorstores\\qdrant.py:1637\u001B[0m, in \u001B[0;36mQdrant.construct_instance\u001B[1;34m(cls, texts, embedding, location, url, port, grpc_port, prefer_grpc, https, api_key, prefix, timeout, host, path, collection_name, distance_func, content_payload_key, metadata_payload_key, vector_name, shard_number, replication_factor, write_consistency_factor, on_disk_payload, hnsw_config, optimizers_config, wal_config, quantization_config, init_from, on_disk, force_recreate, **kwargs)\u001B[0m\n\u001B[0;32m   1634\u001B[0m \u001B[38;5;28;01mfrom\u001B[39;00m \u001B[38;5;21;01mqdrant_client\u001B[39;00m\u001B[38;5;21;01m.\u001B[39;00m\u001B[38;5;21;01mhttp\u001B[39;00m\u001B[38;5;21;01m.\u001B[39;00m\u001B[38;5;21;01mexceptions\u001B[39;00m \u001B[38;5;28;01mimport\u001B[39;00m UnexpectedResponse\n\u001B[0;32m   1636\u001B[0m \u001B[38;5;66;03m# Just do a single quick embedding to get vector size\u001B[39;00m\n\u001B[1;32m-> 1637\u001B[0m partial_embeddings \u001B[38;5;241m=\u001B[39m \u001B[43membedding\u001B[49m\u001B[38;5;241;43m.\u001B[39;49m\u001B[43membed_documents\u001B[49m\u001B[43m(\u001B[49m\u001B[43mtexts\u001B[49m\u001B[43m[\u001B[49m\u001B[43m:\u001B[49m\u001B[38;5;241;43m1\u001B[39;49m\u001B[43m]\u001B[49m\u001B[43m)\u001B[49m\n\u001B[0;32m   1638\u001B[0m vector_size \u001B[38;5;241m=\u001B[39m \u001B[38;5;28mlen\u001B[39m(partial_embeddings[\u001B[38;5;241m0\u001B[39m])\n\u001B[0;32m   1639\u001B[0m collection_name \u001B[38;5;241m=\u001B[39m collection_name \u001B[38;5;129;01mor\u001B[39;00m uuid\u001B[38;5;241m.\u001B[39muuid4()\u001B[38;5;241m.\u001B[39mhex\n",
      "File \u001B[1;32m~\\Desktop\\final_chatbot\\venv\\Lib\\site-packages\\langchain_community\\embeddings\\fastembed.py:107\u001B[0m, in \u001B[0;36mFastEmbedEmbeddings.embed_documents\u001B[1;34m(self, texts)\u001B[0m\n\u001B[0;32m    105\u001B[0m \u001B[38;5;28;01melse\u001B[39;00m:\n\u001B[0;32m    106\u001B[0m     embeddings \u001B[38;5;241m=\u001B[39m \u001B[38;5;28mself\u001B[39m\u001B[38;5;241m.\u001B[39m_model\u001B[38;5;241m.\u001B[39membed(texts)\n\u001B[1;32m--> 107\u001B[0m \u001B[38;5;28;01mreturn\u001B[39;00m \u001B[43m[\u001B[49m\u001B[43me\u001B[49m\u001B[38;5;241;43m.\u001B[39;49m\u001B[43mtolist\u001B[49m\u001B[43m(\u001B[49m\u001B[43m)\u001B[49m\u001B[43m \u001B[49m\u001B[38;5;28;43;01mfor\u001B[39;49;00m\u001B[43m \u001B[49m\u001B[43me\u001B[49m\u001B[43m \u001B[49m\u001B[38;5;129;43;01min\u001B[39;49;00m\u001B[43m \u001B[49m\u001B[43membeddings\u001B[49m\u001B[43m]\u001B[49m\n",
      "File \u001B[1;32m~\\Desktop\\final_chatbot\\venv\\Lib\\site-packages\\fastembed\\text\\text_embedding.py:93\u001B[0m, in \u001B[0;36mTextEmbedding.embed\u001B[1;34m(self, documents, batch_size, parallel, **kwargs)\u001B[0m\n\u001B[0;32m     71\u001B[0m \u001B[38;5;28;01mdef\u001B[39;00m \u001B[38;5;21membed\u001B[39m(\n\u001B[0;32m     72\u001B[0m     \u001B[38;5;28mself\u001B[39m,\n\u001B[0;32m     73\u001B[0m     documents: Union[\u001B[38;5;28mstr\u001B[39m, Iterable[\u001B[38;5;28mstr\u001B[39m]],\n\u001B[1;32m   (...)\u001B[0m\n\u001B[0;32m     76\u001B[0m     \u001B[38;5;241m*\u001B[39m\u001B[38;5;241m*\u001B[39mkwargs,\n\u001B[0;32m     77\u001B[0m ) \u001B[38;5;241m-\u001B[39m\u001B[38;5;241m>\u001B[39m Iterable[np\u001B[38;5;241m.\u001B[39mndarray]:\n\u001B[0;32m     78\u001B[0m \u001B[38;5;250m    \u001B[39m\u001B[38;5;124;03m\"\"\"\u001B[39;00m\n\u001B[0;32m     79\u001B[0m \u001B[38;5;124;03m    Encode a list of documents into list of embeddings.\u001B[39;00m\n\u001B[0;32m     80\u001B[0m \u001B[38;5;124;03m    We use mean pooling with attention so that the model can handle variable-length inputs.\u001B[39;00m\n\u001B[1;32m   (...)\u001B[0m\n\u001B[0;32m     91\u001B[0m \u001B[38;5;124;03m        List of embeddings, one per document\u001B[39;00m\n\u001B[0;32m     92\u001B[0m \u001B[38;5;124;03m    \"\"\"\u001B[39;00m\n\u001B[1;32m---> 93\u001B[0m     \u001B[38;5;28;01myield from\u001B[39;00m \u001B[38;5;28mself\u001B[39m\u001B[38;5;241m.\u001B[39mmodel\u001B[38;5;241m.\u001B[39membed(documents, batch_size, parallel, \u001B[38;5;241m*\u001B[39m\u001B[38;5;241m*\u001B[39mkwargs)\n",
      "File \u001B[1;32m~\\Desktop\\final_chatbot\\venv\\Lib\\site-packages\\fastembed\\text\\onnx_embedding.py:266\u001B[0m, in \u001B[0;36mOnnxTextEmbedding.embed\u001B[1;34m(self, documents, batch_size, parallel, **kwargs)\u001B[0m\n\u001B[0;32m    244\u001B[0m \u001B[38;5;28;01mdef\u001B[39;00m \u001B[38;5;21membed\u001B[39m(\n\u001B[0;32m    245\u001B[0m     \u001B[38;5;28mself\u001B[39m,\n\u001B[0;32m    246\u001B[0m     documents: Union[\u001B[38;5;28mstr\u001B[39m, Iterable[\u001B[38;5;28mstr\u001B[39m]],\n\u001B[1;32m   (...)\u001B[0m\n\u001B[0;32m    249\u001B[0m     \u001B[38;5;241m*\u001B[39m\u001B[38;5;241m*\u001B[39mkwargs,\n\u001B[0;32m    250\u001B[0m ) \u001B[38;5;241m-\u001B[39m\u001B[38;5;241m>\u001B[39m Iterable[np\u001B[38;5;241m.\u001B[39mndarray]:\n\u001B[0;32m    251\u001B[0m \u001B[38;5;250m    \u001B[39m\u001B[38;5;124;03m\"\"\"\u001B[39;00m\n\u001B[0;32m    252\u001B[0m \u001B[38;5;124;03m    Encode a list of documents into list of embeddings.\u001B[39;00m\n\u001B[0;32m    253\u001B[0m \u001B[38;5;124;03m    We use mean pooling with attention so that the model can handle variable-length inputs.\u001B[39;00m\n\u001B[1;32m   (...)\u001B[0m\n\u001B[0;32m    264\u001B[0m \u001B[38;5;124;03m        List of embeddings, one per document\u001B[39;00m\n\u001B[0;32m    265\u001B[0m \u001B[38;5;124;03m    \"\"\"\u001B[39;00m\n\u001B[1;32m--> 266\u001B[0m     \u001B[38;5;28;01myield from\u001B[39;00m \u001B[38;5;28mself\u001B[39m\u001B[38;5;241m.\u001B[39m_embed_documents(\n\u001B[0;32m    267\u001B[0m         model_name\u001B[38;5;241m=\u001B[39m\u001B[38;5;28mself\u001B[39m\u001B[38;5;241m.\u001B[39mmodel_name,\n\u001B[0;32m    268\u001B[0m         cache_dir\u001B[38;5;241m=\u001B[39m\u001B[38;5;28mstr\u001B[39m(\u001B[38;5;28mself\u001B[39m\u001B[38;5;241m.\u001B[39mcache_dir),\n\u001B[0;32m    269\u001B[0m         documents\u001B[38;5;241m=\u001B[39mdocuments,\n\u001B[0;32m    270\u001B[0m         batch_size\u001B[38;5;241m=\u001B[39mbatch_size,\n\u001B[0;32m    271\u001B[0m         parallel\u001B[38;5;241m=\u001B[39mparallel,\n\u001B[0;32m    272\u001B[0m     )\n",
      "File \u001B[1;32m~\\Desktop\\final_chatbot\\venv\\Lib\\site-packages\\fastembed\\common\\onnx_model.py:126\u001B[0m, in \u001B[0;36mOnnxModel._embed_documents\u001B[1;34m(self, model_name, cache_dir, documents, batch_size, parallel)\u001B[0m\n\u001B[0;32m    124\u001B[0m \u001B[38;5;28;01mif\u001B[39;00m parallel \u001B[38;5;129;01mis\u001B[39;00m \u001B[38;5;28;01mNone\u001B[39;00m \u001B[38;5;129;01mor\u001B[39;00m is_small:\n\u001B[0;32m    125\u001B[0m     \u001B[38;5;28;01mfor\u001B[39;00m batch \u001B[38;5;129;01min\u001B[39;00m iter_batch(documents, batch_size):\n\u001B[1;32m--> 126\u001B[0m         \u001B[38;5;28;01myield from\u001B[39;00m \u001B[38;5;28mself\u001B[39m\u001B[38;5;241m.\u001B[39m_post_process_onnx_output(\u001B[38;5;28;43mself\u001B[39;49m\u001B[38;5;241;43m.\u001B[39;49m\u001B[43monnx_embed\u001B[49m\u001B[43m(\u001B[49m\u001B[43mbatch\u001B[49m\u001B[43m)\u001B[49m)\n\u001B[0;32m    127\u001B[0m \u001B[38;5;28;01melse\u001B[39;00m:\n\u001B[0;32m    128\u001B[0m     start_method \u001B[38;5;241m=\u001B[39m \u001B[38;5;124m\"\u001B[39m\u001B[38;5;124mforkserver\u001B[39m\u001B[38;5;124m\"\u001B[39m \u001B[38;5;28;01mif\u001B[39;00m \u001B[38;5;124m\"\u001B[39m\u001B[38;5;124mforkserver\u001B[39m\u001B[38;5;124m\"\u001B[39m \u001B[38;5;129;01min\u001B[39;00m get_all_start_methods() \u001B[38;5;28;01melse\u001B[39;00m \u001B[38;5;124m\"\u001B[39m\u001B[38;5;124mspawn\u001B[39m\u001B[38;5;124m\"\u001B[39m\n",
      "File \u001B[1;32m~\\Desktop\\final_chatbot\\venv\\Lib\\site-packages\\fastembed\\common\\onnx_model.py:99\u001B[0m, in \u001B[0;36mOnnxModel.onnx_embed\u001B[1;34m(self, documents)\u001B[0m\n\u001B[0;32m     89\u001B[0m onnx_input \u001B[38;5;241m=\u001B[39m {\n\u001B[0;32m     90\u001B[0m     \u001B[38;5;124m\"\u001B[39m\u001B[38;5;124minput_ids\u001B[39m\u001B[38;5;124m\"\u001B[39m: np\u001B[38;5;241m.\u001B[39marray(input_ids, dtype\u001B[38;5;241m=\u001B[39mnp\u001B[38;5;241m.\u001B[39mint64),\n\u001B[0;32m     91\u001B[0m     \u001B[38;5;124m\"\u001B[39m\u001B[38;5;124mattention_mask\u001B[39m\u001B[38;5;124m\"\u001B[39m: np\u001B[38;5;241m.\u001B[39marray(attention_mask, dtype\u001B[38;5;241m=\u001B[39mnp\u001B[38;5;241m.\u001B[39mint64),\n\u001B[1;32m   (...)\u001B[0m\n\u001B[0;32m     94\u001B[0m     ),\n\u001B[0;32m     95\u001B[0m }\n\u001B[0;32m     97\u001B[0m onnx_input \u001B[38;5;241m=\u001B[39m \u001B[38;5;28mself\u001B[39m\u001B[38;5;241m.\u001B[39m_preprocess_onnx_input(onnx_input)\n\u001B[1;32m---> 99\u001B[0m model_output \u001B[38;5;241m=\u001B[39m \u001B[38;5;28;43mself\u001B[39;49m\u001B[38;5;241;43m.\u001B[39;49m\u001B[43mmodel\u001B[49m\u001B[38;5;241;43m.\u001B[39;49m\u001B[43mrun\u001B[49m\u001B[43m(\u001B[49m\u001B[38;5;28;43;01mNone\u001B[39;49;00m\u001B[43m,\u001B[49m\u001B[43m \u001B[49m\u001B[43monnx_input\u001B[49m\u001B[43m)\u001B[49m\n\u001B[0;32m    100\u001B[0m embeddings \u001B[38;5;241m=\u001B[39m model_output[\u001B[38;5;241m0\u001B[39m]\n\u001B[0;32m    101\u001B[0m \u001B[38;5;28;01mreturn\u001B[39;00m embeddings, attention_mask\n",
      "File \u001B[1;32m~\\Desktop\\final_chatbot\\venv\\Lib\\site-packages\\onnxruntime\\capi\\onnxruntime_inference_collection.py:266\u001B[0m, in \u001B[0;36mSession.run\u001B[1;34m(self, output_names, input_feed, run_options)\u001B[0m\n\u001B[0;32m    264\u001B[0m     output_names \u001B[38;5;241m=\u001B[39m [output\u001B[38;5;241m.\u001B[39mname \u001B[38;5;28;01mfor\u001B[39;00m output \u001B[38;5;129;01min\u001B[39;00m \u001B[38;5;28mself\u001B[39m\u001B[38;5;241m.\u001B[39m_outputs_meta]\n\u001B[0;32m    265\u001B[0m \u001B[38;5;28;01mtry\u001B[39;00m:\n\u001B[1;32m--> 266\u001B[0m     \u001B[38;5;28;01mreturn\u001B[39;00m \u001B[38;5;28;43mself\u001B[39;49m\u001B[38;5;241;43m.\u001B[39;49m\u001B[43m_sess\u001B[49m\u001B[38;5;241;43m.\u001B[39;49m\u001B[43mrun\u001B[49m\u001B[43m(\u001B[49m\u001B[43moutput_names\u001B[49m\u001B[43m,\u001B[49m\u001B[43m \u001B[49m\u001B[43minput_feed\u001B[49m\u001B[43m,\u001B[49m\u001B[43m \u001B[49m\u001B[43mrun_options\u001B[49m\u001B[43m)\u001B[49m\n\u001B[0;32m    267\u001B[0m \u001B[38;5;28;01mexcept\u001B[39;00m C\u001B[38;5;241m.\u001B[39mEPFail \u001B[38;5;28;01mas\u001B[39;00m err:\n\u001B[0;32m    268\u001B[0m     \u001B[38;5;28;01mif\u001B[39;00m \u001B[38;5;28mself\u001B[39m\u001B[38;5;241m.\u001B[39m_enable_fallback:\n",
      "\u001B[1;31mRuntimeException\u001B[0m: [ONNXRuntimeError] : 6 : RUNTIME_EXCEPTION : Non-zero status code returned while running SkipLayerNormalization node. Name:'SkipLayerNorm_AddBias_0' Status Message: D:\\a\\_work\\1\\s\\include\\onnxruntime\\core/framework/op_kernel_context.h:42 onnxruntime::OpKernelContext::Input Missing Input: encoder.layer.0.attention.output.LayerNorm.weight\n"
     ]
    }
   ],
   "execution_count": 17
  },
  {
   "cell_type": "code",
   "metadata": {
    "colab": {
     "base_uri": "https://localhost:8080/"
    },
    "id": "gClUiFJSG9O9",
    "outputId": "f30e9e64-2cea-4b61-9fbe-cd0079e202d9",
    "ExecuteTime": {
     "end_time": "2024-11-22T07:51:05.042531Z",
     "start_time": "2024-11-22T07:51:04.328816Z"
    }
   },
   "source": [
    "%%time\n",
    "query = \"Can a local resident who is permanently settled get citizenship?\"\n",
    "similar_docs = qdrant.similarity_search_with_score(query)"
   ],
   "outputs": [
    {
     "ename": "NameError",
     "evalue": "name 'qdrant' is not defined",
     "output_type": "error",
     "traceback": [
      "\u001B[1;31m---------------------------------------------------------------------------\u001B[0m",
      "\u001B[1;31mNameError\u001B[0m                                 Traceback (most recent call last)",
      "File \u001B[1;32m<timed exec>:2\u001B[0m\n",
      "\u001B[1;31mNameError\u001B[0m: name 'qdrant' is not defined"
     ]
    }
   ],
   "execution_count": 13
  },
  {
   "cell_type": "code",
   "execution_count": 14,
   "metadata": {
    "colab": {
     "base_uri": "https://localhost:8080/"
    },
    "id": "wkTHqK2mJ86U",
    "outputId": "3b637a58-e146-4d68-dac1-de95018142e6"
   },
   "outputs": [
    {
     "name": "stdout",
     "output_type": "stream",
     "text": [
      "text: In the case of children born to a Nepali citizen woman married to a foreign citizen, if he was born in Nepal and resided in Nepal permanently, and based on the citizenship of his father, he has not acquired the citizenship of a foreign country, then he can\n",
      "\n",
      "score: 0.6931571811831403\n",
      "--------------------------------------------------------------------------------\n",
      "\n",
      "text: can issue a certificate of Nepali citizenship based on the identification of at least three persons residing in the same ward who know the applicant and who have obtained certificates of Nepali citizenship.\\n\\n(5) In accordance with sub-section (4), the fa\n",
      "\n",
      "score: 0.6767318474315994\n",
      "--------------------------------------------------------------------------------\n",
      "\n",
      "text: within the borders of Nepal shall be considered a citizen of Nepal as a descendant until his father or mother is found.\\n\\n# 4. Acquisition of Nepalese citizenship by birth:\\n\\n1. (1) A person who was born within the borders of Nepal until the end of Chait\n",
      "\n",
      "score: 0.6684441131758307\n",
      "--------------------------------------------------------------------------------\n",
      "\n",
      "text: as a Nepali citizen will be given a certificate of Nepali citizenship in the prescribed format by taking an oath as per the schedule and from the date of receiving such a certificate, such person will be a recognized citizen of Nepal.\\n\\n# 6. Honorary citi\n",
      "\n",
      "score: 0.6676652186266407\n",
      "--------------------------------------------------------------------------------\n",
      "\n"
     ]
    }
   ],
   "source": [
    "for doc, score in similar_docs:\n",
    "    print(f\"text: {doc.page_content[:256]}\\n\")\n",
    "    print(f\"score: {score}\")\n",
    "    print(\"-\" * 80)\n",
    "    print()"
   ]
  },
  {
   "cell_type": "code",
   "execution_count": 15,
   "metadata": {
    "colab": {
     "base_uri": "https://localhost:8080/"
    },
    "id": "2QSq2Ww-Kfqw",
    "outputId": "a1725b6d-075e-47b1-9ca1-0db833d1a6b1"
   },
   "outputs": [],
   "source": [
    "# Time measurement ko lagi cell magic command\n",
    "##%%time\n",
    "\n",
    "# Qdrant ko retriever banaune with search parameters\n",
    "retriever = qdrant.as_retriever(search_kwargs={\"k\": 5})  # Top 5 similar documents retrieve garne\n",
    "\n",
    "# Query ko adhar ma documents retrieve garne\n",
    "retrieved_docs = retriever.invoke(query)"
   ]
  },
  {
   "cell_type": "code",
   "execution_count": 16,
   "metadata": {
    "colab": {
     "base_uri": "https://localhost:8080/"
    },
    "id": "4xOKcBOfJ94w",
    "outputId": "99052a6f-6e27-4693-940b-81eb7a363a85"
   },
   "outputs": [],
   "source": [
    "compressor = FlashrankRerank(model=\"ms-marco-MiniLM-L-12-v2\")\n",
    "compression_retriever = ContextualCompressionRetriever(\n",
    "    base_compressor=compressor, base_retriever=retriever\n",
    ")"
   ]
  },
  {
   "cell_type": "code",
   "execution_count": 17,
   "metadata": {
    "id": "xbZ-39QvKB-q"
   },
   "outputs": [],
   "source": [
    "\n",
    "llm = ChatGroq(temperature=0, model_name=\"llama3-70b-8192\")"
   ]
  },
  {
   "cell_type": "code",
   "execution_count": 18,
   "metadata": {
    "id": "vy_awS_OKtDU"
   },
   "outputs": [],
   "source": [
    "prompt_template = \"\"\"\n",
    "Use the following pieces of information to answer the user's question.\n",
    "If you don't know the answer, just say that you don't know, don't try to make up an answer.\n",
    "\n",
    "Context: {context}\n",
    "Question: {question}\n",
    "\n",
    "Answer the question with the short reason and dont provide additional helpful information, and also dont give source documents\n",
    "just give short answer.\n",
    "\n",
    "Responses should be properly formatted to be easily read.\n",
    "\"\"\"\n",
    "\n",
    "# PromptTemplate ko instance create gareko cha\n",
    "prompt = PromptTemplate(\n",
    "    template=prompt_template,  # Template ko string\n",
    "    input_variables=[\"context\", \"question\"]  # Input variables specify garne\n",
    ")\n"
   ]
  },
  {
   "cell_type": "code",
   "execution_count": 19,
   "metadata": {
    "id": "bJ0Ci9YQK4M9"
   },
   "outputs": [],
   "source": [
    "\n",
    "qa = RetrievalQA.from_chain_type(\n",
    "    llm=llm,\n",
    "    chain_type=\"stuff\",\n",
    "    retriever=compression_retriever,\n",
    "    return_source_documents=True,\n",
    "    chain_type_kwargs={\"prompt\": prompt, \"verbose\": True},\n",
    ")"
   ]
  },
  {
   "cell_type": "code",
   "execution_count": 20,
   "metadata": {
    "colab": {
     "base_uri": "https://localhost:8080/"
    },
    "id": "yu3rPKCgK9Qk",
    "outputId": "56ad7963-ebe3-405a-c782-2ec7e7817c25"
   },
   "outputs": [
    {
     "name": "stdout",
     "output_type": "stream",
     "text": [
      "Running pairwise ranking..\n",
      "\n",
      "\n",
      "\u001B[1m> Entering new StuffDocumentsChain chain...\u001B[0m\n",
      "\n",
      "\n",
      "\u001B[1m> Entering new LLMChain chain...\u001B[0m\n",
      "Prompt after formatting:\n",
      "\u001B[32;1m\u001B[1;3m\n",
      "Use the following pieces of information to answer the user's question.\n",
      "If you don't know the answer, just say that you don't know, don't try to make up an answer.\n",
      "\n",
      "Context: as a Nepali citizen will be given a certificate of Nepali citizenship in the prescribed format by taking an oath as per the schedule and from the date of receiving such a certificate, such person will be a recognized citizen of Nepal.\\n\\n# 6. Honorary citizenship of Nepal can be granted: Regardless of what is written in section 5, the government of Nepal can grant honorary citizenship of Nepal to a person of international fame.\\n\\n# 7. Citizenship at the time of annexation of territory: If any territory is acquired within Nepal by annexation, the person within that territory will be considered a citizen of Nepal from the date specified in the notification as prescribed by the Government of Nepal by publishing a notice in the Nepal Gazette under this Act.\\n\\n# 8. To apply for obtaining a certificate of citizenship:\\n\\n# (1) According to section 3, a person who has completed sixteen years of age and wishes to obtain a certificate of Nepali citizenship as a descendant must submit an application to the designated authority with copies of the following documents attached:\\n\\n- (a) Certificate of Nepalese citizenship of father or mother or relatives within three generations of their descent,\\n\\n# However, this provision will not be applicable in case of Nepali citizen women who are married to foreign nationals.\\n\\n- (B) Recommendation made by the village or municipality to reveal the place of birth and relationship.\\n\\n# Amended by Act to amend certain Nepal Acts, 2072.\\n\\n# (2) According to section 4, a person who has completed sixteen years of age and wishes to obtain a certificate of Nepali citizenship based on birth must submit an application to the designated authority with copies of the following documents attached:\\n\\n- (a) A recommendation made by the concerned village or municipality to disclose the fact that he was born in Nepal and has been permanently residing in Nepal,\\n\\n# Amended by Act to amend certain Nepal Acts, 2072.\\n---\\n(b) Land owner registration proof of his or his family\\'s name or certificate\n",
      "\n",
      "In the event that a person is unable to submit the proofs as per sub-section (1) or (2) with the application, the designated officer can issue a certificate of Nepali citizenship based on the identification of at least three persons residing in the same ward who know the applicant and who have obtained certificates of Nepali citizenship.\\n\\n(5) In accordance with sub-section (4), the fact that the applicant was born in Nepal and has a permanent residence must be clearly mentioned during the on-site survey.\\n\\n(6) During the investigation according to sub-section (3) or (4), if any applicant is found not eligible to get a certificate of Nepali citizenship, he shall be informed about the matter within the prescribed period after making a decision on the matter.\\n\\n# 9. Right to issue certificate of citizenship:\\n\\nThe designated authority will have the right to issue a certificate of Nepalese citizenship based on descent, birth or recognition.\\n\\n# 10. Non-retention of Nepali citizenship:\\n\\n(1) After a citizen of Nepal voluntarily acquires the citizenship of a foreign country, his Nepali citizenship shall not be retained.\\n\\n(2) After a Nepalese citizen gives notice to renounce Nepalese citizenship as prescribed, the designated officer shall register such notice and from the date of such registration, his Nepalese citizenship shall not continue.\\n\\n(3) If a person is removed from Nepali citizenship in accordance with section 14, the Nepali citizenship of such person shall not continue from the date of such removal.\\n\\n(4) If a person has the citizenship of Nepal and a foreign country at the same time, such a person should choose the citizenship of one of the countries within two years of attaining the age of sixteen. In the case of not choosing such citizenship, his Nepali citizenship will not be maintained after the expiry of that period.\\n\\n(5) If a question arises as to whether a citizen of Nepal has acquired the citizenship of a foreign country or not, the designated authority shall make a decision according\n",
      "\n",
      "can issue a certificate of Nepali citizenship based on the identification of at least three persons residing in the same ward who know the applicant and who have obtained certificates of Nepali citizenship.\\n\\n(5) In accordance with sub-section (4), the fact that the applicant was born in Nepal and has a permanent residence must be clearly mentioned during the on-site survey.\\n\\n(6) During the investigation according to sub-section (3) or (4), if any applicant is found not eligible to get a certificate of Nepali citizenship, he shall be informed about the matter within the prescribed period after making a decision on the matter.\\n\\n# 9. Right to issue certificate of citizenship:\\n\\nThe designated authority will have the right to issue a certificate of Nepalese citizenship based on descent, birth or recognition.\\n\\n# 10. Non-retention of Nepali citizenship:\\n\\n(1) After a citizen of Nepal voluntarily acquires the citizenship of a foreign country, his Nepali citizenship shall not be retained.\\n\\n(2) After a Nepalese citizen gives notice to renounce Nepalese citizenship as prescribed, the designated officer shall register such notice and from the date of such registration, his Nepalese citizenship shall not continue.\\n\\n(3) If a person is removed from Nepali citizenship in accordance with section 14, the Nepali citizenship of such person shall not continue from the date of such removal.\\n\\n(4) If a person has the citizenship of Nepal and a foreign country at the same time, such a person should choose the citizenship of one of the countries within two years of attaining the age of sixteen. In the case of not choosing such citizenship, his Nepali citizenship will not be maintained after the expiry of that period.\\n\\n(5) If a question arises as to whether a citizen of Nepal has acquired the citizenship of a foreign country or not, the designated authority shall make a decision according to the prevailing law.\\n\\n# 11. Renewal of Nepalese citizenship:\\n\\nIf a Nepali citizen, after acquiring the citizenship of a foreign\n",
      "Question: To give Nepali citizenship certificate to citizens based on what documents?\n",
      "\n",
      "Answer the question with the short reason and dont provide additional helpful information, and also dont give source documents\n",
      "just give short answer.\n",
      "\n",
      "Responses should be properly formatted to be easily read.\n",
      "\u001B[0m\n",
      "\n",
      "\u001B[1m> Finished chain.\u001B[0m\n",
      "\n",
      "\u001B[1m> Finished chain.\u001B[0m\n"
     ]
    }
   ],
   "source": [
    "# Time measurement ko lagi cell magic command\n",
    "##%%time\n",
    "\n",
    "# User ko prashna ko uttar paune process run gareko cha\n",
    "response = qa.invoke(\"To give Nepali citizenship certificate to citizens based on what documents?\")"
   ]
  },
  {
   "cell_type": "code",
   "execution_count": 21,
   "metadata": {
    "id": "Ojc5LuHlLFKb"
   },
   "outputs": [],
   "source": [
    "qa = RetrievalQA.from_chain_type(\n",
    "    llm=llm,\n",
    "    chain_type=\"stuff\",\n",
    "    retriever=compression_retriever,\n",
    "    return_source_documents=True,\n",
    "    chain_type_kwargs={\"prompt\": prompt, \"verbose\": False},\n",
    ")"
   ]
  },
  {
   "cell_type": "code",
   "execution_count": 22,
   "metadata": {
    "colab": {
     "base_uri": "https://localhost:8080/"
    },
    "id": "-SIVMg74LOdF",
    "outputId": "5dae32f8-e710-44b3-b6ff-32e78d8efc55"
   },
   "outputs": [
    {
     "name": "stdout",
     "output_type": "stream",
     "text": [
      "Running pairwise ranking..\n"
     ]
    }
   ],
   "source": [
    "##%%time\n",
    "response = qa.invoke(\"i want to make citizenship?\")"
   ]
  },
  {
   "cell_type": "code",
   "execution_count": 23,
   "metadata": {
    "colab": {
     "base_uri": "https://localhost:8080/"
    },
    "id": "PX6yTIJ8LSIc",
    "outputId": "63da2641-df10-41de-ed87-58d15fece75a"
   },
   "outputs": [
    {
     "name": "stdout",
     "output_type": "stream",
     "text": [
      "**To apply for Nepali citizenship:**\n",
      "\n",
      "* Submit an application to the designated authority with required documents.\n",
      "* Documents vary depending on the type of citizenship (e.g. descendant, birth, marriage to a Nepali\n",
      "citizen).\n"
     ]
    }
   ],
   "source": [
    "print_response(response)"
   ]
  },
  {
   "cell_type": "code",
   "execution_count": 24,
   "metadata": {
    "id": "W49RYPzjLS0x"
   },
   "outputs": [],
   "source": [
    "def qry(user_input):\n",
    "  response = qa.invoke(user_input)\n",
    "  return response"
   ]
  },
  {
   "cell_type": "code",
   "execution_count": 25,
   "metadata": {
    "colab": {
     "base_uri": "https://localhost:8080/"
    },
    "id": "pB3oLQIZLhXE",
    "outputId": "6a35b532-fa11-474a-ecca-1cfb57b8b694"
   },
   "outputs": [
    {
     "name": "stdout",
     "output_type": "stream",
     "text": [
      "Running pairwise ranking..\n"
     ]
    },
    {
     "data": {
      "text/plain": [
       "{'query': 'at what age will i get citizenship?',\n",
       " 'result': 'You will get citizenship at the age of 16.',\n",
       " 'source_documents': [Document(page_content=\"specified in the notification as prescribed by the Government of Nepal by publishing a notice in the Nepal Gazette under this Act.\\\\n\\\\n# 8. To apply for obtaining a certificate of citizenship:\\\\n\\\\n# (1) According to section 3, a person who has completed sixteen years of age and wishes to obtain a certificate of Nepali citizenship as a descendant must submit an application to the designated authority with copies of the following documents attached:\\\\n\\\\n- (a) Certificate of Nepalese citizenship of father or mother or relatives within three generations of their descent,\\\\n\\\\n# However, this provision will not be applicable in case of Nepali citizen women who are married to foreign nationals.\\\\n\\\\n- (B) Recommendation made by the village or municipality to reveal the place of birth and relationship.\\\\n\\\\n# Amended by Act to amend certain Nepal Acts, 2072.\\\\n\\\\n# (2) According to section 4, a person who has completed sixteen years of age and wishes to obtain a certificate of Nepali citizenship based on birth must submit an application to the designated authority with copies of the following documents attached:\\\\n\\\\n- (a) A recommendation made by the concerned village or municipality to disclose the fact that he was born in Nepal and has been permanently residing in Nepal,\\\\n\\\\n# Amended by Act to amend certain Nepal Acts, 2072.\\\\n---\\\\n(b) Land owner registration proof of his or his family\\\\'s name or certificate of Mohiani rights or proof of household ownership or proof that his or his father\\\\'s or mother\\\\'s name is included in the voter\\\\'s list prepared by the Election Commission.\\\\n\\\\n(3) After receiving the application according to sub-section (1) or (2), the designated officer will investigate based on the evidence received and give him a certificate of Nepali citizenship.\\\\n\\\\n(4) In the event that a person is unable to submit the proofs as per sub-section (1) or (2) with the application, the designated officer can issue a certificate of Nepali citizenship based on the identification of at least three persons residing in the same\", metadata={'source': 'data/parsed_document.md', '_id': '21a351cf3be94f1eaaf0f4589c5ee01b', '_collection_name': 'document_embeddings', 'relevance_score': 0.981117844581604}),\n",
       "  Document(page_content='sixteen years of age.\\\\n2. (b) \"Person\" means a natural person.\\\\n3. (c) \"Prescribed\" or \"as prescribed\" means prescribed or prescribed in the rules made under this Act.\\\\n\\\\n# 3. Acquisition of Nepalese citizenship by descent:\\\\n\\\\n1. (1) If a person\\\\\\'s father or mother is a citizen of Nepal at the time of his birth, such a person shall be a citizen of Nepal by descent.\\\\n2. (2) Notwithstanding anything written in sub-section (1), in the case of children born to a Nepali citizen woman who marries a foreign citizen, it shall be in accordance with sub-section (2) of section 5.\\\\n3. (3) Every minor who does not have a paternal and maternal address found within the borders of Nepal shall be considered a citizen of Nepal as a descendant until his father or mother is found.\\\\n\\\\n# 4. Acquisition of Nepalese citizenship by birth:\\\\n\\\\n1. (1) A person who was born within the borders of Nepal until the end of Chaitra year 2046 and has been permanently residing in Nepal shall be a citizen of Nepal by birth.\\\\n---\\\\n(2) According to sub-section (1), a person who wishes to obtain a certificate of citizenship shall submit an application before the election of the Constituent Assembly and the provision of the certificate of citizenship shall be as prescribed.\\\\n\\\\n(3) A person who is unable to submit an application within the time period specified in sub-section (2) due to special reasons may submit an application as prescribed within two years from the date of commencement of this Act.\\\\n\\\\n# 5. Acquiring recognized Nepali citizenship:\\\\n\\\\n(1) If a foreign woman who is married to a Nepali citizen wants to obtain Nepali citizenship, she must submit an application to the designated authority in the prescribed format. When making such an application, you will also have to submit proof of your marital relationship with a Nepalese citizen and the fact that you have taken action to renounce your foreign citizenship.\\\\n\\\\n(2) In the case of children born to a Nepali citizen woman married to a foreign citizen, if he was born in Nepal and resided in', metadata={'source': 'data/parsed_document.md', '_id': 'd71efe3915094b4b91a42395fdd4a0c7', '_collection_name': 'document_embeddings', 'relevance_score': 0.9417110681533813}),\n",
       "  Document(page_content='citizenship in accordance with section 14, the Nepali citizenship of such person shall not continue from the date of such removal.\\\\n\\\\n(4) If a person has the citizenship of Nepal and a foreign country at the same time, such a person should choose the citizenship of one of the countries within two years of attaining the age of sixteen. In the case of not choosing such citizenship, his Nepali citizenship will not be maintained after the expiry of that period.\\\\n\\\\n(5) If a question arises as to whether a citizen of Nepal has acquired the citizenship of a foreign country or not, the designated authority shall make a decision according to the prevailing law.\\\\n\\\\n# 11. Renewal of Nepalese citizenship:\\\\n\\\\nIf a Nepali citizen, after acquiring the citizenship of a foreign country, returns to Nepal and gives the certificate of renouncing the citizenship of the foreign country to the designated authority, his Nepali citizenship will be restored from the date of registration of such certificate.\\\\n---\\\\n# 12 Cancellation of citizenship certificate:\\\\n\\\\nIf it is proved that a Nepali citizen has obtained a certificate of Nepali citizenship by giving false information, the designated authority will cancel such citizenship certificate.\\\\n\\\\n# 13. Do not take dual citizenship certificate:\\\\n\\\\nNo one should take more than one citizenship certificate. But on the basis of migration, if a person wishes, it will not be a hindrance to issue another citizenship certificate from the concerned office.\\\\n\\\\n# 14. Removal from Nepali citizenship:\\\\n\\\\n1. If it is proved that a foreigner has obtained a certificate of Nepali citizenship by giving false information or a statement that he is a Nepali citizen, the Government of Nepal will cancel his Nepali citizenship certificate and order to remove him from Nepali citizenship.\\\\n2. According to this clause, an appeal may be filed in the concerned High Court within thirty-five days against the order issued by the Government of Nepal to remove a person from the citizenship of Nepal.\\\\n\\\\nAmended by Act to', metadata={'source': 'data/parsed_document.md', '_id': '7d22b76b11e446bfac75866e3d3df172', '_collection_name': 'document_embeddings', 'relevance_score': 0.921991765499115})]}"
      ]
     },
     "execution_count": 25,
     "metadata": {},
     "output_type": "execute_result"
    }
   ],
   "source": [
    "qry(\"at what age will i get citizenship?\")\n"
   ]
  },
  {
   "cell_type": "code",
   "execution_count": 26,
   "metadata": {
    "colab": {
     "base_uri": "https://localhost:8080/"
    },
    "id": "aZM1ufPyLp96",
    "outputId": "1c0a5522-2e82-4f2e-928d-344503b460ee"
   },
   "outputs": [
    {
     "name": "stdout",
     "output_type": "stream",
     "text": [
      "Running pairwise ranking..\n"
     ]
    },
    {
     "data": {
      "text/plain": [
       "{'query': 'if my father is nepali and mother is non nepali, can i get citizenship?',\n",
       " 'result': '**No**, the provided information does not mention a scenario where a person can obtain Nepalese citizenship if their father is Nepali and mother is non-Nepali.',\n",
       " 'source_documents': [Document(page_content='his father and mother are citizens of Nepal, he will get Nepalese citizenship on the basis of descent after reaching the age of sixteen.\\\\n---\\\\n(5) A person who was born in Nepal from a mother who is a citizen of Nepal and settled in Nepal and whose father cannot be identified will get Nepalese citizenship on the basis of descendants.\\\\n\\\\n(6) According to sub-section (5), if the father of a person who has received citizenship is a foreigner, such person\\\\\\'s citizenship on the basis of descent will not be retained and if the child declares that he did not receive the citizenship of the foreign country on the basis of his father\\\\\\'s citizenship, the child\\\\\\'s citizenship will be converted into a recognized citizenship.\\\\n\\\\n# 27. Amendment to Section 8 of the original Act:\\\\n\\\\nSection 8 of the original Act,-\\\\n\\\\n(1) After clause (a) of sub-section (1), the following clause (a1) shall be inserted:-\\\\n\\\\n\"(A1) Self-declaration of birth of a person born in Nepal from a mother who is a citizen of Nepal and settled in Nepal and the identity of the father has not been ascertained. At the time of filing the petition, the petitioner must attach a self-declaration of death along with the evidence that the mother of such a person has died or moved to another address.\"\\\\n\\\\n(2) After sub-section (1) the following sub-section (1A) shall be inserted:-\\\\n\\\\n\"(1a) Notwithstanding anything written in clause (a) of sub-section (1), except for sub-section (4) of section 3, when applying for a certificate of citizenship, copies of the certificate of citizenship of both father and mother shall be attached.\"\\\\n\\\\n# 28. Amendment in Section 21 of the original Act:\\\\n\\\\nSub-section (3) of Section 21 of the original Act, sub-sections (3A) and (3B) of the due date have been added:-\\\\n\\\\n\"(3a) Under sub-section (6) of section 3, a person who makes a false self-declaration shall be imprisoned for six months to one year or fined up to fifty rupees or one lakh rupees or fined. In the case of obtaining citizenship under false self-declaration, the citizenship will', metadata={'source': 'data/parsed_document.md', '_id': '33578d6783954902bc4aa597a52581e6', '_collection_name': 'document_embeddings', 'relevance_score': 0.999250590801239}),\n",
       "  Document(page_content=\"In the case of children born to a Nepali citizen woman married to a foreign citizen, if he was born in Nepal and resided in Nepal permanently, and based on the citizenship of his father, he has not acquired the citizenship of a foreign country, then he can be granted recognized citizenship as prescribed.\\\\n\\\\n(3) In accordance with sub-section (2), a person who wishes to obtain recognized citizenship shall submit an application to the designated authority by attaching the following documents:\\\\n\\\\n- (a) Copy of mother\\\\'s certificate of Nepalese citizenship,\\\\n- (b) Recommendation of the village or municipality related to the opening of the case of birth and permanent residence in Nepal,\\\\n- (c) Non-citizenship of any foreign country on the basis of father\\\\'s citizenship.\\\\n\\\\n(4) Among the foreign nationals who have fulfilled the following conditions and conditions, those who are deemed by the Government of Nepal to have made or can make a special contribution to science, philosophy, art, literature, world peace, human welfare or the industrial, economic or social progress of Nepal. The recognized Nepali citizenship can be granted as specified:\\\\n\\\\n- (a) able to speak and write Nepali or any other language prevalent in Nepal,\\\\n- (b) residing in Nepal for any business,\\\\n- (c) renounced or declared to renounce the citizenship of another country,\\\\n- (d) resided in Nepal for at least fifteen years,\\\\n- (e) Being a citizen of a country where there is a legal system or practice of granting naturalized citizenship to Nepali citizens.\\\\n---\\\\n# (f) of good conduct,\\\\n\\\\n# (G) Mentally healthy.\\\\n\\\\n# (5) Notwithstanding anything written in sub-section (4), among the children of a person who has obtained recognized Nepali citizenship, the child born before he acquired that citizenship may receive recognized Nepali citizenship as prescribed.\\\\n\\\\n# (6) According to this section, a person who has been recognized as a Nepali citizen will be given a certificate of Nepali citizenship in the prescribed format by taking an oath as per the\", metadata={'source': 'data/parsed_document.md', '_id': '743cd2abfc0341dd92ff3010a59e4730', '_collection_name': 'document_embeddings', 'relevance_score': 0.9984809160232544}),\n",
       "  Document(page_content=\"citizen, it shall be in accordance with sub-section (2) of section 5.\\\\n3. (3) Every minor who does not have a paternal and maternal address found within the borders of Nepal shall be considered a citizen of Nepal as a descendant until his father or mother is found.\\\\n\\\\n# 4. Acquisition of Nepalese citizenship by birth:\\\\n\\\\n1. (1) A person who was born within the borders of Nepal until the end of Chaitra year 2046 and has been permanently residing in Nepal shall be a citizen of Nepal by birth.\\\\n---\\\\n(2) According to sub-section (1), a person who wishes to obtain a certificate of citizenship shall submit an application before the election of the Constituent Assembly and the provision of the certificate of citizenship shall be as prescribed.\\\\n\\\\n(3) A person who is unable to submit an application within the time period specified in sub-section (2) due to special reasons may submit an application as prescribed within two years from the date of commencement of this Act.\\\\n\\\\n# 5. Acquiring recognized Nepali citizenship:\\\\n\\\\n(1) If a foreign woman who is married to a Nepali citizen wants to obtain Nepali citizenship, she must submit an application to the designated authority in the prescribed format. When making such an application, you will also have to submit proof of your marital relationship with a Nepalese citizen and the fact that you have taken action to renounce your foreign citizenship.\\\\n\\\\n(2) In the case of children born to a Nepali citizen woman married to a foreign citizen, if he was born in Nepal and resided in Nepal permanently, and based on the citizenship of his father, he has not acquired the citizenship of a foreign country, then he can be granted recognized citizenship as prescribed.\\\\n\\\\n(3) In accordance with sub-section (2), a person who wishes to obtain recognized citizenship shall submit an application to the designated authority by attaching the following documents:\\\\n\\\\n- (a) Copy of mother\\\\'s certificate of Nepalese citizenship,\\\\n- (b) Recommendation of the village or municipality related to the\", metadata={'source': 'data/parsed_document.md', '_id': '7a5724039d3a4610be0cdd4084dc3872', '_collection_name': 'document_embeddings', 'relevance_score': 0.9913493990898132})]}"
      ]
     },
     "execution_count": 26,
     "metadata": {},
     "output_type": "execute_result"
    }
   ],
   "source": [
    "qry('if my father is nepali and mother is non nepali, can i get citizenship?')\n"
   ]
  },
  {
   "cell_type": "code",
   "execution_count": 27,
   "metadata": {
    "colab": {
     "base_uri": "https://localhost:8080/"
    },
    "id": "D7NT2L-VMUvB",
    "outputId": "ae1560a9-330a-4d98-b928-c53659305429"
   },
   "outputs": [
    {
     "name": "stdout",
     "output_type": "stream",
     "text": [
      "Running pairwise ranking..\n"
     ]
    },
    {
     "data": {
      "text/plain": [
       "{'query': 'my friend yogesh is from sunsari district. which office should he to to make citizenship?',\n",
       " 'result': \"Yogesh should go to the concerned office in Sunsari district.\\n\\nReason: The context does not specify a central office for citizenship certificates, implying that the application should be submitted to a local office in the applicant's district.\",\n",
       " 'source_documents': [Document(page_content='citizenship certificate.\\\\n\\\\n# 13. Do not take dual citizenship certificate:\\\\n\\\\nNo one should take more than one citizenship certificate. But on the basis of migration, if a person wishes, it will not be a hindrance to issue another citizenship certificate from the concerned office.\\\\n\\\\n# 14. Removal from Nepali citizenship:\\\\n\\\\n1. If it is proved that a foreigner has obtained a certificate of Nepali citizenship by giving false information or a statement that he is a Nepali citizen, the Government of Nepal will cancel his Nepali citizenship certificate and order to remove him from Nepali citizenship.\\\\n2. According to this clause, an appeal may be filed in the concerned High Court within thirty-five days against the order issued by the Government of Nepal to remove a person from the citizenship of Nepal.\\\\n\\\\nAmended by Act to amend certain Nepal Acts, 2072.\\\\n\\\\nAct to amend some Nepal Acts, 2064.\\\\n\\\\n# 15. Keeping records of citizenship certificates:\\\\n\\\\nThe arrangements related to keeping records of Nepali citizenship certificates will be as prescribed.\\\\n\\\\n# 16. No loss of rights, duties and responsibilities:\\\\n\\\\nIf someone\\\\\\'s Nepali citizenship is terminated due to any reason, his rights, duties and obligations in relation to any act done by him while he was a citizen of Nepal shall not be considered to be lost due to the termination of citizenship.\\\\n\\\\n# 17. Correction of details:\\\\n\\\\n1. If a person wishes to correct the details in his/her Nepali citizenship certificate, if the surname or age mentioned in the certificate of educational qualification has changed, or if there is a minor error in the citizenship certificate, he/she should submit an application to the designated authority with the necessary evidence.\\\\n\\\\nExplanation: For the purposes of this sub-section, \"minor error\" means any non-material difference in the particulars mentioned in the certificate of citizenship, such as: words like \"Kumari\", \"Devi\", \"Bahadur\", \"Prasad\" etc. have been superseded or omitted or there has been a difference in size, shape or', metadata={'source': 'data/parsed_document.md', '_id': 'd8e0db64ef3d4e68a4f9cf5f9870dc47', '_collection_name': 'document_embeddings', 'relevance_score': 0.00046457958524115384}),\n",
       "  Document(page_content=\"In the case of children born to a Nepali citizen woman married to a foreign citizen, if he was born in Nepal and resided in Nepal permanently, and based on the citizenship of his father, he has not acquired the citizenship of a foreign country, then he can be granted recognized citizenship as prescribed.\\\\n\\\\n(3) In accordance with sub-section (2), a person who wishes to obtain recognized citizenship shall submit an application to the designated authority by attaching the following documents:\\\\n\\\\n- (a) Copy of mother\\\\'s certificate of Nepalese citizenship,\\\\n- (b) Recommendation of the village or municipality related to the opening of the case of birth and permanent residence in Nepal,\\\\n- (c) Non-citizenship of any foreign country on the basis of father\\\\'s citizenship.\\\\n\\\\n(4) Among the foreign nationals who have fulfilled the following conditions and conditions, those who are deemed by the Government of Nepal to have made or can make a special contribution to science, philosophy, art, literature, world peace, human welfare or the industrial, economic or social progress of Nepal. The recognized Nepali citizenship can be granted as specified:\\\\n\\\\n- (a) able to speak and write Nepali or any other language prevalent in Nepal,\\\\n- (b) residing in Nepal for any business,\\\\n- (c) renounced or declared to renounce the citizenship of another country,\\\\n- (d) resided in Nepal for at least fifteen years,\\\\n- (e) Being a citizen of a country where there is a legal system or practice of granting naturalized citizenship to Nepali citizens.\\\\n---\\\\n# (f) of good conduct,\\\\n\\\\n# (G) Mentally healthy.\\\\n\\\\n# (5) Notwithstanding anything written in sub-section (4), among the children of a person who has obtained recognized Nepali citizenship, the child born before he acquired that citizenship may receive recognized Nepali citizenship as prescribed.\\\\n\\\\n# (6) According to this section, a person who has been recognized as a Nepali citizen will be given a certificate of Nepali citizenship in the prescribed format by taking an oath as per the\", metadata={'source': 'data/parsed_document.md', '_id': '743cd2abfc0341dd92ff3010a59e4730', '_collection_name': 'document_embeddings', 'relevance_score': 0.0004324096371419728}),\n",
       "  Document(page_content=\"is acquired within Nepal by annexation, the person within that territory will be considered a citizen of Nepal from the date specified in the notification as prescribed by the Government of Nepal by publishing a notice in the Nepal Gazette under this Act.\\\\n\\\\n# 8. To apply for obtaining a certificate of citizenship:\\\\n\\\\n# (1) According to section 3, a person who has completed sixteen years of age and wishes to obtain a certificate of Nepali citizenship as a descendant must submit an application to the designated authority with copies of the following documents attached:\\\\n\\\\n- (a) Certificate of Nepalese citizenship of father or mother or relatives within three generations of their descent,\\\\n\\\\n# However, this provision will not be applicable in case of Nepali citizen women who are married to foreign nationals.\\\\n\\\\n- (B) Recommendation made by the village or municipality to reveal the place of birth and relationship.\\\\n\\\\n# Amended by Act to amend certain Nepal Acts, 2072.\\\\n\\\\n# (2) According to section 4, a person who has completed sixteen years of age and wishes to obtain a certificate of Nepali citizenship based on birth must submit an application to the designated authority with copies of the following documents attached:\\\\n\\\\n- (a) A recommendation made by the concerned village or municipality to disclose the fact that he was born in Nepal and has been permanently residing in Nepal,\\\\n\\\\n# Amended by Act to amend certain Nepal Acts, 2072.\\\\n---\\\\n(b) Land owner registration proof of his or his family\\\\'s name or certificate of Mohiani rights or proof of household ownership or proof that his or his father\\\\'s or mother\\\\'s name is included in the voter\\\\'s list prepared by the Election Commission.\\\\n\\\\n(3) After receiving the application according to sub-section (1) or (2), the designated officer will investigate based on the evidence received and give him a certificate of Nepali citizenship.\\\\n\\\\n(4) In the event that a person is unable to submit the proofs as per sub-section (1) or (2) with the application, the designated\", metadata={'source': 'data/parsed_document.md', '_id': 'a900cf523a1f44b49e9551f2ffeb6ba2', '_collection_name': 'document_embeddings', 'relevance_score': 0.0002983652229886502})]}"
      ]
     },
     "execution_count": 27,
     "metadata": {},
     "output_type": "execute_result"
    }
   ],
   "source": [
    "qry('my friend yogesh is from sunsari district. which office should he to to make citizenship?')\n"
   ]
  },
  {
   "cell_type": "code",
   "execution_count": 28,
   "metadata": {
    "colab": {
     "base_uri": "https://localhost:8080/"
    },
    "id": "67NBcfC0SvRE",
    "outputId": "957dc1d4-e4e0-4f25-d6aa-fd965e4af05c"
   },
   "outputs": [
    {
     "name": "stdout",
     "output_type": "stream",
     "text": [
      "Running pairwise ranking..\n"
     ]
    },
    {
     "data": {
      "text/plain": [
       "{'query': 'yogesh is a sn of nepali father,would he get citizenship by birth?',\n",
       " 'result': \"No, Yogesh would not get citizenship by birth because the information provided does not mention Yogesh's mother being a Nepali citizen, and the laws mentioned only grant citizenship by birth or descent to children of Nepali mothers.\",\n",
       " 'source_documents': [Document(page_content='his father and mother are citizens of Nepal, he will get Nepalese citizenship on the basis of descent after reaching the age of sixteen.\\\\n---\\\\n(5) A person who was born in Nepal from a mother who is a citizen of Nepal and settled in Nepal and whose father cannot be identified will get Nepalese citizenship on the basis of descendants.\\\\n\\\\n(6) According to sub-section (5), if the father of a person who has received citizenship is a foreigner, such person\\\\\\'s citizenship on the basis of descent will not be retained and if the child declares that he did not receive the citizenship of the foreign country on the basis of his father\\\\\\'s citizenship, the child\\\\\\'s citizenship will be converted into a recognized citizenship.\\\\n\\\\n# 27. Amendment to Section 8 of the original Act:\\\\n\\\\nSection 8 of the original Act,-\\\\n\\\\n(1) After clause (a) of sub-section (1), the following clause (a1) shall be inserted:-\\\\n\\\\n\"(A1) Self-declaration of birth of a person born in Nepal from a mother who is a citizen of Nepal and settled in Nepal and the identity of the father has not been ascertained. At the time of filing the petition, the petitioner must attach a self-declaration of death along with the evidence that the mother of such a person has died or moved to another address.\"\\\\n\\\\n(2) After sub-section (1) the following sub-section (1A) shall be inserted:-\\\\n\\\\n\"(1a) Notwithstanding anything written in clause (a) of sub-section (1), except for sub-section (4) of section 3, when applying for a certificate of citizenship, copies of the certificate of citizenship of both father and mother shall be attached.\"\\\\n\\\\n# 28. Amendment in Section 21 of the original Act:\\\\n\\\\nSub-section (3) of Section 21 of the original Act, sub-sections (3A) and (3B) of the due date have been added:-\\\\n\\\\n\"(3a) Under sub-section (6) of section 3, a person who makes a false self-declaration shall be imprisoned for six months to one year or fined up to fifty rupees or one lakh rupees or fined. In the case of obtaining citizenship under false self-declaration, the citizenship will', metadata={'source': 'data/parsed_document.md', '_id': '33578d6783954902bc4aa597a52581e6', '_collection_name': 'document_embeddings', 'relevance_score': 0.9879606366157532}),\n",
       "  Document(page_content=\"In the case of children born to a Nepali citizen woman married to a foreign citizen, if he was born in Nepal and resided in Nepal permanently, and based on the citizenship of his father, he has not acquired the citizenship of a foreign country, then he can be granted recognized citizenship as prescribed.\\\\n\\\\n(3) In accordance with sub-section (2), a person who wishes to obtain recognized citizenship shall submit an application to the designated authority by attaching the following documents:\\\\n\\\\n- (a) Copy of mother\\\\'s certificate of Nepalese citizenship,\\\\n- (b) Recommendation of the village or municipality related to the opening of the case of birth and permanent residence in Nepal,\\\\n- (c) Non-citizenship of any foreign country on the basis of father\\\\'s citizenship.\\\\n\\\\n(4) Among the foreign nationals who have fulfilled the following conditions and conditions, those who are deemed by the Government of Nepal to have made or can make a special contribution to science, philosophy, art, literature, world peace, human welfare or the industrial, economic or social progress of Nepal. The recognized Nepali citizenship can be granted as specified:\\\\n\\\\n- (a) able to speak and write Nepali or any other language prevalent in Nepal,\\\\n- (b) residing in Nepal for any business,\\\\n- (c) renounced or declared to renounce the citizenship of another country,\\\\n- (d) resided in Nepal for at least fifteen years,\\\\n- (e) Being a citizen of a country where there is a legal system or practice of granting naturalized citizenship to Nepali citizens.\\\\n---\\\\n# (f) of good conduct,\\\\n\\\\n# (G) Mentally healthy.\\\\n\\\\n# (5) Notwithstanding anything written in sub-section (4), among the children of a person who has obtained recognized Nepali citizenship, the child born before he acquired that citizenship may receive recognized Nepali citizenship as prescribed.\\\\n\\\\n# (6) According to this section, a person who has been recognized as a Nepali citizen will be given a certificate of Nepali citizenship in the prescribed format by taking an oath as per the\", metadata={'source': 'data/parsed_document.md', '_id': '743cd2abfc0341dd92ff3010a59e4730', '_collection_name': 'document_embeddings', 'relevance_score': 0.9709462523460388}),\n",
       "  Document(page_content=\"within the borders of Nepal shall be considered a citizen of Nepal as a descendant until his father or mother is found.\\\\n\\\\n# 4. Acquisition of Nepalese citizenship by birth:\\\\n\\\\n1. (1) A person who was born within the borders of Nepal until the end of Chaitra year 2046 and has been permanently residing in Nepal shall be a citizen of Nepal by birth.\\\\n---\\\\n(2) According to sub-section (1), a person who wishes to obtain a certificate of citizenship shall submit an application before the election of the Constituent Assembly and the provision of the certificate of citizenship shall be as prescribed.\\\\n\\\\n(3) A person who is unable to submit an application within the time period specified in sub-section (2) due to special reasons may submit an application as prescribed within two years from the date of commencement of this Act.\\\\n\\\\n# 5. Acquiring recognized Nepali citizenship:\\\\n\\\\n(1) If a foreign woman who is married to a Nepali citizen wants to obtain Nepali citizenship, she must submit an application to the designated authority in the prescribed format. When making such an application, you will also have to submit proof of your marital relationship with a Nepalese citizen and the fact that you have taken action to renounce your foreign citizenship.\\\\n\\\\n(2) In the case of children born to a Nepali citizen woman married to a foreign citizen, if he was born in Nepal and resided in Nepal permanently, and based on the citizenship of his father, he has not acquired the citizenship of a foreign country, then he can be granted recognized citizenship as prescribed.\\\\n\\\\n(3) In accordance with sub-section (2), a person who wishes to obtain recognized citizenship shall submit an application to the designated authority by attaching the following documents:\\\\n\\\\n- (a) Copy of mother\\\\'s certificate of Nepalese citizenship,\\\\n- (b) Recommendation of the village or municipality related to the opening of the case of birth and permanent residence in Nepal,\\\\n- (c) Non-citizenship of any foreign country on the basis of father\\\\'s\", metadata={'source': 'data/parsed_document.md', '_id': '21ef6c7fb860423a9889318d47d2044a', '_collection_name': 'document_embeddings', 'relevance_score': 0.9537599682807922})]}"
      ]
     },
     "execution_count": 28,
     "metadata": {},
     "output_type": "execute_result"
    }
   ],
   "source": [
    "qry('yogesh is a sn of nepali father,would he get citizenship by birth?')"
   ]
  },
  {
   "cell_type": "code",
   "execution_count": 29,
   "metadata": {
    "id": "REwc-VtNTEES"
   },
   "outputs": [
    {
     "name": "stdout",
     "output_type": "stream",
     "text": [
      "Running pairwise ranking..\n"
     ]
    },
    {
     "data": {
      "text/plain": [
       "{'query': 'What are the documents required to make citizenship',\n",
       " 'result': \"Here are the documents required to make citizenship:\\n\\n**For Descendant:**\\n\\n* Certificate of Nepalese citizenship of father or mother or relatives within three generations of their descent\\n* Recommendation made by the village or municipality to reveal the place of birth and relationship\\n\\n**For Birth:**\\n\\n* Recommendation made by the concerned village or municipality to disclose the fact that he was born in Nepal and has been permanently residing in Nepal\\n* Land owner registration proof of his or his family's name or certificate of Mohiani rights or proof of household ownership or proof that his or his father's or mother's name is included in the voter's list prepared by the Election Commission\",\n",
       " 'source_documents': [Document(page_content=\"specified in the notification as prescribed by the Government of Nepal by publishing a notice in the Nepal Gazette under this Act.\\\\n\\\\n# 8. To apply for obtaining a certificate of citizenship:\\\\n\\\\n# (1) According to section 3, a person who has completed sixteen years of age and wishes to obtain a certificate of Nepali citizenship as a descendant must submit an application to the designated authority with copies of the following documents attached:\\\\n\\\\n- (a) Certificate of Nepalese citizenship of father or mother or relatives within three generations of their descent,\\\\n\\\\n# However, this provision will not be applicable in case of Nepali citizen women who are married to foreign nationals.\\\\n\\\\n- (B) Recommendation made by the village or municipality to reveal the place of birth and relationship.\\\\n\\\\n# Amended by Act to amend certain Nepal Acts, 2072.\\\\n\\\\n# (2) According to section 4, a person who has completed sixteen years of age and wishes to obtain a certificate of Nepali citizenship based on birth must submit an application to the designated authority with copies of the following documents attached:\\\\n\\\\n- (a) A recommendation made by the concerned village or municipality to disclose the fact that he was born in Nepal and has been permanently residing in Nepal,\\\\n\\\\n# Amended by Act to amend certain Nepal Acts, 2072.\\\\n---\\\\n(b) Land owner registration proof of his or his family\\\\'s name or certificate of Mohiani rights or proof of household ownership or proof that his or his father\\\\'s or mother\\\\'s name is included in the voter\\\\'s list prepared by the Election Commission.\\\\n\\\\n(3) After receiving the application according to sub-section (1) or (2), the designated officer will investigate based on the evidence received and give him a certificate of Nepali citizenship.\\\\n\\\\n(4) In the event that a person is unable to submit the proofs as per sub-section (1) or (2) with the application, the designated officer can issue a certificate of Nepali citizenship based on the identification of at least three persons residing in the same\", metadata={'source': 'data/parsed_document.md', '_id': '21a351cf3be94f1eaaf0f4589c5ee01b', '_collection_name': 'document_embeddings', 'relevance_score': 0.9784227013587952}),\n",
       "  Document(page_content=\"(a) Copy of mother\\\\'s certificate of Nepalese citizenship,\\\\n- (b) Recommendation of the village or municipality related to the opening of the case of birth and permanent residence in Nepal,\\\\n- (c) Non-citizenship of any foreign country on the basis of father\\\\'s citizenship.\\\\n\\\\n(4) Among the foreign nationals who have fulfilled the following conditions and conditions, those who are deemed by the Government of Nepal to have made or can make a special contribution to science, philosophy, art, literature, world peace, human welfare or the industrial, economic or social progress of Nepal. The recognized Nepali citizenship can be granted as specified:\\\\n\\\\n- (a) able to speak and write Nepali or any other language prevalent in Nepal,\\\\n- (b) residing in Nepal for any business,\\\\n- (c) renounced or declared to renounce the citizenship of another country,\\\\n- (d) resided in Nepal for at least fifteen years,\\\\n- (e) Being a citizen of a country where there is a legal system or practice of granting naturalized citizenship to Nepali citizens.\\\\n---\\\\n# (f) of good conduct,\\\\n\\\\n# (G) Mentally healthy.\\\\n\\\\n# (5) Notwithstanding anything written in sub-section (4), among the children of a person who has obtained recognized Nepali citizenship, the child born before he acquired that citizenship may receive recognized Nepali citizenship as prescribed.\\\\n\\\\n# (6) According to this section, a person who has been recognized as a Nepali citizen will be given a certificate of Nepali citizenship in the prescribed format by taking an oath as per the schedule and from the date of receiving such a certificate, such person will be a recognized citizen of Nepal.\\\\n\\\\n# 6. Honorary citizenship of Nepal can be granted: Regardless of what is written in section 5, the government of Nepal can grant honorary citizenship of Nepal to a person of international fame.\\\\n\\\\n# 7. Citizenship at the time of annexation of territory: If any territory is acquired within Nepal by annexation, the person within that territory will be considered a citizen of Nepal from the\", metadata={'source': 'data/parsed_document.md', '_id': 'd66f84fd1a6a4ed59cab20734fc7d91c', '_collection_name': 'document_embeddings', 'relevance_score': 0.8741878867149353}),\n",
       "  Document(page_content=\"is acquired within Nepal by annexation, the person within that territory will be considered a citizen of Nepal from the date specified in the notification as prescribed by the Government of Nepal by publishing a notice in the Nepal Gazette under this Act.\\\\n\\\\n# 8. To apply for obtaining a certificate of citizenship:\\\\n\\\\n# (1) According to section 3, a person who has completed sixteen years of age and wishes to obtain a certificate of Nepali citizenship as a descendant must submit an application to the designated authority with copies of the following documents attached:\\\\n\\\\n- (a) Certificate of Nepalese citizenship of father or mother or relatives within three generations of their descent,\\\\n\\\\n# However, this provision will not be applicable in case of Nepali citizen women who are married to foreign nationals.\\\\n\\\\n- (B) Recommendation made by the village or municipality to reveal the place of birth and relationship.\\\\n\\\\n# Amended by Act to amend certain Nepal Acts, 2072.\\\\n\\\\n# (2) According to section 4, a person who has completed sixteen years of age and wishes to obtain a certificate of Nepali citizenship based on birth must submit an application to the designated authority with copies of the following documents attached:\\\\n\\\\n- (a) A recommendation made by the concerned village or municipality to disclose the fact that he was born in Nepal and has been permanently residing in Nepal,\\\\n\\\\n# Amended by Act to amend certain Nepal Acts, 2072.\\\\n---\\\\n(b) Land owner registration proof of his or his family\\\\'s name or certificate of Mohiani rights or proof of household ownership or proof that his or his father\\\\'s or mother\\\\'s name is included in the voter\\\\'s list prepared by the Election Commission.\\\\n\\\\n(3) After receiving the application according to sub-section (1) or (2), the designated officer will investigate based on the evidence received and give him a certificate of Nepali citizenship.\\\\n\\\\n(4) In the event that a person is unable to submit the proofs as per sub-section (1) or (2) with the application, the designated\", metadata={'source': 'data/parsed_document.md', '_id': 'a900cf523a1f44b49e9551f2ffeb6ba2', '_collection_name': 'document_embeddings', 'relevance_score': 0.8711600303649902})]}"
      ]
     },
     "execution_count": 29,
     "metadata": {},
     "output_type": "execute_result"
    }
   ],
   "source": [
    "qry('What are the documents required to make citizenship')"
   ]
  },
  {
   "cell_type": "code",
   "execution_count": null,
   "metadata": {},
   "outputs": [],
   "source": []
  }
 ],
 "metadata": {
  "colab": {
   "provenance": []
  },
  "kernelspec": {
   "display_name": "venv2",
   "language": "python",
   "name": "python3"
  },
  "language_info": {
   "codemirror_mode": {
    "name": "ipython",
    "version": 3
   },
   "file_extension": ".py",
   "mimetype": "text/x-python",
   "name": "python",
   "nbconvert_exporter": "python",
   "pygments_lexer": "ipython3",
   "version": "3.12.4"
  },
  "widgets": {
   "application/vnd.jupyter.widget-state+json": {
    "06268a39222f4bab9c14d237ac431494": {
     "model_module": "@jupyter-widgets/controls",
     "model_module_version": "1.5.0",
     "model_name": "HTMLModel",
     "state": {
      "_dom_classes": [],
      "_model_module": "@jupyter-widgets/controls",
      "_model_module_version": "1.5.0",
      "_model_name": "HTMLModel",
      "_view_count": null,
      "_view_module": "@jupyter-widgets/controls",
      "_view_module_version": "1.5.0",
      "_view_name": "HTMLView",
      "description": "",
      "description_tooltip": null,
      "layout": "IPY_MODEL_9f3ff548312b4f02903c46ec245fbf12",
      "placeholder": "​",
      "style": "IPY_MODEL_bb4bf3818c6747a781dfe8cf18182dab",
      "value": "special_tokens_map.json: 100%"
     }
    },
    "095e8720fc124ddf972305a3410a4e1a": {
     "model_module": "@jupyter-widgets/controls",
     "model_module_version": "1.5.0",
     "model_name": "HTMLModel",
     "state": {
      "_dom_classes": [],
      "_model_module": "@jupyter-widgets/controls",
      "_model_module_version": "1.5.0",
      "_model_name": "HTMLModel",
      "_view_count": null,
      "_view_module": "@jupyter-widgets/controls",
      "_view_module_version": "1.5.0",
      "_view_name": "HTMLView",
      "description": "",
      "description_tooltip": null,
      "layout": "IPY_MODEL_48e933a1ff904ba1b19bdfe218a5d0f5",
      "placeholder": "​",
      "style": "IPY_MODEL_35242b0a0f32463e810abec29231d1cc",
      "value": " 5/5 [00:06&lt;00:00,  3.64s/it]"
     }
    },
    "0ed00727060b4ae4ac37baede59dc6ad": {
     "model_module": "@jupyter-widgets/controls",
     "model_module_version": "1.5.0",
     "model_name": "DescriptionStyleModel",
     "state": {
      "_model_module": "@jupyter-widgets/controls",
      "_model_module_version": "1.5.0",
      "_model_name": "DescriptionStyleModel",
      "_view_count": null,
      "_view_module": "@jupyter-widgets/base",
      "_view_module_version": "1.2.0",
      "_view_name": "StyleView",
      "description_width": ""
     }
    },
    "1373d297e6d248bd995e0f84f2cf49bc": {
     "model_module": "@jupyter-widgets/base",
     "model_module_version": "1.2.0",
     "model_name": "LayoutModel",
     "state": {
      "_model_module": "@jupyter-widgets/base",
      "_model_module_version": "1.2.0",
      "_model_name": "LayoutModel",
      "_view_count": null,
      "_view_module": "@jupyter-widgets/base",
      "_view_module_version": "1.2.0",
      "_view_name": "LayoutView",
      "align_content": null,
      "align_items": null,
      "align_self": null,
      "border": null,
      "bottom": null,
      "display": null,
      "flex": null,
      "flex_flow": null,
      "grid_area": null,
      "grid_auto_columns": null,
      "grid_auto_flow": null,
      "grid_auto_rows": null,
      "grid_column": null,
      "grid_gap": null,
      "grid_row": null,
      "grid_template_areas": null,
      "grid_template_columns": null,
      "grid_template_rows": null,
      "height": null,
      "justify_content": null,
      "justify_items": null,
      "left": null,
      "margin": null,
      "max_height": null,
      "max_width": null,
      "min_height": null,
      "min_width": null,
      "object_fit": null,
      "object_position": null,
      "order": null,
      "overflow": null,
      "overflow_x": null,
      "overflow_y": null,
      "padding": null,
      "right": null,
      "top": null,
      "visibility": null,
      "width": null
     }
    },
    "1587de08b60944eebc9471a191d04ef3": {
     "model_module": "@jupyter-widgets/controls",
     "model_module_version": "1.5.0",
     "model_name": "DescriptionStyleModel",
     "state": {
      "_model_module": "@jupyter-widgets/controls",
      "_model_module_version": "1.5.0",
      "_model_name": "DescriptionStyleModel",
      "_view_count": null,
      "_view_module": "@jupyter-widgets/base",
      "_view_module_version": "1.2.0",
      "_view_name": "StyleView",
      "description_width": ""
     }
    },
    "19edf21a57194fc79a5cd1a89c4df6f8": {
     "model_module": "@jupyter-widgets/controls",
     "model_module_version": "1.5.0",
     "model_name": "HTMLModel",
     "state": {
      "_dom_classes": [],
      "_model_module": "@jupyter-widgets/controls",
      "_model_module_version": "1.5.0",
      "_model_name": "HTMLModel",
      "_view_count": null,
      "_view_module": "@jupyter-widgets/controls",
      "_view_module_version": "1.5.0",
      "_view_name": "HTMLView",
      "description": "",
      "description_tooltip": null,
      "layout": "IPY_MODEL_2437939167e642079881dd9b590b8769",
      "placeholder": "​",
      "style": "IPY_MODEL_d9bf2742578c4cf1a042afddaef65c92",
      "value": "model_optimized.onnx: 100%"
     }
    },
    "1b1ebc3badac428ca835ee90ebda9f22": {
     "model_module": "@jupyter-widgets/base",
     "model_module_version": "1.2.0",
     "model_name": "LayoutModel",
     "state": {
      "_model_module": "@jupyter-widgets/base",
      "_model_module_version": "1.2.0",
      "_model_name": "LayoutModel",
      "_view_count": null,
      "_view_module": "@jupyter-widgets/base",
      "_view_module_version": "1.2.0",
      "_view_name": "LayoutView",
      "align_content": null,
      "align_items": null,
      "align_self": null,
      "border": null,
      "bottom": null,
      "display": null,
      "flex": null,
      "flex_flow": null,
      "grid_area": null,
      "grid_auto_columns": null,
      "grid_auto_flow": null,
      "grid_auto_rows": null,
      "grid_column": null,
      "grid_gap": null,
      "grid_row": null,
      "grid_template_areas": null,
      "grid_template_columns": null,
      "grid_template_rows": null,
      "height": null,
      "justify_content": null,
      "justify_items": null,
      "left": null,
      "margin": null,
      "max_height": null,
      "max_width": null,
      "min_height": null,
      "min_width": null,
      "object_fit": null,
      "object_position": null,
      "order": null,
      "overflow": null,
      "overflow_x": null,
      "overflow_y": null,
      "padding": null,
      "right": null,
      "top": null,
      "visibility": null,
      "width": null
     }
    },
    "1e18e6bdf4554c03a10e461a41f7b529": {
     "model_module": "@jupyter-widgets/base",
     "model_module_version": "1.2.0",
     "model_name": "LayoutModel",
     "state": {
      "_model_module": "@jupyter-widgets/base",
      "_model_module_version": "1.2.0",
      "_model_name": "LayoutModel",
      "_view_count": null,
      "_view_module": "@jupyter-widgets/base",
      "_view_module_version": "1.2.0",
      "_view_name": "LayoutView",
      "align_content": null,
      "align_items": null,
      "align_self": null,
      "border": null,
      "bottom": null,
      "display": null,
      "flex": null,
      "flex_flow": null,
      "grid_area": null,
      "grid_auto_columns": null,
      "grid_auto_flow": null,
      "grid_auto_rows": null,
      "grid_column": null,
      "grid_gap": null,
      "grid_row": null,
      "grid_template_areas": null,
      "grid_template_columns": null,
      "grid_template_rows": null,
      "height": null,
      "justify_content": null,
      "justify_items": null,
      "left": null,
      "margin": null,
      "max_height": null,
      "max_width": null,
      "min_height": null,
      "min_width": null,
      "object_fit": null,
      "object_position": null,
      "order": null,
      "overflow": null,
      "overflow_x": null,
      "overflow_y": null,
      "padding": null,
      "right": null,
      "top": null,
      "visibility": null,
      "width": null
     }
    },
    "1fc0a2e7568d4380aa40cc21c80bf266": {
     "model_module": "@jupyter-widgets/controls",
     "model_module_version": "1.5.0",
     "model_name": "HTMLModel",
     "state": {
      "_dom_classes": [],
      "_model_module": "@jupyter-widgets/controls",
      "_model_module_version": "1.5.0",
      "_model_name": "HTMLModel",
      "_view_count": null,
      "_view_module": "@jupyter-widgets/controls",
      "_view_module_version": "1.5.0",
      "_view_name": "HTMLView",
      "description": "",
      "description_tooltip": null,
      "layout": "IPY_MODEL_72e5ef869bca4c3a850360913c363c8e",
      "placeholder": "​",
      "style": "IPY_MODEL_1587de08b60944eebc9471a191d04ef3",
      "value": " 740/740 [00:00&lt;00:00, 4.42kB/s]"
     }
    },
    "21cc7c37a4184cd096211d310491a84a": {
     "model_module": "@jupyter-widgets/controls",
     "model_module_version": "1.5.0",
     "model_name": "FloatProgressModel",
     "state": {
      "_dom_classes": [],
      "_model_module": "@jupyter-widgets/controls",
      "_model_module_version": "1.5.0",
      "_model_name": "FloatProgressModel",
      "_view_count": null,
      "_view_module": "@jupyter-widgets/controls",
      "_view_module_version": "1.5.0",
      "_view_name": "ProgressView",
      "bar_style": "success",
      "description": "",
      "description_tooltip": null,
      "layout": "IPY_MODEL_811cbba2872b46889148b7b433ceb79b",
      "max": 1242,
      "min": 0,
      "orientation": "horizontal",
      "style": "IPY_MODEL_59c31813ad6b46b29fa64044049cb908",
      "value": 1242
     }
    },
    "2437939167e642079881dd9b590b8769": {
     "model_module": "@jupyter-widgets/base",
     "model_module_version": "1.2.0",
     "model_name": "LayoutModel",
     "state": {
      "_model_module": "@jupyter-widgets/base",
      "_model_module_version": "1.2.0",
      "_model_name": "LayoutModel",
      "_view_count": null,
      "_view_module": "@jupyter-widgets/base",
      "_view_module_version": "1.2.0",
      "_view_name": "LayoutView",
      "align_content": null,
      "align_items": null,
      "align_self": null,
      "border": null,
      "bottom": null,
      "display": null,
      "flex": null,
      "flex_flow": null,
      "grid_area": null,
      "grid_auto_columns": null,
      "grid_auto_flow": null,
      "grid_auto_rows": null,
      "grid_column": null,
      "grid_gap": null,
      "grid_row": null,
      "grid_template_areas": null,
      "grid_template_columns": null,
      "grid_template_rows": null,
      "height": null,
      "justify_content": null,
      "justify_items": null,
      "left": null,
      "margin": null,
      "max_height": null,
      "max_width": null,
      "min_height": null,
      "min_width": null,
      "object_fit": null,
      "object_position": null,
      "order": null,
      "overflow": null,
      "overflow_x": null,
      "overflow_y": null,
      "padding": null,
      "right": null,
      "top": null,
      "visibility": null,
      "width": null
     }
    },
    "24f45f7670694297b3b9d72ed398ee1a": {
     "model_module": "@jupyter-widgets/base",
     "model_module_version": "1.2.0",
     "model_name": "LayoutModel",
     "state": {
      "_model_module": "@jupyter-widgets/base",
      "_model_module_version": "1.2.0",
      "_model_name": "LayoutModel",
      "_view_count": null,
      "_view_module": "@jupyter-widgets/base",
      "_view_module_version": "1.2.0",
      "_view_name": "LayoutView",
      "align_content": null,
      "align_items": null,
      "align_self": null,
      "border": null,
      "bottom": null,
      "display": null,
      "flex": null,
      "flex_flow": null,
      "grid_area": null,
      "grid_auto_columns": null,
      "grid_auto_flow": null,
      "grid_auto_rows": null,
      "grid_column": null,
      "grid_gap": null,
      "grid_row": null,
      "grid_template_areas": null,
      "grid_template_columns": null,
      "grid_template_rows": null,
      "height": null,
      "justify_content": null,
      "justify_items": null,
      "left": null,
      "margin": null,
      "max_height": null,
      "max_width": null,
      "min_height": null,
      "min_width": null,
      "object_fit": null,
      "object_position": null,
      "order": null,
      "overflow": null,
      "overflow_x": null,
      "overflow_y": null,
      "padding": null,
      "right": null,
      "top": null,
      "visibility": null,
      "width": null
     }
    },
    "327835ad9738446487d7e06265364b7f": {
     "model_module": "@jupyter-widgets/base",
     "model_module_version": "1.2.0",
     "model_name": "LayoutModel",
     "state": {
      "_model_module": "@jupyter-widgets/base",
      "_model_module_version": "1.2.0",
      "_model_name": "LayoutModel",
      "_view_count": null,
      "_view_module": "@jupyter-widgets/base",
      "_view_module_version": "1.2.0",
      "_view_name": "LayoutView",
      "align_content": null,
      "align_items": null,
      "align_self": null,
      "border": null,
      "bottom": null,
      "display": null,
      "flex": null,
      "flex_flow": null,
      "grid_area": null,
      "grid_auto_columns": null,
      "grid_auto_flow": null,
      "grid_auto_rows": null,
      "grid_column": null,
      "grid_gap": null,
      "grid_row": null,
      "grid_template_areas": null,
      "grid_template_columns": null,
      "grid_template_rows": null,
      "height": null,
      "justify_content": null,
      "justify_items": null,
      "left": null,
      "margin": null,
      "max_height": null,
      "max_width": null,
      "min_height": null,
      "min_width": null,
      "object_fit": null,
      "object_position": null,
      "order": null,
      "overflow": null,
      "overflow_x": null,
      "overflow_y": null,
      "padding": null,
      "right": null,
      "top": null,
      "visibility": null,
      "width": null
     }
    },
    "35242b0a0f32463e810abec29231d1cc": {
     "model_module": "@jupyter-widgets/controls",
     "model_module_version": "1.5.0",
     "model_name": "DescriptionStyleModel",
     "state": {
      "_model_module": "@jupyter-widgets/controls",
      "_model_module_version": "1.5.0",
      "_model_name": "DescriptionStyleModel",
      "_view_count": null,
      "_view_module": "@jupyter-widgets/base",
      "_view_module_version": "1.2.0",
      "_view_name": "StyleView",
      "description_width": ""
     }
    },
    "379a3fee168b4fd4b82c3169a48533c4": {
     "model_module": "@jupyter-widgets/base",
     "model_module_version": "1.2.0",
     "model_name": "LayoutModel",
     "state": {
      "_model_module": "@jupyter-widgets/base",
      "_model_module_version": "1.2.0",
      "_model_name": "LayoutModel",
      "_view_count": null,
      "_view_module": "@jupyter-widgets/base",
      "_view_module_version": "1.2.0",
      "_view_name": "LayoutView",
      "align_content": null,
      "align_items": null,
      "align_self": null,
      "border": null,
      "bottom": null,
      "display": null,
      "flex": null,
      "flex_flow": null,
      "grid_area": null,
      "grid_auto_columns": null,
      "grid_auto_flow": null,
      "grid_auto_rows": null,
      "grid_column": null,
      "grid_gap": null,
      "grid_row": null,
      "grid_template_areas": null,
      "grid_template_columns": null,
      "grid_template_rows": null,
      "height": null,
      "justify_content": null,
      "justify_items": null,
      "left": null,
      "margin": null,
      "max_height": null,
      "max_width": null,
      "min_height": null,
      "min_width": null,
      "object_fit": null,
      "object_position": null,
      "order": null,
      "overflow": null,
      "overflow_x": null,
      "overflow_y": null,
      "padding": null,
      "right": null,
      "top": null,
      "visibility": null,
      "width": null
     }
    },
    "3f3d2bdc1f7243da8deaff86dddb4c68": {
     "model_module": "@jupyter-widgets/base",
     "model_module_version": "1.2.0",
     "model_name": "LayoutModel",
     "state": {
      "_model_module": "@jupyter-widgets/base",
      "_model_module_version": "1.2.0",
      "_model_name": "LayoutModel",
      "_view_count": null,
      "_view_module": "@jupyter-widgets/base",
      "_view_module_version": "1.2.0",
      "_view_name": "LayoutView",
      "align_content": null,
      "align_items": null,
      "align_self": null,
      "border": null,
      "bottom": null,
      "display": null,
      "flex": null,
      "flex_flow": null,
      "grid_area": null,
      "grid_auto_columns": null,
      "grid_auto_flow": null,
      "grid_auto_rows": null,
      "grid_column": null,
      "grid_gap": null,
      "grid_row": null,
      "grid_template_areas": null,
      "grid_template_columns": null,
      "grid_template_rows": null,
      "height": null,
      "justify_content": null,
      "justify_items": null,
      "left": null,
      "margin": null,
      "max_height": null,
      "max_width": null,
      "min_height": null,
      "min_width": null,
      "object_fit": null,
      "object_position": null,
      "order": null,
      "overflow": null,
      "overflow_x": null,
      "overflow_y": null,
      "padding": null,
      "right": null,
      "top": null,
      "visibility": null,
      "width": null
     }
    },
    "4303f0e715cd4f359e62310f38003599": {
     "model_module": "@jupyter-widgets/controls",
     "model_module_version": "1.5.0",
     "model_name": "DescriptionStyleModel",
     "state": {
      "_model_module": "@jupyter-widgets/controls",
      "_model_module_version": "1.5.0",
      "_model_name": "DescriptionStyleModel",
      "_view_count": null,
      "_view_module": "@jupyter-widgets/base",
      "_view_module_version": "1.2.0",
      "_view_name": "StyleView",
      "description_width": ""
     }
    },
    "48e933a1ff904ba1b19bdfe218a5d0f5": {
     "model_module": "@jupyter-widgets/base",
     "model_module_version": "1.2.0",
     "model_name": "LayoutModel",
     "state": {
      "_model_module": "@jupyter-widgets/base",
      "_model_module_version": "1.2.0",
      "_model_name": "LayoutModel",
      "_view_count": null,
      "_view_module": "@jupyter-widgets/base",
      "_view_module_version": "1.2.0",
      "_view_name": "LayoutView",
      "align_content": null,
      "align_items": null,
      "align_self": null,
      "border": null,
      "bottom": null,
      "display": null,
      "flex": null,
      "flex_flow": null,
      "grid_area": null,
      "grid_auto_columns": null,
      "grid_auto_flow": null,
      "grid_auto_rows": null,
      "grid_column": null,
      "grid_gap": null,
      "grid_row": null,
      "grid_template_areas": null,
      "grid_template_columns": null,
      "grid_template_rows": null,
      "height": null,
      "justify_content": null,
      "justify_items": null,
      "left": null,
      "margin": null,
      "max_height": null,
      "max_width": null,
      "min_height": null,
      "min_width": null,
      "object_fit": null,
      "object_position": null,
      "order": null,
      "overflow": null,
      "overflow_x": null,
      "overflow_y": null,
      "padding": null,
      "right": null,
      "top": null,
      "visibility": null,
      "width": null
     }
    },
    "4952ad557e1544f2984527548be2e4d2": {
     "model_module": "@jupyter-widgets/controls",
     "model_module_version": "1.5.0",
     "model_name": "HTMLModel",
     "state": {
      "_dom_classes": [],
      "_model_module": "@jupyter-widgets/controls",
      "_model_module_version": "1.5.0",
      "_model_name": "HTMLModel",
      "_view_count": null,
      "_view_module": "@jupyter-widgets/controls",
      "_view_module_version": "1.5.0",
      "_view_name": "HTMLView",
      "description": "",
      "description_tooltip": null,
      "layout": "IPY_MODEL_d4d6b5f824ce4047a195aef2b88b3cb9",
      "placeholder": "​",
      "style": "IPY_MODEL_77c779dee36e4641956954baecf17610",
      "value": " 1.24k/1.24k [00:00&lt;00:00, 9.68kB/s]"
     }
    },
    "4dfab088d3eb421da9cd630e247f5635": {
     "model_module": "@jupyter-widgets/base",
     "model_module_version": "1.2.0",
     "model_name": "LayoutModel",
     "state": {
      "_model_module": "@jupyter-widgets/base",
      "_model_module_version": "1.2.0",
      "_model_name": "LayoutModel",
      "_view_count": null,
      "_view_module": "@jupyter-widgets/base",
      "_view_module_version": "1.2.0",
      "_view_name": "LayoutView",
      "align_content": null,
      "align_items": null,
      "align_self": null,
      "border": null,
      "bottom": null,
      "display": null,
      "flex": null,
      "flex_flow": null,
      "grid_area": null,
      "grid_auto_columns": null,
      "grid_auto_flow": null,
      "grid_auto_rows": null,
      "grid_column": null,
      "grid_gap": null,
      "grid_row": null,
      "grid_template_areas": null,
      "grid_template_columns": null,
      "grid_template_rows": null,
      "height": null,
      "justify_content": null,
      "justify_items": null,
      "left": null,
      "margin": null,
      "max_height": null,
      "max_width": null,
      "min_height": null,
      "min_width": null,
      "object_fit": null,
      "object_position": null,
      "order": null,
      "overflow": null,
      "overflow_x": null,
      "overflow_y": null,
      "padding": null,
      "right": null,
      "top": null,
      "visibility": null,
      "width": null
     }
    },
    "51baf8b425d742c5b14ca4acefb3d850": {
     "model_module": "@jupyter-widgets/controls",
     "model_module_version": "1.5.0",
     "model_name": "ProgressStyleModel",
     "state": {
      "_model_module": "@jupyter-widgets/controls",
      "_model_module_version": "1.5.0",
      "_model_name": "ProgressStyleModel",
      "_view_count": null,
      "_view_module": "@jupyter-widgets/base",
      "_view_module_version": "1.2.0",
      "_view_name": "StyleView",
      "bar_color": null,
      "description_width": ""
     }
    },
    "52fe8c1f17df4481a92496dedab47277": {
     "model_module": "@jupyter-widgets/controls",
     "model_module_version": "1.5.0",
     "model_name": "DescriptionStyleModel",
     "state": {
      "_model_module": "@jupyter-widgets/controls",
      "_model_module_version": "1.5.0",
      "_model_name": "DescriptionStyleModel",
      "_view_count": null,
      "_view_module": "@jupyter-widgets/base",
      "_view_module_version": "1.2.0",
      "_view_name": "StyleView",
      "description_width": ""
     }
    },
    "59c31813ad6b46b29fa64044049cb908": {
     "model_module": "@jupyter-widgets/controls",
     "model_module_version": "1.5.0",
     "model_name": "ProgressStyleModel",
     "state": {
      "_model_module": "@jupyter-widgets/controls",
      "_model_module_version": "1.5.0",
      "_model_name": "ProgressStyleModel",
      "_view_count": null,
      "_view_module": "@jupyter-widgets/base",
      "_view_module_version": "1.2.0",
      "_view_name": "StyleView",
      "bar_color": null,
      "description_width": ""
     }
    },
    "6739182ed33e452ebb0ae33f20dc25ba": {
     "model_module": "@jupyter-widgets/controls",
     "model_module_version": "1.5.0",
     "model_name": "FloatProgressModel",
     "state": {
      "_dom_classes": [],
      "_model_module": "@jupyter-widgets/controls",
      "_model_module_version": "1.5.0",
      "_model_name": "FloatProgressModel",
      "_view_count": null,
      "_view_module": "@jupyter-widgets/controls",
      "_view_module_version": "1.5.0",
      "_view_name": "ProgressView",
      "bar_style": "success",
      "description": "",
      "description_tooltip": null,
      "layout": "IPY_MODEL_eb80f19a13d141d2a99c5c899edfe299",
      "max": 740,
      "min": 0,
      "orientation": "horizontal",
      "style": "IPY_MODEL_8581e6046fda47be8d67f5b880464ecb",
      "value": 740
     }
    },
    "72e5ef869bca4c3a850360913c363c8e": {
     "model_module": "@jupyter-widgets/base",
     "model_module_version": "1.2.0",
     "model_name": "LayoutModel",
     "state": {
      "_model_module": "@jupyter-widgets/base",
      "_model_module_version": "1.2.0",
      "_model_name": "LayoutModel",
      "_view_count": null,
      "_view_module": "@jupyter-widgets/base",
      "_view_module_version": "1.2.0",
      "_view_name": "LayoutView",
      "align_content": null,
      "align_items": null,
      "align_self": null,
      "border": null,
      "bottom": null,
      "display": null,
      "flex": null,
      "flex_flow": null,
      "grid_area": null,
      "grid_auto_columns": null,
      "grid_auto_flow": null,
      "grid_auto_rows": null,
      "grid_column": null,
      "grid_gap": null,
      "grid_row": null,
      "grid_template_areas": null,
      "grid_template_columns": null,
      "grid_template_rows": null,
      "height": null,
      "justify_content": null,
      "justify_items": null,
      "left": null,
      "margin": null,
      "max_height": null,
      "max_width": null,
      "min_height": null,
      "min_width": null,
      "object_fit": null,
      "object_position": null,
      "order": null,
      "overflow": null,
      "overflow_x": null,
      "overflow_y": null,
      "padding": null,
      "right": null,
      "top": null,
      "visibility": null,
      "width": null
     }
    },
    "732dc4b21a8e4002b1951ba47beb60aa": {
     "model_module": "@jupyter-widgets/controls",
     "model_module_version": "1.5.0",
     "model_name": "HTMLModel",
     "state": {
      "_dom_classes": [],
      "_model_module": "@jupyter-widgets/controls",
      "_model_module_version": "1.5.0",
      "_model_name": "HTMLModel",
      "_view_count": null,
      "_view_module": "@jupyter-widgets/controls",
      "_view_module_version": "1.5.0",
      "_view_name": "HTMLView",
      "description": "",
      "description_tooltip": null,
      "layout": "IPY_MODEL_24f45f7670694297b3b9d72ed398ee1a",
      "placeholder": "​",
      "style": "IPY_MODEL_93e85fec634c48bbb7ea527b4964f69e",
      "value": "Fetching 5 files: 100%"
     }
    },
    "74734975e103481fa0032e2663bd419a": {
     "model_module": "@jupyter-widgets/controls",
     "model_module_version": "1.5.0",
     "model_name": "HBoxModel",
     "state": {
      "_dom_classes": [],
      "_model_module": "@jupyter-widgets/controls",
      "_model_module_version": "1.5.0",
      "_model_name": "HBoxModel",
      "_view_count": null,
      "_view_module": "@jupyter-widgets/controls",
      "_view_module_version": "1.5.0",
      "_view_name": "HBoxView",
      "box_style": "",
      "children": [
       "IPY_MODEL_f8996b0d2bbe4c559c39e30ae3ac2bf0",
       "IPY_MODEL_21cc7c37a4184cd096211d310491a84a",
       "IPY_MODEL_4952ad557e1544f2984527548be2e4d2"
      ],
      "layout": "IPY_MODEL_3f3d2bdc1f7243da8deaff86dddb4c68"
     }
    },
    "76c95f9df2ed47aea133efc4bbe4da65": {
     "model_module": "@jupyter-widgets/controls",
     "model_module_version": "1.5.0",
     "model_name": "HBoxModel",
     "state": {
      "_dom_classes": [],
      "_model_module": "@jupyter-widgets/controls",
      "_model_module_version": "1.5.0",
      "_model_name": "HBoxModel",
      "_view_count": null,
      "_view_module": "@jupyter-widgets/controls",
      "_view_module_version": "1.5.0",
      "_view_name": "HBoxView",
      "box_style": "",
      "children": [
       "IPY_MODEL_19edf21a57194fc79a5cd1a89c4df6f8",
       "IPY_MODEL_ee70f7d9f33b4020be285ebdf8f61862",
       "IPY_MODEL_ee988f87cce44dea9b37488b76bd790e"
      ],
      "layout": "IPY_MODEL_327835ad9738446487d7e06265364b7f"
     }
    },
    "77c779dee36e4641956954baecf17610": {
     "model_module": "@jupyter-widgets/controls",
     "model_module_version": "1.5.0",
     "model_name": "DescriptionStyleModel",
     "state": {
      "_model_module": "@jupyter-widgets/controls",
      "_model_module_version": "1.5.0",
      "_model_name": "DescriptionStyleModel",
      "_view_count": null,
      "_view_module": "@jupyter-widgets/base",
      "_view_module_version": "1.2.0",
      "_view_name": "StyleView",
      "description_width": ""
     }
    },
    "77e84ac71df1427e9eb14891f0aa51d4": {
     "model_module": "@jupyter-widgets/controls",
     "model_module_version": "1.5.0",
     "model_name": "FloatProgressModel",
     "state": {
      "_dom_classes": [],
      "_model_module": "@jupyter-widgets/controls",
      "_model_module_version": "1.5.0",
      "_model_name": "FloatProgressModel",
      "_view_count": null,
      "_view_module": "@jupyter-widgets/controls",
      "_view_module_version": "1.5.0",
      "_view_name": "ProgressView",
      "bar_style": "success",
      "description": "",
      "description_tooltip": null,
      "layout": "IPY_MODEL_d0ace2f93b3c4e48a104167343441180",
      "max": 711396,
      "min": 0,
      "orientation": "horizontal",
      "style": "IPY_MODEL_b56bc227b62240eebbc1fd5feebdcd9a",
      "value": 711396
     }
    },
    "7b0f8c13ae4246b7990690540a94311a": {
     "model_module": "@jupyter-widgets/controls",
     "model_module_version": "1.5.0",
     "model_name": "FloatProgressModel",
     "state": {
      "_dom_classes": [],
      "_model_module": "@jupyter-widgets/controls",
      "_model_module_version": "1.5.0",
      "_model_name": "FloatProgressModel",
      "_view_count": null,
      "_view_module": "@jupyter-widgets/controls",
      "_view_module_version": "1.5.0",
      "_view_name": "ProgressView",
      "bar_style": "success",
      "description": "",
      "description_tooltip": null,
      "layout": "IPY_MODEL_9d7dc9afe03e426e9cc35093dec01523",
      "max": 5,
      "min": 0,
      "orientation": "horizontal",
      "style": "IPY_MODEL_e80c0655a5c549b28c3fa50eff1e240f",
      "value": 5
     }
    },
    "7b82a8144cae462ea2f7f43dba9b0708": {
     "model_module": "@jupyter-widgets/controls",
     "model_module_version": "1.5.0",
     "model_name": "HBoxModel",
     "state": {
      "_dom_classes": [],
      "_model_module": "@jupyter-widgets/controls",
      "_model_module_version": "1.5.0",
      "_model_name": "HBoxModel",
      "_view_count": null,
      "_view_module": "@jupyter-widgets/controls",
      "_view_module_version": "1.5.0",
      "_view_name": "HBoxView",
      "box_style": "",
      "children": [
       "IPY_MODEL_d92071debeb349ffbab5c64dcf344d69",
       "IPY_MODEL_77e84ac71df1427e9eb14891f0aa51d4",
       "IPY_MODEL_852cc73746d947bfa8f0fe0580040122"
      ],
      "layout": "IPY_MODEL_d777bf95d3014372bbee9a4059ad213e"
     }
    },
    "811cbba2872b46889148b7b433ceb79b": {
     "model_module": "@jupyter-widgets/base",
     "model_module_version": "1.2.0",
     "model_name": "LayoutModel",
     "state": {
      "_model_module": "@jupyter-widgets/base",
      "_model_module_version": "1.2.0",
      "_model_name": "LayoutModel",
      "_view_count": null,
      "_view_module": "@jupyter-widgets/base",
      "_view_module_version": "1.2.0",
      "_view_name": "LayoutView",
      "align_content": null,
      "align_items": null,
      "align_self": null,
      "border": null,
      "bottom": null,
      "display": null,
      "flex": null,
      "flex_flow": null,
      "grid_area": null,
      "grid_auto_columns": null,
      "grid_auto_flow": null,
      "grid_auto_rows": null,
      "grid_column": null,
      "grid_gap": null,
      "grid_row": null,
      "grid_template_areas": null,
      "grid_template_columns": null,
      "grid_template_rows": null,
      "height": null,
      "justify_content": null,
      "justify_items": null,
      "left": null,
      "margin": null,
      "max_height": null,
      "max_width": null,
      "min_height": null,
      "min_width": null,
      "object_fit": null,
      "object_position": null,
      "order": null,
      "overflow": null,
      "overflow_x": null,
      "overflow_y": null,
      "padding": null,
      "right": null,
      "top": null,
      "visibility": null,
      "width": null
     }
    },
    "852cc73746d947bfa8f0fe0580040122": {
     "model_module": "@jupyter-widgets/controls",
     "model_module_version": "1.5.0",
     "model_name": "HTMLModel",
     "state": {
      "_dom_classes": [],
      "_model_module": "@jupyter-widgets/controls",
      "_model_module_version": "1.5.0",
      "_model_name": "HTMLModel",
      "_view_count": null,
      "_view_module": "@jupyter-widgets/controls",
      "_view_module_version": "1.5.0",
      "_view_name": "HTMLView",
      "description": "",
      "description_tooltip": null,
      "layout": "IPY_MODEL_1373d297e6d248bd995e0f84f2cf49bc",
      "placeholder": "​",
      "style": "IPY_MODEL_0ed00727060b4ae4ac37baede59dc6ad",
      "value": " 711k/711k [00:00&lt;00:00, 1.72MB/s]"
     }
    },
    "853ce32a8e6745299a49d47b7020d0e5": {
     "model_module": "@jupyter-widgets/base",
     "model_module_version": "1.2.0",
     "model_name": "LayoutModel",
     "state": {
      "_model_module": "@jupyter-widgets/base",
      "_model_module_version": "1.2.0",
      "_model_name": "LayoutModel",
      "_view_count": null,
      "_view_module": "@jupyter-widgets/base",
      "_view_module_version": "1.2.0",
      "_view_name": "LayoutView",
      "align_content": null,
      "align_items": null,
      "align_self": null,
      "border": null,
      "bottom": null,
      "display": null,
      "flex": null,
      "flex_flow": null,
      "grid_area": null,
      "grid_auto_columns": null,
      "grid_auto_flow": null,
      "grid_auto_rows": null,
      "grid_column": null,
      "grid_gap": null,
      "grid_row": null,
      "grid_template_areas": null,
      "grid_template_columns": null,
      "grid_template_rows": null,
      "height": null,
      "justify_content": null,
      "justify_items": null,
      "left": null,
      "margin": null,
      "max_height": null,
      "max_width": null,
      "min_height": null,
      "min_width": null,
      "object_fit": null,
      "object_position": null,
      "order": null,
      "overflow": null,
      "overflow_x": null,
      "overflow_y": null,
      "padding": null,
      "right": null,
      "top": null,
      "visibility": null,
      "width": null
     }
    },
    "8581e6046fda47be8d67f5b880464ecb": {
     "model_module": "@jupyter-widgets/controls",
     "model_module_version": "1.5.0",
     "model_name": "ProgressStyleModel",
     "state": {
      "_model_module": "@jupyter-widgets/controls",
      "_model_module_version": "1.5.0",
      "_model_name": "ProgressStyleModel",
      "_view_count": null,
      "_view_module": "@jupyter-widgets/base",
      "_view_module_version": "1.2.0",
      "_view_name": "StyleView",
      "bar_color": null,
      "description_width": ""
     }
    },
    "93e85fec634c48bbb7ea527b4964f69e": {
     "model_module": "@jupyter-widgets/controls",
     "model_module_version": "1.5.0",
     "model_name": "DescriptionStyleModel",
     "state": {
      "_model_module": "@jupyter-widgets/controls",
      "_model_module_version": "1.5.0",
      "_model_name": "DescriptionStyleModel",
      "_view_count": null,
      "_view_module": "@jupyter-widgets/base",
      "_view_module_version": "1.2.0",
      "_view_name": "StyleView",
      "description_width": ""
     }
    },
    "9482ad564a4e481c810e9ea7a88f4f68": {
     "model_module": "@jupyter-widgets/controls",
     "model_module_version": "1.5.0",
     "model_name": "HBoxModel",
     "state": {
      "_dom_classes": [],
      "_model_module": "@jupyter-widgets/controls",
      "_model_module_version": "1.5.0",
      "_model_name": "HBoxModel",
      "_view_count": null,
      "_view_module": "@jupyter-widgets/controls",
      "_view_module_version": "1.5.0",
      "_view_name": "HBoxView",
      "box_style": "",
      "children": [
       "IPY_MODEL_06268a39222f4bab9c14d237ac431494",
       "IPY_MODEL_998c5bbf48d34e03ad5245d7809b3f43",
       "IPY_MODEL_f85cdc1b2a1940ea9af7409e49efc3b6"
      ],
      "layout": "IPY_MODEL_4dfab088d3eb421da9cd630e247f5635"
     }
    },
    "98374c497cbf49c88c23af7da7f6e3bf": {
     "model_module": "@jupyter-widgets/controls",
     "model_module_version": "1.5.0",
     "model_name": "DescriptionStyleModel",
     "state": {
      "_model_module": "@jupyter-widgets/controls",
      "_model_module_version": "1.5.0",
      "_model_name": "DescriptionStyleModel",
      "_view_count": null,
      "_view_module": "@jupyter-widgets/base",
      "_view_module_version": "1.2.0",
      "_view_name": "StyleView",
      "description_width": ""
     }
    },
    "998c5bbf48d34e03ad5245d7809b3f43": {
     "model_module": "@jupyter-widgets/controls",
     "model_module_version": "1.5.0",
     "model_name": "FloatProgressModel",
     "state": {
      "_dom_classes": [],
      "_model_module": "@jupyter-widgets/controls",
      "_model_module_version": "1.5.0",
      "_model_name": "FloatProgressModel",
      "_view_count": null,
      "_view_module": "@jupyter-widgets/controls",
      "_view_module_version": "1.5.0",
      "_view_name": "ProgressView",
      "bar_style": "success",
      "description": "",
      "description_tooltip": null,
      "layout": "IPY_MODEL_be96f2098a334d13a5bd7f1e036a7517",
      "max": 695,
      "min": 0,
      "orientation": "horizontal",
      "style": "IPY_MODEL_51baf8b425d742c5b14ca4acefb3d850",
      "value": 695
     }
    },
    "9d7dc9afe03e426e9cc35093dec01523": {
     "model_module": "@jupyter-widgets/base",
     "model_module_version": "1.2.0",
     "model_name": "LayoutModel",
     "state": {
      "_model_module": "@jupyter-widgets/base",
      "_model_module_version": "1.2.0",
      "_model_name": "LayoutModel",
      "_view_count": null,
      "_view_module": "@jupyter-widgets/base",
      "_view_module_version": "1.2.0",
      "_view_name": "LayoutView",
      "align_content": null,
      "align_items": null,
      "align_self": null,
      "border": null,
      "bottom": null,
      "display": null,
      "flex": null,
      "flex_flow": null,
      "grid_area": null,
      "grid_auto_columns": null,
      "grid_auto_flow": null,
      "grid_auto_rows": null,
      "grid_column": null,
      "grid_gap": null,
      "grid_row": null,
      "grid_template_areas": null,
      "grid_template_columns": null,
      "grid_template_rows": null,
      "height": null,
      "justify_content": null,
      "justify_items": null,
      "left": null,
      "margin": null,
      "max_height": null,
      "max_width": null,
      "min_height": null,
      "min_width": null,
      "object_fit": null,
      "object_position": null,
      "order": null,
      "overflow": null,
      "overflow_x": null,
      "overflow_y": null,
      "padding": null,
      "right": null,
      "top": null,
      "visibility": null,
      "width": null
     }
    },
    "9f30dab191654ddeb1e7f0b5867c5563": {
     "model_module": "@jupyter-widgets/base",
     "model_module_version": "1.2.0",
     "model_name": "LayoutModel",
     "state": {
      "_model_module": "@jupyter-widgets/base",
      "_model_module_version": "1.2.0",
      "_model_name": "LayoutModel",
      "_view_count": null,
      "_view_module": "@jupyter-widgets/base",
      "_view_module_version": "1.2.0",
      "_view_name": "LayoutView",
      "align_content": null,
      "align_items": null,
      "align_self": null,
      "border": null,
      "bottom": null,
      "display": null,
      "flex": null,
      "flex_flow": null,
      "grid_area": null,
      "grid_auto_columns": null,
      "grid_auto_flow": null,
      "grid_auto_rows": null,
      "grid_column": null,
      "grid_gap": null,
      "grid_row": null,
      "grid_template_areas": null,
      "grid_template_columns": null,
      "grid_template_rows": null,
      "height": null,
      "justify_content": null,
      "justify_items": null,
      "left": null,
      "margin": null,
      "max_height": null,
      "max_width": null,
      "min_height": null,
      "min_width": null,
      "object_fit": null,
      "object_position": null,
      "order": null,
      "overflow": null,
      "overflow_x": null,
      "overflow_y": null,
      "padding": null,
      "right": null,
      "top": null,
      "visibility": null,
      "width": null
     }
    },
    "9f3ff548312b4f02903c46ec245fbf12": {
     "model_module": "@jupyter-widgets/base",
     "model_module_version": "1.2.0",
     "model_name": "LayoutModel",
     "state": {
      "_model_module": "@jupyter-widgets/base",
      "_model_module_version": "1.2.0",
      "_model_name": "LayoutModel",
      "_view_count": null,
      "_view_module": "@jupyter-widgets/base",
      "_view_module_version": "1.2.0",
      "_view_name": "LayoutView",
      "align_content": null,
      "align_items": null,
      "align_self": null,
      "border": null,
      "bottom": null,
      "display": null,
      "flex": null,
      "flex_flow": null,
      "grid_area": null,
      "grid_auto_columns": null,
      "grid_auto_flow": null,
      "grid_auto_rows": null,
      "grid_column": null,
      "grid_gap": null,
      "grid_row": null,
      "grid_template_areas": null,
      "grid_template_columns": null,
      "grid_template_rows": null,
      "height": null,
      "justify_content": null,
      "justify_items": null,
      "left": null,
      "margin": null,
      "max_height": null,
      "max_width": null,
      "min_height": null,
      "min_width": null,
      "object_fit": null,
      "object_position": null,
      "order": null,
      "overflow": null,
      "overflow_x": null,
      "overflow_y": null,
      "padding": null,
      "right": null,
      "top": null,
      "visibility": null,
      "width": null
     }
    },
    "b56bc227b62240eebbc1fd5feebdcd9a": {
     "model_module": "@jupyter-widgets/controls",
     "model_module_version": "1.5.0",
     "model_name": "ProgressStyleModel",
     "state": {
      "_model_module": "@jupyter-widgets/controls",
      "_model_module_version": "1.5.0",
      "_model_name": "ProgressStyleModel",
      "_view_count": null,
      "_view_module": "@jupyter-widgets/base",
      "_view_module_version": "1.2.0",
      "_view_name": "StyleView",
      "bar_color": null,
      "description_width": ""
     }
    },
    "bb4bf3818c6747a781dfe8cf18182dab": {
     "model_module": "@jupyter-widgets/controls",
     "model_module_version": "1.5.0",
     "model_name": "DescriptionStyleModel",
     "state": {
      "_model_module": "@jupyter-widgets/controls",
      "_model_module_version": "1.5.0",
      "_model_name": "DescriptionStyleModel",
      "_view_count": null,
      "_view_module": "@jupyter-widgets/base",
      "_view_module_version": "1.2.0",
      "_view_name": "StyleView",
      "description_width": ""
     }
    },
    "be96f2098a334d13a5bd7f1e036a7517": {
     "model_module": "@jupyter-widgets/base",
     "model_module_version": "1.2.0",
     "model_name": "LayoutModel",
     "state": {
      "_model_module": "@jupyter-widgets/base",
      "_model_module_version": "1.2.0",
      "_model_name": "LayoutModel",
      "_view_count": null,
      "_view_module": "@jupyter-widgets/base",
      "_view_module_version": "1.2.0",
      "_view_name": "LayoutView",
      "align_content": null,
      "align_items": null,
      "align_self": null,
      "border": null,
      "bottom": null,
      "display": null,
      "flex": null,
      "flex_flow": null,
      "grid_area": null,
      "grid_auto_columns": null,
      "grid_auto_flow": null,
      "grid_auto_rows": null,
      "grid_column": null,
      "grid_gap": null,
      "grid_row": null,
      "grid_template_areas": null,
      "grid_template_columns": null,
      "grid_template_rows": null,
      "height": null,
      "justify_content": null,
      "justify_items": null,
      "left": null,
      "margin": null,
      "max_height": null,
      "max_width": null,
      "min_height": null,
      "min_width": null,
      "object_fit": null,
      "object_position": null,
      "order": null,
      "overflow": null,
      "overflow_x": null,
      "overflow_y": null,
      "padding": null,
      "right": null,
      "top": null,
      "visibility": null,
      "width": null
     }
    },
    "c38b1f2464ee483bb2077b9c35ef979e": {
     "model_module": "@jupyter-widgets/base",
     "model_module_version": "1.2.0",
     "model_name": "LayoutModel",
     "state": {
      "_model_module": "@jupyter-widgets/base",
      "_model_module_version": "1.2.0",
      "_model_name": "LayoutModel",
      "_view_count": null,
      "_view_module": "@jupyter-widgets/base",
      "_view_module_version": "1.2.0",
      "_view_name": "LayoutView",
      "align_content": null,
      "align_items": null,
      "align_self": null,
      "border": null,
      "bottom": null,
      "display": null,
      "flex": null,
      "flex_flow": null,
      "grid_area": null,
      "grid_auto_columns": null,
      "grid_auto_flow": null,
      "grid_auto_rows": null,
      "grid_column": null,
      "grid_gap": null,
      "grid_row": null,
      "grid_template_areas": null,
      "grid_template_columns": null,
      "grid_template_rows": null,
      "height": null,
      "justify_content": null,
      "justify_items": null,
      "left": null,
      "margin": null,
      "max_height": null,
      "max_width": null,
      "min_height": null,
      "min_width": null,
      "object_fit": null,
      "object_position": null,
      "order": null,
      "overflow": null,
      "overflow_x": null,
      "overflow_y": null,
      "padding": null,
      "right": null,
      "top": null,
      "visibility": null,
      "width": null
     }
    },
    "ccdc6c493e1e4ecf879795df123d9316": {
     "model_module": "@jupyter-widgets/base",
     "model_module_version": "1.2.0",
     "model_name": "LayoutModel",
     "state": {
      "_model_module": "@jupyter-widgets/base",
      "_model_module_version": "1.2.0",
      "_model_name": "LayoutModel",
      "_view_count": null,
      "_view_module": "@jupyter-widgets/base",
      "_view_module_version": "1.2.0",
      "_view_name": "LayoutView",
      "align_content": null,
      "align_items": null,
      "align_self": null,
      "border": null,
      "bottom": null,
      "display": null,
      "flex": null,
      "flex_flow": null,
      "grid_area": null,
      "grid_auto_columns": null,
      "grid_auto_flow": null,
      "grid_auto_rows": null,
      "grid_column": null,
      "grid_gap": null,
      "grid_row": null,
      "grid_template_areas": null,
      "grid_template_columns": null,
      "grid_template_rows": null,
      "height": null,
      "justify_content": null,
      "justify_items": null,
      "left": null,
      "margin": null,
      "max_height": null,
      "max_width": null,
      "min_height": null,
      "min_width": null,
      "object_fit": null,
      "object_position": null,
      "order": null,
      "overflow": null,
      "overflow_x": null,
      "overflow_y": null,
      "padding": null,
      "right": null,
      "top": null,
      "visibility": null,
      "width": null
     }
    },
    "d0ace2f93b3c4e48a104167343441180": {
     "model_module": "@jupyter-widgets/base",
     "model_module_version": "1.2.0",
     "model_name": "LayoutModel",
     "state": {
      "_model_module": "@jupyter-widgets/base",
      "_model_module_version": "1.2.0",
      "_model_name": "LayoutModel",
      "_view_count": null,
      "_view_module": "@jupyter-widgets/base",
      "_view_module_version": "1.2.0",
      "_view_name": "LayoutView",
      "align_content": null,
      "align_items": null,
      "align_self": null,
      "border": null,
      "bottom": null,
      "display": null,
      "flex": null,
      "flex_flow": null,
      "grid_area": null,
      "grid_auto_columns": null,
      "grid_auto_flow": null,
      "grid_auto_rows": null,
      "grid_column": null,
      "grid_gap": null,
      "grid_row": null,
      "grid_template_areas": null,
      "grid_template_columns": null,
      "grid_template_rows": null,
      "height": null,
      "justify_content": null,
      "justify_items": null,
      "left": null,
      "margin": null,
      "max_height": null,
      "max_width": null,
      "min_height": null,
      "min_width": null,
      "object_fit": null,
      "object_position": null,
      "order": null,
      "overflow": null,
      "overflow_x": null,
      "overflow_y": null,
      "padding": null,
      "right": null,
      "top": null,
      "visibility": null,
      "width": null
     }
    },
    "d45ff23447c24c9c98c77658e13dac88": {
     "model_module": "@jupyter-widgets/controls",
     "model_module_version": "1.5.0",
     "model_name": "HTMLModel",
     "state": {
      "_dom_classes": [],
      "_model_module": "@jupyter-widgets/controls",
      "_model_module_version": "1.5.0",
      "_model_name": "HTMLModel",
      "_view_count": null,
      "_view_module": "@jupyter-widgets/controls",
      "_view_module_version": "1.5.0",
      "_view_name": "HTMLView",
      "description": "",
      "description_tooltip": null,
      "layout": "IPY_MODEL_e0cbfcd9b5ca4654a6253bb984b48baf",
      "placeholder": "​",
      "style": "IPY_MODEL_98374c497cbf49c88c23af7da7f6e3bf",
      "value": "config.json: 100%"
     }
    },
    "d4d6b5f824ce4047a195aef2b88b3cb9": {
     "model_module": "@jupyter-widgets/base",
     "model_module_version": "1.2.0",
     "model_name": "LayoutModel",
     "state": {
      "_model_module": "@jupyter-widgets/base",
      "_model_module_version": "1.2.0",
      "_model_name": "LayoutModel",
      "_view_count": null,
      "_view_module": "@jupyter-widgets/base",
      "_view_module_version": "1.2.0",
      "_view_name": "LayoutView",
      "align_content": null,
      "align_items": null,
      "align_self": null,
      "border": null,
      "bottom": null,
      "display": null,
      "flex": null,
      "flex_flow": null,
      "grid_area": null,
      "grid_auto_columns": null,
      "grid_auto_flow": null,
      "grid_auto_rows": null,
      "grid_column": null,
      "grid_gap": null,
      "grid_row": null,
      "grid_template_areas": null,
      "grid_template_columns": null,
      "grid_template_rows": null,
      "height": null,
      "justify_content": null,
      "justify_items": null,
      "left": null,
      "margin": null,
      "max_height": null,
      "max_width": null,
      "min_height": null,
      "min_width": null,
      "object_fit": null,
      "object_position": null,
      "order": null,
      "overflow": null,
      "overflow_x": null,
      "overflow_y": null,
      "padding": null,
      "right": null,
      "top": null,
      "visibility": null,
      "width": null
     }
    },
    "d777bf95d3014372bbee9a4059ad213e": {
     "model_module": "@jupyter-widgets/base",
     "model_module_version": "1.2.0",
     "model_name": "LayoutModel",
     "state": {
      "_model_module": "@jupyter-widgets/base",
      "_model_module_version": "1.2.0",
      "_model_name": "LayoutModel",
      "_view_count": null,
      "_view_module": "@jupyter-widgets/base",
      "_view_module_version": "1.2.0",
      "_view_name": "LayoutView",
      "align_content": null,
      "align_items": null,
      "align_self": null,
      "border": null,
      "bottom": null,
      "display": null,
      "flex": null,
      "flex_flow": null,
      "grid_area": null,
      "grid_auto_columns": null,
      "grid_auto_flow": null,
      "grid_auto_rows": null,
      "grid_column": null,
      "grid_gap": null,
      "grid_row": null,
      "grid_template_areas": null,
      "grid_template_columns": null,
      "grid_template_rows": null,
      "height": null,
      "justify_content": null,
      "justify_items": null,
      "left": null,
      "margin": null,
      "max_height": null,
      "max_width": null,
      "min_height": null,
      "min_width": null,
      "object_fit": null,
      "object_position": null,
      "order": null,
      "overflow": null,
      "overflow_x": null,
      "overflow_y": null,
      "padding": null,
      "right": null,
      "top": null,
      "visibility": null,
      "width": null
     }
    },
    "d92071debeb349ffbab5c64dcf344d69": {
     "model_module": "@jupyter-widgets/controls",
     "model_module_version": "1.5.0",
     "model_name": "HTMLModel",
     "state": {
      "_dom_classes": [],
      "_model_module": "@jupyter-widgets/controls",
      "_model_module_version": "1.5.0",
      "_model_name": "HTMLModel",
      "_view_count": null,
      "_view_module": "@jupyter-widgets/controls",
      "_view_module_version": "1.5.0",
      "_view_name": "HTMLView",
      "description": "",
      "description_tooltip": null,
      "layout": "IPY_MODEL_379a3fee168b4fd4b82c3169a48533c4",
      "placeholder": "​",
      "style": "IPY_MODEL_4303f0e715cd4f359e62310f38003599",
      "value": "tokenizer.json: 100%"
     }
    },
    "d9bf2742578c4cf1a042afddaef65c92": {
     "model_module": "@jupyter-widgets/controls",
     "model_module_version": "1.5.0",
     "model_name": "DescriptionStyleModel",
     "state": {
      "_model_module": "@jupyter-widgets/controls",
      "_model_module_version": "1.5.0",
      "_model_name": "DescriptionStyleModel",
      "_view_count": null,
      "_view_module": "@jupyter-widgets/base",
      "_view_module_version": "1.2.0",
      "_view_name": "StyleView",
      "description_width": ""
     }
    },
    "e0cbfcd9b5ca4654a6253bb984b48baf": {
     "model_module": "@jupyter-widgets/base",
     "model_module_version": "1.2.0",
     "model_name": "LayoutModel",
     "state": {
      "_model_module": "@jupyter-widgets/base",
      "_model_module_version": "1.2.0",
      "_model_name": "LayoutModel",
      "_view_count": null,
      "_view_module": "@jupyter-widgets/base",
      "_view_module_version": "1.2.0",
      "_view_name": "LayoutView",
      "align_content": null,
      "align_items": null,
      "align_self": null,
      "border": null,
      "bottom": null,
      "display": null,
      "flex": null,
      "flex_flow": null,
      "grid_area": null,
      "grid_auto_columns": null,
      "grid_auto_flow": null,
      "grid_auto_rows": null,
      "grid_column": null,
      "grid_gap": null,
      "grid_row": null,
      "grid_template_areas": null,
      "grid_template_columns": null,
      "grid_template_rows": null,
      "height": null,
      "justify_content": null,
      "justify_items": null,
      "left": null,
      "margin": null,
      "max_height": null,
      "max_width": null,
      "min_height": null,
      "min_width": null,
      "object_fit": null,
      "object_position": null,
      "order": null,
      "overflow": null,
      "overflow_x": null,
      "overflow_y": null,
      "padding": null,
      "right": null,
      "top": null,
      "visibility": null,
      "width": null
     }
    },
    "e356d430628f46b98072fd71df518154": {
     "model_module": "@jupyter-widgets/controls",
     "model_module_version": "1.5.0",
     "model_name": "HBoxModel",
     "state": {
      "_dom_classes": [],
      "_model_module": "@jupyter-widgets/controls",
      "_model_module_version": "1.5.0",
      "_model_name": "HBoxModel",
      "_view_count": null,
      "_view_module": "@jupyter-widgets/controls",
      "_view_module_version": "1.5.0",
      "_view_name": "HBoxView",
      "box_style": "",
      "children": [
       "IPY_MODEL_d45ff23447c24c9c98c77658e13dac88",
       "IPY_MODEL_6739182ed33e452ebb0ae33f20dc25ba",
       "IPY_MODEL_1fc0a2e7568d4380aa40cc21c80bf266"
      ],
      "layout": "IPY_MODEL_ccdc6c493e1e4ecf879795df123d9316"
     }
    },
    "e80c0655a5c549b28c3fa50eff1e240f": {
     "model_module": "@jupyter-widgets/controls",
     "model_module_version": "1.5.0",
     "model_name": "ProgressStyleModel",
     "state": {
      "_model_module": "@jupyter-widgets/controls",
      "_model_module_version": "1.5.0",
      "_model_name": "ProgressStyleModel",
      "_view_count": null,
      "_view_module": "@jupyter-widgets/base",
      "_view_module_version": "1.2.0",
      "_view_name": "StyleView",
      "bar_color": null,
      "description_width": ""
     }
    },
    "e96c29c59be64418903388ba0e643238": {
     "model_module": "@jupyter-widgets/controls",
     "model_module_version": "1.5.0",
     "model_name": "DescriptionStyleModel",
     "state": {
      "_model_module": "@jupyter-widgets/controls",
      "_model_module_version": "1.5.0",
      "_model_name": "DescriptionStyleModel",
      "_view_count": null,
      "_view_module": "@jupyter-widgets/base",
      "_view_module_version": "1.2.0",
      "_view_name": "StyleView",
      "description_width": ""
     }
    },
    "eb13d2c7b3bb4a9b9d95c726ff891537": {
     "model_module": "@jupyter-widgets/controls",
     "model_module_version": "1.5.0",
     "model_name": "ProgressStyleModel",
     "state": {
      "_model_module": "@jupyter-widgets/controls",
      "_model_module_version": "1.5.0",
      "_model_name": "ProgressStyleModel",
      "_view_count": null,
      "_view_module": "@jupyter-widgets/base",
      "_view_module_version": "1.2.0",
      "_view_name": "StyleView",
      "bar_color": null,
      "description_width": ""
     }
    },
    "eb80f19a13d141d2a99c5c899edfe299": {
     "model_module": "@jupyter-widgets/base",
     "model_module_version": "1.2.0",
     "model_name": "LayoutModel",
     "state": {
      "_model_module": "@jupyter-widgets/base",
      "_model_module_version": "1.2.0",
      "_model_name": "LayoutModel",
      "_view_count": null,
      "_view_module": "@jupyter-widgets/base",
      "_view_module_version": "1.2.0",
      "_view_name": "LayoutView",
      "align_content": null,
      "align_items": null,
      "align_self": null,
      "border": null,
      "bottom": null,
      "display": null,
      "flex": null,
      "flex_flow": null,
      "grid_area": null,
      "grid_auto_columns": null,
      "grid_auto_flow": null,
      "grid_auto_rows": null,
      "grid_column": null,
      "grid_gap": null,
      "grid_row": null,
      "grid_template_areas": null,
      "grid_template_columns": null,
      "grid_template_rows": null,
      "height": null,
      "justify_content": null,
      "justify_items": null,
      "left": null,
      "margin": null,
      "max_height": null,
      "max_width": null,
      "min_height": null,
      "min_width": null,
      "object_fit": null,
      "object_position": null,
      "order": null,
      "overflow": null,
      "overflow_x": null,
      "overflow_y": null,
      "padding": null,
      "right": null,
      "top": null,
      "visibility": null,
      "width": null
     }
    },
    "ed260797bf364d2da1e309657387fc03": {
     "model_module": "@jupyter-widgets/controls",
     "model_module_version": "1.5.0",
     "model_name": "DescriptionStyleModel",
     "state": {
      "_model_module": "@jupyter-widgets/controls",
      "_model_module_version": "1.5.0",
      "_model_name": "DescriptionStyleModel",
      "_view_count": null,
      "_view_module": "@jupyter-widgets/base",
      "_view_module_version": "1.2.0",
      "_view_name": "StyleView",
      "description_width": ""
     }
    },
    "ee70f7d9f33b4020be285ebdf8f61862": {
     "model_module": "@jupyter-widgets/controls",
     "model_module_version": "1.5.0",
     "model_name": "FloatProgressModel",
     "state": {
      "_dom_classes": [],
      "_model_module": "@jupyter-widgets/controls",
      "_model_module_version": "1.5.0",
      "_model_name": "FloatProgressModel",
      "_view_count": null,
      "_view_module": "@jupyter-widgets/controls",
      "_view_module_version": "1.5.0",
      "_view_name": "ProgressView",
      "bar_style": "success",
      "description": "",
      "description_tooltip": null,
      "layout": "IPY_MODEL_c38b1f2464ee483bb2077b9c35ef979e",
      "max": 217824172,
      "min": 0,
      "orientation": "horizontal",
      "style": "IPY_MODEL_eb13d2c7b3bb4a9b9d95c726ff891537",
      "value": 217824172
     }
    },
    "ee988f87cce44dea9b37488b76bd790e": {
     "model_module": "@jupyter-widgets/controls",
     "model_module_version": "1.5.0",
     "model_name": "HTMLModel",
     "state": {
      "_dom_classes": [],
      "_model_module": "@jupyter-widgets/controls",
      "_model_module_version": "1.5.0",
      "_model_name": "HTMLModel",
      "_view_count": null,
      "_view_module": "@jupyter-widgets/controls",
      "_view_module_version": "1.5.0",
      "_view_name": "HTMLView",
      "description": "",
      "description_tooltip": null,
      "layout": "IPY_MODEL_9f30dab191654ddeb1e7f0b5867c5563",
      "placeholder": "​",
      "style": "IPY_MODEL_52fe8c1f17df4481a92496dedab47277",
      "value": " 218M/218M [00:05&lt;00:00, 42.0MB/s]"
     }
    },
    "f3063b3bfc7f4498a19e06d93adc7618": {
     "model_module": "@jupyter-widgets/controls",
     "model_module_version": "1.5.0",
     "model_name": "HBoxModel",
     "state": {
      "_dom_classes": [],
      "_model_module": "@jupyter-widgets/controls",
      "_model_module_version": "1.5.0",
      "_model_name": "HBoxModel",
      "_view_count": null,
      "_view_module": "@jupyter-widgets/controls",
      "_view_module_version": "1.5.0",
      "_view_name": "HBoxView",
      "box_style": "",
      "children": [
       "IPY_MODEL_732dc4b21a8e4002b1951ba47beb60aa",
       "IPY_MODEL_7b0f8c13ae4246b7990690540a94311a",
       "IPY_MODEL_095e8720fc124ddf972305a3410a4e1a"
      ],
      "layout": "IPY_MODEL_1e18e6bdf4554c03a10e461a41f7b529"
     }
    },
    "f85cdc1b2a1940ea9af7409e49efc3b6": {
     "model_module": "@jupyter-widgets/controls",
     "model_module_version": "1.5.0",
     "model_name": "HTMLModel",
     "state": {
      "_dom_classes": [],
      "_model_module": "@jupyter-widgets/controls",
      "_model_module_version": "1.5.0",
      "_model_name": "HTMLModel",
      "_view_count": null,
      "_view_module": "@jupyter-widgets/controls",
      "_view_module_version": "1.5.0",
      "_view_name": "HTMLView",
      "description": "",
      "description_tooltip": null,
      "layout": "IPY_MODEL_1b1ebc3badac428ca835ee90ebda9f22",
      "placeholder": "​",
      "style": "IPY_MODEL_e96c29c59be64418903388ba0e643238",
      "value": " 695/695 [00:00&lt;00:00, 4.54kB/s]"
     }
    },
    "f8996b0d2bbe4c559c39e30ae3ac2bf0": {
     "model_module": "@jupyter-widgets/controls",
     "model_module_version": "1.5.0",
     "model_name": "HTMLModel",
     "state": {
      "_dom_classes": [],
      "_model_module": "@jupyter-widgets/controls",
      "_model_module_version": "1.5.0",
      "_model_name": "HTMLModel",
      "_view_count": null,
      "_view_module": "@jupyter-widgets/controls",
      "_view_module_version": "1.5.0",
      "_view_name": "HTMLView",
      "description": "",
      "description_tooltip": null,
      "layout": "IPY_MODEL_853ce32a8e6745299a49d47b7020d0e5",
      "placeholder": "​",
      "style": "IPY_MODEL_ed260797bf364d2da1e309657387fc03",
      "value": "tokenizer_config.json: 100%"
     }
    }
   }
  }
 },
 "nbformat": 4,
 "nbformat_minor": 0
}
